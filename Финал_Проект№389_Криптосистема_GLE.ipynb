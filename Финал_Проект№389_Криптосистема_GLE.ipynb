{
  "nbformat": 4,
  "nbformat_minor": 0,
  "metadata": {
    "colab": {
      "name": "Финал Проект№389 Криптосистема GLE",
      "provenance": [],
      "collapsed_sections": [],
      "include_colab_link": true
    },
    "kernelspec": {
      "name": "python3",
      "display_name": "Python 3"
    }
  },
  "cells": [
    {
      "cell_type": "markdown",
      "metadata": {
        "id": "view-in-github",
        "colab_type": "text"
      },
      "source": [
        "<a href=\"https://colab.research.google.com/github/MarioAuditore/gel_code_cryptosystem/blob/main/%D0%A4%D0%B8%D0%BD%D0%B0%D0%BB_%D0%9F%D1%80%D0%BE%D0%B5%D0%BA%D1%82%E2%84%96389_%D0%9A%D1%80%D0%B8%D0%BF%D1%82%D0%BE%D1%81%D0%B8%D1%81%D1%82%D0%B5%D0%BC%D0%B0_GLE.ipynb\" target=\"_parent\"><img src=\"https://colab.research.google.com/assets/colab-badge.svg\" alt=\"Open In Colab\"/></a>"
      ]
    },
    {
      "cell_type": "markdown",
      "metadata": {
        "id": "JDoONfhYZXK5"
      },
      "source": [
        "#Принцип работы\n",
        "https://docs.google.com/document/d/1wZh7OQzCrNuyKjhjgMV4VcaFkr9LenT3ZpGOFUlGOcE/edit?usp=sharing"
      ]
    },
    {
      "cell_type": "code",
      "metadata": {
        "colab": {
          "base_uri": "https://localhost:8080/"
        },
        "id": "BAQXMZ5A-cfG",
        "outputId": "0e4be1c8-dacc-4362-8b25-c7c112e7951c"
      },
      "source": [
        "pip install --upgrade unireedsolomon"
      ],
      "execution_count": null,
      "outputs": [
        {
          "output_type": "stream",
          "name": "stdout",
          "text": [
            "Requirement already satisfied: unireedsolomon in /usr/local/lib/python3.7/dist-packages (1.0.5)\n"
          ]
        }
      ]
    },
    {
      "cell_type": "code",
      "metadata": {
        "colab": {
          "base_uri": "https://localhost:8080/"
        },
        "id": "uMtvWWd9dP1P",
        "outputId": "fb34c058-bb76-485d-9fe1-4ce528e94e15"
      },
      "source": [
        "pip install galois"
      ],
      "execution_count": null,
      "outputs": [
        {
          "output_type": "stream",
          "name": "stdout",
          "text": [
            "Requirement already satisfied: galois in /usr/local/lib/python3.7/dist-packages (0.0.21)\n",
            "Requirement already satisfied: numpy<1.21,>=1.17.3 in /usr/local/lib/python3.7/dist-packages (from galois) (1.20.0)\n",
            "Requirement already satisfied: numba<0.54,>=0.53 in /usr/local/lib/python3.7/dist-packages (from galois) (0.53.1)\n",
            "Requirement already satisfied: llvmlite<0.37,>=0.36.0rc1 in /usr/local/lib/python3.7/dist-packages (from numba<0.54,>=0.53->galois) (0.36.0)\n",
            "Requirement already satisfied: setuptools in /usr/local/lib/python3.7/dist-packages (from numba<0.54,>=0.53->galois) (57.4.0)\n"
          ]
        }
      ]
    },
    {
      "cell_type": "code",
      "metadata": {
        "id": "8hf74-smxEh3"
      },
      "source": [
        "# проблемы с numba, которая есть в Galois\n",
        "# ей нужна особая версия numpy, а galois устанавливает новейшую по умолчанию"
      ],
      "execution_count": null,
      "outputs": []
    },
    {
      "cell_type": "code",
      "metadata": {
        "colab": {
          "base_uri": "https://localhost:8080/"
        },
        "id": "hvFltiDFBCEv",
        "outputId": "3d42303d-40cd-4e65-be96-211f33ef74ae"
      },
      "source": [
        "pip install --upgrade numpy==1.20"
      ],
      "execution_count": null,
      "outputs": [
        {
          "output_type": "stream",
          "name": "stdout",
          "text": [
            "Requirement already satisfied: numpy==1.20 in /usr/local/lib/python3.7/dist-packages (1.20.0)\n"
          ]
        }
      ]
    },
    {
      "cell_type": "markdown",
      "metadata": {
        "id": "a68fvnunoIT4"
      },
      "source": [
        "#Определим избыточность внешних кодов.\n"
      ]
    },
    {
      "cell_type": "code",
      "metadata": {
        "id": "L81oQt3ZLUCf"
      },
      "source": [
        "import galois\n",
        "import numpy as np\n",
        "#---------------------\n",
        "import math\n",
        "from array import array\n",
        "import random\n",
        "#---------------------\n",
        "import unireedsolomon as rs\n",
        "from unireedsolomon import polynomial as pl\n",
        "from unireedsolomon import ff\n",
        "#---------------------"
      ],
      "execution_count": null,
      "outputs": []
    },
    {
      "cell_type": "code",
      "metadata": {
        "id": "qo2H63s3s3AM"
      },
      "source": [
        "def C(n, k):  # определим число перестановок\n",
        "    if 0 <= k <= n:\n",
        "        nn = 1\n",
        "        kk = 1\n",
        "        for t in range(1, min(k, n - k) + 1):\n",
        "            nn *= n\n",
        "            kk *= t\n",
        "            n -= 1\n",
        "        return nn // kk\n",
        "    else:\n",
        "        return 0"
      ],
      "execution_count": null,
      "outputs": []
    },
    {
      "cell_type": "code",
      "metadata": {
        "colab": {
          "base_uri": "https://localhost:8080/"
        },
        "id": "nxGcOKqzfz9H",
        "outputId": "a3c57d7c-1103-4da5-f42e-248b99fc21c3"
      },
      "source": [
        "# обработка вероятностей\n",
        "n_A = 8  # характеристика внутреннего кода (число строк или длина столбца) tA_j=rA_j/2   rA_j--число проверочных символов jго внутр кода\n",
        "L = int(np.ceil(n_A/2))  # Число вложенных, пока задается тут \n",
        "n_B = 255  # характеристика внешнего кода (число столбцов или длина строки)\n",
        "p = 0.0143  # заданная вероятность ошибки в канале\n",
        "p_f = 10**(-10)  # заказанная вероятность ошибки для внешнего кода\n",
        "\n",
        "p_A = [0]*L \n",
        "p_B = [0]*L\n",
        "t_B = np.array([0]*L)  # число ошибок\n",
        "r_B = np.array([1]*L)  # избыточность    \n",
        "\n",
        "def unoptimised_prob(p, stats = True):\n",
        "  #-------------------------------- вероятность ошибки в столбцах--------------\n",
        "  for j in range(len(p_A)):\n",
        "      sum_buffer = 0  # используем для хранения суммы\n",
        "      for i in range ((j+1),n_A+1):\n",
        "        sum_buffer += C(n_A,i)*pow(p,i)*pow((1-p),(n_A-i))\n",
        "      p_A[j] = sum_buffer\n",
        "      \n",
        "  if stats:\n",
        "    print('probability of errors in columns',p_A)\n",
        "  #----------------------------- вероятность ошибки внешнего кода-------------\n",
        "  for j in range(len(p_A)):  # сперва посчитаем все суммы, потом последовательно будем вычитать\n",
        "      sum_buffer = 0  # используем для хранения суммы\n",
        "      for i in range (1,n_B+1):\n",
        "        sum_buffer += C(n_B,i)*pow(p_A[j],i)*pow((1 - p_A[j]),(n_B-i))\n",
        "      p_B[j] = sum_buffer\n",
        "\n",
        "  if stats:\n",
        "    print('external code error probability ',p_B)\n",
        "  #------------------------------ поиск tb_j--------------\n",
        "  for j in range(len(p_B)):  # алгоритм такой: мы знаем итоговую сумму, надо найти наименьшее tb_j, \n",
        "    i = 1                    # значит просто будем вычитать первые элементы суммы\n",
        "    sum_buffer = p_B[j]\n",
        "    while (sum_buffer > (p_f/L)):\n",
        "      sum_buffer = sum_buffer - C(n_B,i)*(p_A[j])**i*(1 - p_A[j])**(n_B-i)\n",
        "      if (sum_buffer <= (p_f/L)):\n",
        "        t_B[j] = i\n",
        "        break\n",
        "      else:\n",
        "        i+=1\n",
        "  if stats:\n",
        "    print('t_B',t_B)\n",
        "  #----------------------поиск неоптимизированной избыточности---------------------\n",
        "  for j in range(L):\n",
        "    r_B[j] = min(2*t_B[j],n_B)\n",
        "\n",
        "  return p_A, p_B, t_B, r_B\n",
        "\n",
        "p_A, p_B, t_B, r_B = unoptimised_prob(p)\n",
        "\n",
        "print('r_B',r_B)\n",
        "print('p_A',p_A)"
      ],
      "execution_count": null,
      "outputs": [
        {
          "output_type": "stream",
          "name": "stdout",
          "text": [
            "probability of errors in columns [0.10883514170872288, 0.005406857455377933, 0.00015517273702557902, 2.7955604557531586e-06]\n",
            "external code error probability  [0.9999999999998265, 0.7490469703042475, 0.03879936864332032, 0.0007126148819753808]\n",
            "t_B [65 14  5  3]\n",
            "r_B [130  28  10   6]\n",
            "p_A [0.10883514170872288, 0.005406857455377933, 0.00015517273702557902, 2.7955604557531586e-06]\n"
          ]
        }
      ]
    },
    {
      "cell_type": "code",
      "metadata": {
        "id": "9TWscEndf6XK"
      },
      "source": [
        "#------------------- вероятность ошибки по заданной избыточности -----------------\n",
        "def error_probability(r_B,n_A,n_B,p,L):\n",
        "  p_A = [0]*L\n",
        "  p_B = [0]*L\n",
        "  for j in range(len(p_A)):\n",
        "    sum_buffer = 0  # используем для хранения суммы\n",
        "    for i in range ((j+1),n_A+1):\n",
        "      sum_buffer += C(n_A,i)*p**(i)*(1-p)**(n_A-i)\n",
        "    p_A[j] = sum_buffer\n",
        "\n",
        "  for j in range(len(p_A)):  # теперь вероятности для p_B\n",
        "    sum_buffer = 0  # используем для хранения суммы\n",
        "    i = math.ceil(r_B[j]/2)\n",
        "    while i <= n_B:\n",
        "      sum_buffer += C(n_B,i)*(p_A[j])**i*(1 - p_A[j])**(n_B-i)\n",
        "      i += 1\n",
        "    p_B[j] = sum_buffer\n",
        "  sum_buffer = 0\n",
        "  for j in range(len(p_B)):\n",
        "    sum_buffer += p_B[j]\n",
        "  return min(sum_buffer,1)"
      ],
      "execution_count": null,
      "outputs": []
    },
    {
      "cell_type": "code",
      "metadata": {
        "id": "YoPMkur_dVDU",
        "colab": {
          "base_uri": "https://localhost:8080/"
        },
        "outputId": "706f6aba-a7ad-48f6-c780-4002075d447e"
      },
      "source": [
        "#------------------------------оптимизация----------------------------------\n",
        "\n",
        "def optimised_code_params(p):\n",
        "\n",
        "  r_B_optimised = np.array([[0]*L]*L)\n",
        "  r_B_result = r_B\n",
        "  stop_flag = 0  # активируется, если набор r_B[j] не изменится после 2-ух итераций\n",
        "  r_B_previous = \"\"  # если наш алгоритм достигнет наилучшей вероятности, то он просто начнет \"скакать\", т.е. будет поочердно прибавлять и отнимать избыточность\n",
        "  p_variations = [0]*L  # будем хранить вероятности всех вариаций\n",
        "  p_min_index = 0  # индекс элемента с минимальной вероятностью\n",
        "\n",
        "  while stop_flag==0:\n",
        "    if error_probability(r_B_result,n_A,n_B,p,L) < p_f:  # если после наших махинаций вероятность будет больше, то нужно останавливаться. Заходим в увеличение избыточности и потом выходим\n",
        "      for j, row in enumerate(r_B_optimised):  \n",
        "        for k, item in enumerate(row):\n",
        "          if (j==k):\n",
        "            r_B_optimised[j][k] = (r_B_result[k] - 2)\n",
        "          else:\n",
        "            r_B_optimised[j][k] = r_B_result[k]\n",
        "      for j, item in enumerate(p_variations):\n",
        "        p_variations[j] = error_probability(r_B_optimised[j],n_A,n_B,p,L)\n",
        "      p_min_index = np.argmin(p_variations)\n",
        "      r_B_result = r_B_optimised[p_min_index]\n",
        "      r_B_previous = \"-2\"                               \n",
        "\n",
        "    elif error_probability(r_B_result,n_A,n_B,p,L) > p_f:\n",
        "      for j, row in enumerate(r_B_optimised):  \n",
        "        for k, item in enumerate(row):\n",
        "          if (j == k):\n",
        "            r_B_optimised[j][k] = (r_B_result[k] + 2)\n",
        "          else:\n",
        "            r_B_optimised[j][k] = r_B_result[k]\n",
        "      for j, item in enumerate(p_variations):  \n",
        "        p_variations[j] = error_probability(r_B_optimised[j],n_A,n_B,p,L)\n",
        "      p_min_index = np.argmin(p_variations)\n",
        "      r_B_result = r_B_optimised[p_min_index]\n",
        "      if r_B_previous == \"-2\":\n",
        "        stop_flag = 1\n",
        "      \n",
        "  return r_B_result\n",
        "      \n",
        "r_B_result = optimised_code_params(p)\n",
        "\n",
        "print('p_f =',p_f,', we got p =',error_probability(r_B_result,n_A,n_B,p,L))\n",
        "print(r_B,' - r_B')\n",
        "print(r_B_result,' - r_B_result')\n",
        "k = [n_B - i for i in r_B_result]  # запоминаем число информационных симолов, вместе с избыточностями"
      ],
      "execution_count": null,
      "outputs": [
        {
          "output_type": "stream",
          "name": "stdout",
          "text": [
            "p_f = 1e-10 , we got p = 5.541626373417708e-11\n",
            "[130  28  10   6]  - r_B\n",
            "[130  32  12   8]  - r_B_result\n"
          ]
        }
      ]
    },
    {
      "cell_type": "markdown",
      "metadata": {
        "id": "PADUVNTFsL3E"
      },
      "source": [
        "#Функции для ОЛО-кодов"
      ]
    },
    {
      "cell_type": "code",
      "metadata": {
        "id": "Z0uOZvR5C4az"
      },
      "source": [
        "#-----------генерация матрицы кода Рида-Соломона-------------\n",
        "def Generate_Reed_Solo_generic_matrix (n, k, gen, prime, c_exp):\n",
        "  coder = rs.RSCoder(n=n, k=k, generator=gen, prim=prime, fcr=1, c_exp=c_exp)\n",
        "  generic_poly = [int(i) for i in coder.g[k]]\n",
        "  G = []\n",
        "  print('generic polynomial =',generic_poly)\n",
        "  for i in range(n - len(generic_poly) + 1):\n",
        "    buf = [0] * i + generic_poly\n",
        "    buf = buf + [0] * (n - len(buf))\n",
        "    G.append(buf)\n",
        "  for i in range(1,len(G)):\n",
        "    j = 0\n",
        "    while j < i:\n",
        "      coef = G[j][i]\n",
        "      G[j] = [ff.GF2int(G[j][x]) - ff.GF2int(coef)*ff.GF2int(G[i][x]) for x in range(len(G[0]))]\n",
        "      j+=1\n",
        "  G[len(G) - 1] = [ff.GF2int(G[len(G) - 1][j]) for j in range(len(G[0]))]\n",
        "  return G"
      ],
      "execution_count": null,
      "outputs": []
    },
    {
      "cell_type": "code",
      "metadata": {
        "id": "8yqYH9A6qYsg"
      },
      "source": [
        "from numpy import linalg as LA\n",
        "import secrets  # для (криптографически) хорошей случайной генерации \n",
        "import random  # случайная генерация\n",
        "\n",
        "np.set_printoptions(suppress=True)\n",
        "\n",
        "#-----------для обработки ошибок list.index()-----------\n",
        "def index_of(val, in_list): \n",
        "    try:\n",
        "        return in_list.index(val)\n",
        "    except ValueError:\n",
        "        return -1 \n",
        "#-------для вставки нулей при обработке многочленов-----\n",
        "def insert_left(lst,n):\n",
        "  return [(0)]*(n - len(lst)) + [i for i in lst]\n",
        "#-----------переводим элементы матрицы в элементы поля---\n",
        "def matrix_to_GF(g): \n",
        "  result = []\n",
        "  for i in range(len(g)):\n",
        "    buf = [ff.GF2int(j) for j in g[i]]\n",
        "    result.append(buf)\n",
        "  \n",
        "  return result\n",
        "\n",
        "\n",
        "#-----------------генератор матриц для системы Мак-Элиса------------\n",
        "def McElise_matrices(g, GF, stats = False,calculate_s=False,calculate_p=False):\n",
        "    a = np.asarray(g).shape[0]      # алгоритм генерации сделан Данилом Кадочниковым СКБ-191\n",
        "    b = np.asarray(g).shape[1]\n",
        "    if stats:\n",
        "      print(\"Матрица G:\\n\", g, \"\\n\")\n",
        "      print(\"na = \", a, \", nb = \", b, \"\\n\", sep = '')\n",
        "    #=======невырожденная матрица===========\n",
        "    if calculate_s:  # если надо будет посчитать только невырожденную матрицу\n",
        "      s = GF(np.random.randint(2 **GF.degree, size = (a, a)))\n",
        "      while (LA.det(s) == 0):  # нам нужна невырожденная матрица, значит будем искать ее пока определитель не станет отличен от нуля\n",
        "        s = GF(np.random.randint(2, size = (a, a)))\n",
        "\n",
        "      if stats:\n",
        "        print(\"Матрица S:\")\n",
        "        print(s, \"\\n\")\n",
        "      if not calculate_p:\n",
        "        return s\n",
        "    #=======перестановочная матрица========\n",
        "    if calculate_p:\n",
        "      p = np.zeros((b, b), dtype = int)\n",
        "      positions_row = []\n",
        "      positions_column = []\n",
        "      for i in range(b):\n",
        "\n",
        "        # вычисляем ряды\n",
        "        j = secrets.randbelow(b)\n",
        "        while index_of(j,positions_row) != -1:\n",
        "          j = secrets.randbelow(b)\n",
        "        positions_row.append(j)\n",
        "\n",
        "        # вычисляем столбцы\n",
        "        q = secrets.randbelow(b)\n",
        "        while index_of(q,positions_column) != -1:\n",
        "          q = secrets.randbelow(b)\n",
        "        positions_column.append(q)\n",
        "\n",
        "      inverse1 = secrets.randbelow(2)\n",
        "      if inverse1 == 1:\n",
        "        positions_row = positions_row[::-1]\n",
        "      inverse2 = secrets.randbelow(2)\n",
        "      if inverse2 == 1:\n",
        "        positions_column = positions_column[::-1]\n",
        "\n",
        "      for i in range(b):\n",
        "        p[positions_row[i]][positions_column[i]] = 1\n",
        "    \n",
        "      p = GF(np.array(p,dtype=int))\n",
        "      if stats:\n",
        "        print(\"Матрица P:\")\n",
        "        print(p, \"\\n\")\n",
        "      if not calculate_s:\n",
        "        return p\n",
        "    if (calculate_p and calculate_s):\n",
        "      return s, p"
      ],
      "execution_count": null,
      "outputs": []
    },
    {
      "cell_type": "code",
      "metadata": {
        "colab": {
          "base_uri": "https://localhost:8080/"
        },
        "id": "kyE624aVQOoJ",
        "outputId": "ba7b33ef-17f9-41e9-a459-f667c554770b"
      },
      "source": [
        "#----------------------пример-----------------------------------  \n",
        "import random  \n",
        "ga = random.randint(10, 20)\n",
        "gb = random.randint(10, 20)\n",
        "s, p = McElise_matrices(np.random.randint(50, size = (ga, gb)), galois.GF(2**4), calculate_p=True, calculate_s=True, stats=True)"
      ],
      "execution_count": null,
      "outputs": [
        {
          "output_type": "stream",
          "name": "stdout",
          "text": [
            "Матрица G:\n",
            " [[37 48  3  2 16 13 43  0 21 13 49]\n",
            " [35 42  7 15 34 20 36 13 31 37 20]\n",
            " [38 24 12 37 19 27 29 46 34 29 15]\n",
            " [18 12 16 33 42 38 46 26 41  5 32]\n",
            " [ 9 29 18 32 16 39 20 10 42 35 17]\n",
            " [20  8 39 38 20 38 21 40  0 18 24]\n",
            " [32 20 23 40 49 18 31  9 48 38 26]\n",
            " [45 17 18  7  1 33 14  9 26 11 43]\n",
            " [34  5 16  0  0 36 15 29 21  5 24]\n",
            " [40 15  4  0 14  8 41 16 48 33  1]] \n",
            "\n",
            "na = 10, nb = 11\n",
            "\n",
            "Матрица S:\n",
            "GF([[ 4,  2,  7, 15,  2,  1,  9, 13, 14,  0],\n",
            "    [ 0,  4, 13,  4, 15,  6, 15,  3, 10,  1],\n",
            "    [ 9,  0, 12,  5, 14, 15,  9,  2, 10,  3],\n",
            "    [ 7,  2,  5, 15, 11, 11,  1,  5,  2,  5],\n",
            "    [ 8, 15,  6,  2, 13, 13, 10, 15, 11, 11],\n",
            "    [ 0, 14,  6,  9,  8,  3,  8,  5,  7, 14],\n",
            "    [13, 10,  6, 13,  2,  7,  7,  7,  7,  8],\n",
            "    [11,  4,  9,  6, 14, 13,  9,  5,  2,  9],\n",
            "    [ 6,  2,  1,  9,  1,  3,  4, 10,  4, 12],\n",
            "    [ 5,  1,  5,  5, 15,  9,  8, 11,  1,  3]], order=2^4) \n",
            "\n",
            "Матрица P:\n",
            "GF([[0, 0, 0, 0, 0, 0, 0, 0, 0, 0, 1],\n",
            "    [0, 0, 0, 1, 0, 0, 0, 0, 0, 0, 0],\n",
            "    [0, 0, 0, 0, 0, 0, 0, 0, 0, 1, 0],\n",
            "    [1, 0, 0, 0, 0, 0, 0, 0, 0, 0, 0],\n",
            "    [0, 0, 0, 0, 0, 1, 0, 0, 0, 0, 0],\n",
            "    [0, 0, 0, 0, 0, 0, 0, 0, 1, 0, 0],\n",
            "    [0, 1, 0, 0, 0, 0, 0, 0, 0, 0, 0],\n",
            "    [0, 0, 0, 0, 1, 0, 0, 0, 0, 0, 0],\n",
            "    [0, 0, 0, 0, 0, 0, 1, 0, 0, 0, 0],\n",
            "    [0, 0, 0, 0, 0, 0, 0, 1, 0, 0, 0],\n",
            "    [0, 0, 1, 0, 0, 0, 0, 0, 0, 0, 0]], order=2^4) \n",
            "\n"
          ]
        }
      ]
    },
    {
      "cell_type": "markdown",
      "metadata": {
        "id": "XkpOHK7FJxQs"
      },
      "source": [
        "#Кодирование внешними кодами "
      ]
    },
    {
      "cell_type": "code",
      "metadata": {
        "colab": {
          "base_uri": "https://localhost:8080/"
        },
        "id": "jloYSPEcKLA3",
        "outputId": "5fcb5e94-3402-4ab7-b920-85f3f385befc"
      },
      "source": [
        "#------------------------------------ кодирование внешними кодами ----------------------------------------------\n",
        "# n_A - число строк\n",
        "# n_B - число столбцов\n",
        "c_exp_inner = 4  # поле внутренних кодов\n",
        "c_exp_outer = 2*c_exp_inner  # поле внешних кодов -- размер 2^8 = 256 = n_B + 1 \n",
        "\n",
        "# создаем поля\n",
        "GF_inner = galois.GF(2**c_exp_inner)\n",
        "GF_outer = galois.GF(2**c_exp_outer)\n",
        "\n",
        "gen = 2  # задаем порождающий эелемент поля\n",
        "\n",
        "outer_prime = 285\n",
        "\n",
        "ff.init_lut(generator=gen,prim=outer_prime,c_exp=c_exp_outer)  # иницализируем собственное поле из библиотеки unireedsolo\n",
        "\n",
        "# матрицы внешнего кода умножаются на слои и существуют над бОльшим полем\n",
        "G = [GF_outer(Generate_Reed_Solo_generic_matrix(n_B, k_var, gen=gen, prime=outer_prime, c_exp=c_exp_outer)) for k_var in k]  # создаем попрождающие матрицы кодов"
      ],
      "execution_count": null,
      "outputs": [
        {
          "output_type": "stream",
          "name": "stdout",
          "text": [
            "generic polynomial = [1, 193, 203, 228, 101, 140, 105, 109, 151, 46, 191, 130, 244, 40, 172, 209, 180, 169, 250, 171, 41, 48, 42, 46, 242, 117, 175, 35, 178, 3, 37, 6, 37, 25, 6, 3, 205, 101, 107, 37, 56, 41, 237, 249, 89, 178, 156, 117, 133, 53, 131, 61, 105, 227, 108, 17, 18, 159, 243, 85, 220, 102, 61, 71, 81, 21, 107, 32, 206, 132, 60, 179, 46, 137, 133, 169, 209, 43, 245, 234, 123, 226, 185, 107, 122, 6, 228, 37, 94, 245, 209, 204, 10, 215, 88, 46, 128, 5, 143, 77, 192, 170, 242, 150, 52, 209, 122, 234, 145, 196, 219, 107, 6, 70, 95, 231, 76, 235, 39, 102, 144, 188, 200, 231, 158, 16, 183, 199, 137, 19, 17]\n",
            "generic polynomial = [1, 232, 29, 189, 50, 142, 246, 232, 15, 43, 82, 164, 238, 1, 158, 13, 119, 158, 224, 134, 227, 210, 163, 50, 107, 40, 27, 104, 253, 24, 239, 216, 45]\n",
            "generic polynomial = [1, 136, 193, 34, 51, 130, 147, 167, 170, 132, 175, 252, 120]\n",
            "generic polynomial = [1, 227, 44, 178, 71, 172, 8, 224, 37]\n"
          ]
        }
      ]
    },
    {
      "cell_type": "code",
      "metadata": {
        "colab": {
          "base_uri": "https://localhost:8080/"
        },
        "id": "eXJt0epOPLRi",
        "outputId": "0db56b8e-3d3d-4b29-a662-5331b8ce2ca8"
      },
      "source": [
        "print(G[0])"
      ],
      "execution_count": null,
      "outputs": [
        {
          "output_type": "stream",
          "name": "stdout",
          "text": [
            "GF([[  1,   0,   0, ...,  45, 122, 229],\n",
            "    [  0,   1,   0, ..., 181, 121, 193],\n",
            "    [  0,   0,   1, ...,  66, 239, 128],\n",
            "    ...,\n",
            "    [  0,   0,   0, ..., 165,  44,  73],\n",
            "    [  0,   0,   0, ..., 128, 195,  77],\n",
            "    [  0,   0,   0, ..., 137,  19,  17]], order=2^8)\n"
          ]
        }
      ]
    },
    {
      "cell_type": "markdown",
      "metadata": {
        "id": "In0lqO9-1AcX"
      },
      "source": [
        "#Создание открытых ключей из порождающих матриц \n",
        "$G_{open}^{i} = S^{i} \\cdot G^{i} \\cdot P$, где $i$ -- индекс\n",
        "\n",
        "\n"
      ]
    },
    {
      "cell_type": "code",
      "metadata": {
        "id": "pLCwoUcN1EnS"
      },
      "source": [
        "P_G_private = GF_outer(McElise_matrices(G[0], GF_outer, calculate_p=True))  \n",
        "\n",
        "\n",
        "S_G_private = []  # это закрытые ключи\n",
        "G_open = []  # это открытые ключи\n",
        "for i in range(len(G)):\n",
        "  S = GF_outer(McElise_matrices(G[i], GF_outer, calculate_s=True))\n",
        "  S_G_private.append(S)  # закрытый ключ -- матрица P\n",
        "  G_open.append(S @ G[i] @ P_G_private)  # открытый ключ -- произведение матриц\n",
        "\n",
        "# Т.е. из порождающих матриц кода Рида-Соломона мы создаем открытые ключи G_open\n",
        "# из закрытых ключей:: P_G_private, S_G_private, G."
      ],
      "execution_count": null,
      "outputs": []
    },
    {
      "cell_type": "code",
      "metadata": {
        "colab": {
          "base_uri": "https://localhost:8080/"
        },
        "id": "F99e_L7K4UDG",
        "outputId": "971cb590-c8ac-4374-a6e0-1ede7ba53ee5"
      },
      "source": [
        "print(G_open[0])"
      ],
      "execution_count": null,
      "outputs": [
        {
          "output_type": "stream",
          "name": "stdout",
          "text": [
            "GF([[ 31, 130, 183, ...,  22, 235,  50],\n",
            "    [  5, 197, 224, ..., 180, 171,  58],\n",
            "    [ 90, 171, 163, ..., 222, 108,   3],\n",
            "    ...,\n",
            "    [224, 200,  94, ..., 202,  94, 166],\n",
            "    [100, 220,  10, ..., 135,  33, 146],\n",
            "    [ 95,  64,  50, ..., 117, 103, 141]], order=2^8)\n"
          ]
        }
      ]
    },
    {
      "cell_type": "markdown",
      "metadata": {
        "id": "BxyLicuWpzu0"
      },
      "source": [
        "#Создание сообщения"
      ]
    },
    {
      "cell_type": "code",
      "metadata": {
        "id": "YwWjmQMYazqD"
      },
      "source": [
        "message = []\n",
        "# сообщение само по себе существует над мЕньшим полем (внутренним)\n",
        "for j in range(L):#на каждый слой\n",
        "  buf = []\n",
        "  for i in range(2):#по два сообщения\n",
        "    buf.append(np.random.randint(low = 0, high = 2**c_exp_inner - 1, size = k[j]))\n",
        "  message.append(buf)\n",
        "  \n",
        "# длина message равна L, а размер каждого его элемента 2xk"
      ],
      "execution_count": null,
      "outputs": []
    },
    {
      "cell_type": "markdown",
      "metadata": {
        "id": "foAYdlujp2lE"
      },
      "source": [
        "#Функции перевода слоя матрицы (слой это две строки) в вектор, принадлежащий полю внешних кодов."
      ]
    },
    {
      "cell_type": "code",
      "metadata": {
        "id": "VEtt1HOsm2IE"
      },
      "source": [
        "def msg_layer_to_vector (A, layer, GF):\n",
        "  # нужно внешнее поле GF_outer\n",
        "  # слой -- это матрица размера 2 на n_B\n",
        "  # А -- какое поле у внутреннего кода\n",
        "  new_layer = []\n",
        "  for i in range(len(layer[0])):\n",
        "    new_layer.append(int(layer[0][i]) * A + int(layer[1][i]))\n",
        "    # т.е. сообщение для внешнего кода состоит из символов вида x[0][i]*A^(1) + x[1][i]*A^(0)\n",
        "    # самый высокий разряд у верхнего символа, а у нижнего -- наименьший\n",
        "  # все операции происходят вне поля, но так как символы сообщения\n",
        "  # варируются от 0 до А-1 в новое поле мы войдем корректно, ведь B=A^2\n",
        "  return GF(new_layer)\n",
        "\n",
        "def msg_vector_to_layer(A, msg, GF):\n",
        "  # перед применением нужно передать внутреннее поле GF_inner\n",
        "  # сообщение с символами от 0 до A^2\n",
        "  layer = []\n",
        "  layer1 = []\n",
        "  layer2 = []\n",
        "  for i in range(len(msg)):\n",
        "    # перевод обратно в слой должен быть вне поля,\n",
        "    # но сам результат нужно делать элементом поля GF(A)\n",
        "    layer1.append(int(msg[i]) // A)\n",
        "    layer2.append(int(msg[i]) % A)\n",
        "  layer.append(GF(layer1))\n",
        "  layer.append(GF(layer2))\n",
        "  return layer\n",
        "\n",
        "# Таким образом, если в нашу матрицу прибавить ошибку типа |1| то для внешнего кода это будет ошибка 1*A + 0*A = A\n",
        "#                                                          |0|\n",
        "# При декодировании ошибки надо будет переводить в слоистый вид, чтобы понимать как с ними работать при внешних кодах"
      ],
      "execution_count": null,
      "outputs": []
    },
    {
      "cell_type": "markdown",
      "metadata": {
        "id": "EQT4A1V8QXUz"
      },
      "source": [
        "#Кодирование первыми открытыми ключами"
      ]
    },
    {
      "cell_type": "code",
      "metadata": {
        "colab": {
          "base_uri": "https://localhost:8080/"
        },
        "id": "7PidUCmwm24_",
        "outputId": "8b56fc0c-908b-4057-c325-1dd269e25f63"
      },
      "source": [
        "# c_exp_inner - внутренние коды\n",
        "# c_exp_outer - внещние коды\n",
        "outer_code_msg_vector = []\n",
        "\n",
        "for j in range(L):#на каждый слой\n",
        "  outer_code_msg_vector.append(np.array(msg_layer_to_vector(2**c_exp_inner, message[j], GF_outer) @ G_open[j]))\n",
        "# получаем кодовые слова внешнего кода\n",
        "outer_code_msg_vector = GF_outer(np.array(outer_code_msg_vector))\n",
        "print(outer_code_msg_vector.shape)"
      ],
      "execution_count": null,
      "outputs": [
        {
          "output_type": "stream",
          "name": "stdout",
          "text": [
            "(4, 255)\n"
          ]
        }
      ]
    },
    {
      "cell_type": "code",
      "metadata": {
        "id": "QHLGqgT7l8fk",
        "colab": {
          "base_uri": "https://localhost:8080/"
        },
        "outputId": "88bdad88-0b6d-450d-c7d5-1be01fcd57b6"
      },
      "source": [
        "#------------------проверка, что при декодировании получим наше сообщение---------------------------\n",
        "coder = rs.RSCoder(n = n_B, k = k[0], generator=gen, prim = outer_prime, fcr = 1, c_exp = c_exp_outer)\n",
        "\n",
        "decoded,_ = coder.decode(outer_code_msg_vector[0] @ LA.inv(P_G_private), k = k[0], return_string=False)\n",
        "decoded = insert_left(np.array(decoded), k[0])\n",
        "\n",
        "check = msg_layer_to_vector(2**c_exp_inner,message[0], GF_outer)\n",
        "print(GF_outer(np.array(decoded)) @ LA.inv(S_G_private[0]) == check)\n",
        "print(decoded,check, sep = '\\n')"
      ],
      "execution_count": null,
      "outputs": [
        {
          "output_type": "stream",
          "name": "stdout",
          "text": [
            "[ True  True  True  True  True  True  True  True  True  True  True  True\n",
            "  True  True  True  True  True  True  True  True  True  True  True  True\n",
            "  True  True  True  True  True  True  True  True  True  True  True  True\n",
            "  True  True  True  True  True  True  True  True  True  True  True  True\n",
            "  True  True  True  True  True  True  True  True  True  True  True  True\n",
            "  True  True  True  True  True  True  True  True  True  True  True  True\n",
            "  True  True  True  True  True  True  True  True  True  True  True  True\n",
            "  True  True  True  True  True  True  True  True  True  True  True  True\n",
            "  True  True  True  True  True  True  True  True  True  True  True  True\n",
            "  True  True  True  True  True  True  True  True  True  True  True  True\n",
            "  True  True  True  True  True]\n",
            "[72, 208, 127, 107, 253, 188, 91, 147, 135, 144, 71, 85, 107, 133, 195, 190, 215, 11, 40, 209, 114, 176, 58, 178, 41, 63, 231, 148, 91, 211, 9, 159, 144, 87, 151, 25, 66, 125, 166, 111, 150, 34, 236, 150, 26, 18, 185, 36, 23, 5, 153, 231, 137, 62, 167, 26, 13, 178, 22, 84, 109, 79, 135, 175, 218, 79, 101, 99, 175, 172, 43, 41, 43, 29, 214, 58, 203, 19, 59, 109, 232, 25, 47, 217, 245, 181, 153, 164, 38, 13, 156, 1, 30, 42, 148, 8, 128, 72, 51, 94, 228, 173, 237, 158, 102, 38, 85, 7, 55, 214, 28, 157, 162, 1, 68, 81, 165, 245, 39, 235, 147, 124, 194, 103, 9]\n",
            "GF([210, 119,  49, 177, 169,  74, 220,  50,  57,  62,  43, 151, 222, 179,\n",
            "    149,  71, 209, 194, 173,  84,  53,  55,  17, 116, 153, 134,  65, 199,\n",
            "     43, 195, 186, 157,  60,  64,  14,  34,  71,  27, 202,  81,  38,  39,\n",
            "     80, 118, 169,  51, 172,  49, 195, 186,  35,  40, 226, 235, 221,  18,\n",
            "      0, 128,  65,  96, 221,  81, 220, 214, 198, 164, 141,   5, 233,  68,\n",
            "    105, 132,  59, 209,  85, 146,  27, 211, 154, 124, 107, 219,  84,   2,\n",
            "     32, 139,  20, 115, 185, 113, 130, 139,  61,  10, 178, 203, 172, 150,\n",
            "    121, 153, 226,   7, 172,  96,  57, 231, 228, 198, 144,  89, 168,  49,\n",
            "     34,  26, 205, 208, 141, 234, 178, 178, 210,  55, 192, 174, 198],\n",
            "   order=2^8)\n"
          ]
        }
      ]
    },
    {
      "cell_type": "code",
      "metadata": {
        "id": "asU3RAsvaXW1",
        "colab": {
          "base_uri": "https://localhost:8080/"
        },
        "outputId": "b50919d7-5e50-459e-a7f0-53fe03c19d53"
      },
      "source": [
        "# переводим обратно в слоистую структуру, но уже в виде двумерной матрицы\n",
        "outer_code_msg = []\n",
        "for j in range(L):\n",
        "  buf = msg_vector_to_layer(2**c_exp_inner, outer_code_msg_vector[j], GF_outer)\n",
        "  outer_code_msg.append(np.array(buf[0]))\n",
        "  outer_code_msg.append(np.array(buf[1]))\n",
        "\n",
        "outer_code_msg = GF_inner(np.array(outer_code_msg))\n",
        "print(outer_code_msg)"
      ],
      "execution_count": null,
      "outputs": [
        {
          "output_type": "stream",
          "name": "stdout",
          "text": [
            "GF([[ 2,  3,  0, ...,  2,  0, 13],\n",
            "    [ 8,  3,  9, ...,  5,  8,  7],\n",
            "    [14,  5,  7, ...,  0, 13,  8],\n",
            "    ...,\n",
            "    [ 9,  4, 15, ...,  6,  6,  1],\n",
            "    [15,  6,  0, ...,  8,  5,  2],\n",
            "    [ 5,  1,  6, ..., 12, 15, 11]], order=2^4)\n"
          ]
        }
      ]
    },
    {
      "cell_type": "markdown",
      "metadata": {
        "id": "D60pueW9amw1"
      },
      "source": [
        "#Заготовка синдромов внутренних кодов\n",
        "Этот этап необходим, так как по нему мы определим векторы ошибок, чтобы их вычесть из зашумленной матрицы (нашего сообщения)"
      ]
    },
    {
      "cell_type": "code",
      "metadata": {
        "id": "gY6MF8aYMePE",
        "colab": {
          "base_uri": "https://localhost:8080/"
        },
        "outputId": "55e3703a-32f4-44f4-e9bd-32b3f7702a09"
      },
      "source": [
        "#----------------------------внутренние коды------------------------------------\n",
        "gen = 2\n",
        "inner_prime = ff.find_prime_polynomials(generator=gen,c_exp=c_exp_inner,single=True)\n",
        "\n",
        "ff.init_lut(generator=gen,prim=inner_prime,c_exp=c_exp_inner)  # инициализируем поле GF(16)\n",
        "\n",
        "H = []  # матрица будет квадратной\n",
        "\n",
        "for i in range(n_A):\n",
        "  H.append([(ff.GF2int(gen)**i)**j for j in range(n_A)])\n",
        "H = GF_inner(np.array(H))\n",
        "print(H)"
      ],
      "execution_count": null,
      "outputs": [
        {
          "output_type": "stream",
          "name": "stdout",
          "text": [
            "GF([[ 1,  1,  1,  1,  1,  1,  1,  1],\n",
            "    [ 1,  2,  4,  8,  3,  6, 12, 11],\n",
            "    [ 1,  4,  3, 12,  5,  7, 15,  9],\n",
            "    [ 1,  8, 12, 10, 15,  1,  8, 12],\n",
            "    [ 1,  3,  5, 15,  2,  6, 10, 13],\n",
            "    [ 1,  6,  7,  1,  6,  7,  1,  6],\n",
            "    [ 1, 12, 15,  8, 10,  1, 12, 15],\n",
            "    [ 1, 11,  9, 12, 13,  6, 15,  3]], order=2^4)\n"
          ]
        }
      ]
    },
    {
      "cell_type": "code",
      "metadata": {
        "id": "SevsfNgAKhVH",
        "colab": {
          "base_uri": "https://localhost:8080/"
        },
        "outputId": "ae9a2cc1-b663-4667-caaa-e38b5cc70710"
      },
      "source": [
        "#----------- сами синдромы-----------\n",
        "# рассмотрим все возможные ошибки со значениями 0 и 1\n",
        "import itertools  # для вариаций векторов ошибок\n",
        "\n",
        "\n",
        "e_var = GF_inner([list(i) for i in itertools.product([0, 1], repeat=n_A)][1:])  # все вариации ошибок\n",
        "\n",
        "print('Error variations',len(e_var))\n",
        "S_iter = []  # все варианты синдромов \n",
        "H_iter = []  # все наборы матриц\n",
        "\n",
        "\n",
        "for i in range(L):\n",
        "  H_matrix = GF_inner(np.array([H[i] for i in range(2*(i + 1))]))\n",
        "  H_iter.append(H_matrix)  \n",
        "  \n",
        "  S_var = [H_iter[i] @ e for e in e_var]  # все синдромы ошибок для данной матрицы\n",
        "  S_iter.append(S_var)"
      ],
      "execution_count": null,
      "outputs": [
        {
          "output_type": "stream",
          "name": "stdout",
          "text": [
            "Error variations 255\n"
          ]
        }
      ]
    },
    {
      "cell_type": "code",
      "metadata": {
        "colab": {
          "base_uri": "https://localhost:8080/"
        },
        "id": "x5cKyKgoCIgC",
        "outputId": "76d9e427-2860-4c44-b5f6-4efeb12ff3e2"
      },
      "source": [
        "print(S_iter[0][0])"
      ],
      "execution_count": null,
      "outputs": [
        {
          "output_type": "stream",
          "name": "stdout",
          "text": [
            "GF([ 1, 11], order=2^4)\n"
          ]
        }
      ]
    },
    {
      "cell_type": "code",
      "metadata": {
        "id": "16xX3W24TYor"
      },
      "source": [
        "# из-за трудностей с функциями index() и np.where() будем использовать свою функцию (массивы numpy требуют np.all() или np.any())\n",
        "def get_index_np(arr, subarr):\n",
        "  for i in range(len(arr)):\n",
        "    if (arr[i] == subarr).all():\n",
        "      return i\n",
        "      break\n",
        "  return -1  # если все же не нашелся"
      ],
      "execution_count": null,
      "outputs": []
    },
    {
      "cell_type": "code",
      "metadata": {
        "id": "6wsOt3wZNY0U",
        "colab": {
          "base_uri": "https://localhost:8080/"
        },
        "outputId": "8a8ede64-50af-404d-9af6-cd8558ad6085"
      },
      "source": [
        "print(np.array(S_iter[0][0]))\n",
        "print(S_iter[0][1])\n",
        "print(S_iter[1][2])\n",
        "print(S_iter[2][3])"
      ],
      "execution_count": null,
      "outputs": [
        {
          "output_type": "stream",
          "name": "stdout",
          "text": [
            "[ 1 11]\n",
            "GF([ 1, 12], order=2^4)\n",
            "GF([0, 7, 6, 4], order=2^4)\n",
            "GF([1, 6, 7, 1, 6, 7], order=2^4)\n"
          ]
        }
      ]
    },
    {
      "cell_type": "markdown",
      "metadata": {
        "id": "x1wzJxR9jmEz"
      },
      "source": [
        "#Обратная матрица над полем \n",
        "Благодаря библиотеке Galois можно быстро посчитать обратную матрицу над нужным полем"
      ]
    },
    {
      "cell_type": "code",
      "metadata": {
        "id": "wHDUfo7Ygqz5",
        "colab": {
          "base_uri": "https://localhost:8080/"
        },
        "outputId": "8437d199-a6c9-4182-f26a-70c3c0291f39"
      },
      "source": [
        "H_inv = np.linalg.inv(H)\n",
        "print(H_inv)\n",
        "print(H @ H_inv)"
      ],
      "execution_count": null,
      "outputs": [
        {
          "output_type": "stream",
          "name": "stdout",
          "text": [
            "GF([[ 9, 15, 14,  4, 13,  9, 11,  2],\n",
            "    [15,  6, 14, 12,  9, 12, 15,  1],\n",
            "    [14, 14,  5,  0, 14,  3,  9,  1],\n",
            "    [ 4, 12,  0, 15, 14,  3,  1, 11],\n",
            "    [13,  9, 14, 14,  6,  0,  1,  3],\n",
            "    [ 9, 12,  3,  3,  0,  4, 13, 12],\n",
            "    [11, 15,  9,  1,  1, 13,  1,  1],\n",
            "    [ 2,  1,  1, 11,  3, 12,  1,  7]], order=2^4)\n",
            "GF([[1, 0, 0, 0, 0, 0, 0, 0],\n",
            "    [0, 1, 0, 0, 0, 0, 0, 0],\n",
            "    [0, 0, 1, 0, 0, 0, 0, 0],\n",
            "    [0, 0, 0, 1, 0, 0, 0, 0],\n",
            "    [0, 0, 0, 0, 1, 0, 0, 0],\n",
            "    [0, 0, 0, 0, 0, 1, 0, 0],\n",
            "    [0, 0, 0, 0, 0, 0, 1, 0],\n",
            "    [0, 0, 0, 0, 0, 0, 0, 1]], order=2^4)\n"
          ]
        }
      ]
    },
    {
      "cell_type": "code",
      "metadata": {
        "colab": {
          "base_uri": "https://localhost:8080/"
        },
        "id": "9F_Tp8plX_ry",
        "outputId": "c3d659a2-96f4-46a8-d605-c2905a3dae49"
      },
      "source": [
        "# обратная к P над полем GF16\n",
        "P_G_private_inv = GF_inner(LA.inv(P_G_private))  \n",
        "print(P_G_private_inv)\n",
        "print(GF_outer(P_G_private_inv) @ P_G_private)"
      ],
      "execution_count": null,
      "outputs": [
        {
          "output_type": "stream",
          "name": "stdout",
          "text": [
            "GF([[0, 0, 0, ..., 0, 0, 0],\n",
            "    [0, 0, 0, ..., 0, 0, 0],\n",
            "    [0, 0, 0, ..., 0, 0, 0],\n",
            "    ...,\n",
            "    [0, 0, 0, ..., 0, 0, 0],\n",
            "    [0, 0, 0, ..., 0, 0, 0],\n",
            "    [0, 0, 0, ..., 0, 0, 0]], order=2^4)\n",
            "GF([[1, 0, 0, ..., 0, 0, 0],\n",
            "    [0, 1, 0, ..., 0, 0, 0],\n",
            "    [0, 0, 1, ..., 0, 0, 0],\n",
            "    ...,\n",
            "    [0, 0, 0, ..., 1, 0, 0],\n",
            "    [0, 0, 0, ..., 0, 1, 0],\n",
            "    [0, 0, 0, ..., 0, 0, 1]], order=2^8)\n"
          ]
        }
      ]
    },
    {
      "cell_type": "markdown",
      "metadata": {
        "id": "qjIGUf4fLKjb"
      },
      "source": [
        "#Создавать или нет открытый ключ из проверочной матрицы?\n",
        "Идея: $H_{open} = P_{H}H^{-1}$\\\n",
        "На самом деле, она не даст ничего, так как атакующий просто возьмет обратную матрицу к произведению, по ней построит все вариации синдромов и ему останется только атака на внешние коды.\\\n",
        "Итог: защита только сокрытыми матрицами внешних кодов, проверочную матрицу не трогаем.\n",
        "\n",
        "\n"
      ]
    },
    {
      "cell_type": "code",
      "metadata": {
        "id": "XidEfzrSmefI",
        "colab": {
          "base_uri": "https://localhost:8080/"
        },
        "outputId": "b0a16369-e5a2-47ce-87b2-dae389fd6799"
      },
      "source": [
        "print('inner code',outer_code_msg,sep='\\n')\n",
        "inner_code_msg = H_inv @ outer_code_msg  # умножаем на обратную к проверочной матрице внутреннего кода\n",
        "\n",
        "print('Message to send', inner_code_msg,sep='\\n')\n",
        "print('Message shape',inner_code_msg.shape)\n",
        "print('H*H^(-1)*C product',H @ inner_code_msg, sep='\\n')"
      ],
      "execution_count": null,
      "outputs": [
        {
          "output_type": "stream",
          "name": "stdout",
          "text": [
            "inner code\n",
            "GF([[ 2,  3,  0, ...,  2,  0, 13],\n",
            "    [ 8,  3,  9, ...,  5,  8,  7],\n",
            "    [14,  5,  7, ...,  0, 13,  8],\n",
            "    ...,\n",
            "    [ 9,  4, 15, ...,  6,  6,  1],\n",
            "    [15,  6,  0, ...,  8,  5,  2],\n",
            "    [ 5,  1,  6, ..., 12, 15, 11]], order=2^4)\n",
            "Message to send\n",
            "GF([[ 6,  0,  7, ..., 10,  3,  6],\n",
            "    [15, 10,  3, ..., 12, 10,  4],\n",
            "    [ 8, 10, 13, ...,  1, 13,  4],\n",
            "    ...,\n",
            "    [ 5,  6, 13, ...,  4,  4,  1],\n",
            "    [ 6,  5, 12, ..., 11,  5, 14],\n",
            "    [11,  1,  4, ..., 12,  6,  3]], order=2^4)\n",
            "Message shape (8, 255)\n",
            "H*H^(-1)*C product\n",
            "GF([[ 2,  3,  0, ...,  2,  0, 13],\n",
            "    [ 8,  3,  9, ...,  5,  8,  7],\n",
            "    [14,  5,  7, ...,  0, 13,  8],\n",
            "    ...,\n",
            "    [ 9,  4, 15, ...,  6,  6,  1],\n",
            "    [15,  6,  0, ...,  8,  5,  2],\n",
            "    [ 5,  1,  6, ..., 12, 15, 11]], order=2^4)\n"
          ]
        }
      ]
    },
    {
      "cell_type": "markdown",
      "metadata": {
        "id": "Wacq09XprioY"
      },
      "source": [
        "#Передача по каналу\n",
        "При передаче по каналу связи получаем помехи и ошибки в данных."
      ]
    },
    {
      "cell_type": "code",
      "metadata": {
        "id": "ZmH7-95GpMFp",
        "colab": {
          "base_uri": "https://localhost:8080/"
        },
        "outputId": "ae9749f5-cc9c-4821-c3f8-692b6ae54cec"
      },
      "source": [
        "# Вероятность ошибки в канале мы задали как p = 0.015,\n",
        "# значит будем генерировать ошибки с заданной вероятностью\n",
        "noise = GF_inner(np.random.choice(2, (n_A,n_B), p=[1 - 0.01769, 0.01769]))\n",
        "print(noise)"
      ],
      "execution_count": null,
      "outputs": [
        {
          "output_type": "stream",
          "name": "stdout",
          "text": [
            "GF([[0, 0, 0, ..., 0, 0, 0],\n",
            "    [0, 0, 0, ..., 0, 0, 0],\n",
            "    [0, 0, 0, ..., 0, 0, 0],\n",
            "    ...,\n",
            "    [0, 0, 0, ..., 0, 0, 0],\n",
            "    [0, 1, 0, ..., 0, 0, 0],\n",
            "    [0, 0, 0, ..., 0, 0, 0]], order=2^4)\n"
          ]
        }
      ]
    },
    {
      "cell_type": "code",
      "metadata": {
        "id": "na9_RPoCB4je",
        "colab": {
          "base_uri": "https://localhost:8080/"
        },
        "outputId": "22414f99-0c97-4c7e-b19e-1e204e7f8c4b"
      },
      "source": [
        "# анализируем число ошибок при умножении матрицы шума на проверочную матрицу внешнего кода\n",
        "def errors_of_H_product(noise, stat = True):\n",
        "  min_error = 10**10\n",
        "\n",
        "  for num in range(len(H_iter)):\n",
        "    noise_H = H_iter[num] @ noise \n",
        "    if stat:\n",
        "      print(f'location: {np.where(noise_H[0] != 0)}')\n",
        "    for i in noise_H:\n",
        "      count = 0\n",
        "      for j in i:\n",
        "        if j!=0:\n",
        "          count += 1\n",
        "      if count < min_error:\n",
        "        min_error = count\n",
        "      if stat:\n",
        "        print(f'{count} errors when H № {num}')\n",
        "  return min_error\n",
        "\n",
        "_ = errors_of_H_product(noise)"
      ],
      "execution_count": null,
      "outputs": [
        {
          "output_type": "stream",
          "name": "stdout",
          "text": [
            "location: (array([  1,  13,  14,  19,  40,  47,  55,  62,  63,  67,  71,  72,  99,\n",
            "       102, 107, 120, 127, 137, 143, 150, 161, 162, 163, 202, 205, 208,\n",
            "       214, 223, 231, 247]),)\n",
            "30 errors when H № 0\n",
            "30 errors when H № 0\n",
            "location: (array([  1,  13,  14,  19,  40,  47,  55,  62,  63,  67,  71,  72,  99,\n",
            "       102, 107, 120, 127, 137, 143, 150, 161, 162, 163, 202, 205, 208,\n",
            "       214, 223, 231, 247]),)\n",
            "30 errors when H № 1\n",
            "30 errors when H № 1\n",
            "30 errors when H № 1\n",
            "30 errors when H № 1\n",
            "location: (array([  1,  13,  14,  19,  40,  47,  55,  62,  63,  67,  71,  72,  99,\n",
            "       102, 107, 120, 127, 137, 143, 150, 161, 162, 163, 202, 205, 208,\n",
            "       214, 223, 231, 247]),)\n",
            "30 errors when H № 2\n",
            "30 errors when H № 2\n",
            "30 errors when H № 2\n",
            "30 errors when H № 2\n",
            "30 errors when H № 2\n",
            "30 errors when H № 2\n",
            "location: (array([  1,  13,  14,  19,  40,  47,  55,  62,  63,  67,  71,  72,  99,\n",
            "       102, 107, 120, 127, 137, 143, 150, 161, 162, 163, 202, 205, 208,\n",
            "       214, 223, 231, 247]),)\n",
            "30 errors when H № 3\n",
            "30 errors when H № 3\n",
            "30 errors when H № 3\n",
            "30 errors when H № 3\n",
            "30 errors when H № 3\n",
            "30 errors when H № 3\n",
            "30 errors when H № 3\n",
            "30 errors when H № 3\n"
          ]
        }
      ]
    },
    {
      "cell_type": "markdown",
      "metadata": {
        "id": "ISzYJNaRrotT"
      },
      "source": [
        "#Декодирование ОЛО-кода "
      ]
    },
    {
      "cell_type": "code",
      "metadata": {
        "id": "W3kdhjb2Jbir"
      },
      "source": [
        "corrupted_msg = noise + inner_code_msg"
      ],
      "execution_count": null,
      "outputs": []
    },
    {
      "cell_type": "code",
      "metadata": {
        "id": "i4V81Qkp4dUY",
        "colab": {
          "base_uri": "https://localhost:8080/"
        },
        "outputId": "2c7556f1-19b7-48c5-e828-299fe75ab331"
      },
      "source": [
        "import copy\n",
        "\n",
        "# процесс декодирования итеративный и идет по слоям\n",
        "decoding_msg = corrupted_msg @ P_G_private_inv  # избавляемся от матрицы P\n",
        "count = 0\n",
        "j = 0\n",
        "i = 0\n",
        "# H_iter - содержит проверочные матрицы на каждую итерацию\n",
        "# S_iter - содержит синдромы под каждую проверочную матрицу H_iter[i]\n",
        "# e_var - содержит векторы ошибок, которые соответствуют синдромам\n",
        "# k - содержит число информационных симовлов в каждой паре строк (слое)\n",
        "gen = 2\n",
        "exp = c_exp_outer\n",
        "\n",
        "for j in range(L):\n",
        "  print(f'--- iter no {j} ---')\n",
        "  # все изменения будем фиксировать в исходной переменной - decoding_msg\n",
        "  V = H_iter[j] @ decoding_msg  # даст нам матрицу, соответствующую накопленным слоям \n",
        "\n",
        "\n",
        "  V_check = H_iter[j] @ inner_code_msg  # смотрим сколько ошибок имеется (для наглядности)\n",
        "  for i in V:\n",
        "    print(f'{np.sum(V - V_check)} errors')\n",
        "\n",
        "\n",
        "  prev_iter_matrix = [0]*(2*(j + 1))  # будем запоминать слои до декодирования внешними слоями и после\n",
        "\n",
        "  for i in range(len(V)):\n",
        "    prev_iter_matrix[i] = copy.deepcopy(V[i])  # запомнили именно всю накопленную матрицу\n",
        "  \n",
        "  prev_iter_matrix = GF_inner(np.array(prev_iter_matrix))\n",
        "\n",
        "  outer_msg_to_decode = GF_inner(np.array([V[j + j],V[j + j + 1]]))  # я хочу взять именно нужный, неисправленный слой\n",
        "  \n",
        "  outer_msg_to_decode = msg_layer_to_vector(2**c_exp_inner,outer_msg_to_decode, GF_outer)\n",
        "\n",
        "  coder = rs.RSCoder(n_B, k[j], generator=gen, prim=outer_prime, c_exp=exp)  # инициализируем кодер для декодирования\n",
        "  \n",
        "  buf_corr, buf_ecc = coder.decode(outer_msg_to_decode, return_string=False)  # декодируем внешними кодами, исправляя ошибки, только в нужном нам слое\n",
        "  buf_corr = insert_left([q for q in buf_corr] + [q for q in buf_ecc], n_B)  # храним исправленное сообщение\n",
        "\n",
        "  # из внешнего декодера надо выходить уже в новом поле -- поле внутреннего кода\n",
        "  buf_corr = msg_vector_to_layer(2**c_exp_inner,buf_corr, GF_inner)  # записываем исправленное\n",
        "  V[j + j], V[j + j + 1] = buf_corr[0], buf_corr[1]  # записываем по строкам в слое\n",
        "\n",
        "# вычитание ошибок не на исходном, а на H^(-1), т.е. непоср на decoding_msg\n",
        "\n",
        "# я исправляю ошибки только, чтобы найти синдром для внутреннего кода\n",
        "\n",
        "  Syndromes = []  # Находим синдромы для внутреннего кода, в виде H[i]*e  \n",
        "  Syndromes = prev_iter_matrix - V\n",
        "    \n",
        "    \n",
        "  list_of_error_vectors = []\n",
        "  for i in range(len(Syndromes[0])):  # итерируем по рядам\n",
        "    buf = [Syndromes[j][i] for j in range(len(Syndromes))]\n",
        "\n",
        "    if any(buf):  # если синдром ненулевой, то мы должны его найти, иначе - падение алгоритма\n",
        "      index = get_index_np(S_iter[j], buf)\n",
        "      if index != -1:      \n",
        "        error_vector = e_var[index]\n",
        "        list_of_error_vectors.append(error_vector)\n",
        "      else:\n",
        "        print('not found')\n",
        "        error_vector = GF_inner([0]*n_A)\n",
        "        list_of_error_vectors.append(error_vector)\n",
        "    else:\n",
        "      error_vector = GF_inner([0]*n_A)\n",
        "      list_of_error_vectors.append(error_vector)\n",
        "\n",
        "  list_of_error_vectors = GF_inner(np.array(list_of_error_vectors)).T  # транспонируем\n",
        "  decoding_msg = decoding_msg - list_of_error_vectors"
      ],
      "execution_count": null,
      "outputs": [
        {
          "output_type": "stream",
          "name": "stdout",
          "text": [
            "--- iter no 0 ---\n",
            "5 errors\n",
            "5 errors\n",
            "--- iter no 1 ---\n",
            "7 errors\n",
            "7 errors\n",
            "7 errors\n",
            "7 errors\n",
            "--- iter no 2 ---\n",
            "0 errors\n",
            "0 errors\n",
            "0 errors\n",
            "0 errors\n",
            "0 errors\n",
            "0 errors\n",
            "--- iter no 3 ---\n",
            "0 errors\n",
            "0 errors\n",
            "0 errors\n",
            "0 errors\n",
            "0 errors\n",
            "0 errors\n",
            "0 errors\n",
            "0 errors\n"
          ]
        }
      ]
    },
    {
      "cell_type": "code",
      "metadata": {
        "id": "ZEpPrJ5nISUZ"
      },
      "source": [
        "# причесываем исправленное сообщение умножением на обратные матрицы (закрытые ключи)\n",
        "received_msg = H @ decoding_msg\n",
        "check = []\n",
        "for i in range(L):\n",
        "  for j in range(2):\n",
        "    check.append(received_msg[i + i + j][:k[i]])\n",
        "\n",
        "result = []\n",
        "for j in range(L):\n",
        "  result.append(msg_layer_to_vector(2 ** c_exp_inner, [check[j + j], check[j + j + 1]], GF_outer) @ LA.inv(S_G_private[j]))\n",
        "  \n"
      ],
      "execution_count": null,
      "outputs": []
    },
    {
      "cell_type": "code",
      "metadata": {
        "colab": {
          "base_uri": "https://localhost:8080/"
        },
        "id": "LkZDzYBdgBLx",
        "outputId": "c70003aa-18b9-4d5c-f2d3-667d1455ff67"
      },
      "source": [
        "# проверяем, что это наше сообщение\n",
        "final = []\n",
        "for i in range(L):\n",
        "  final.append(np.array(msg_vector_to_layer(2 ** c_exp_inner, result[i], GF_inner)[0]))\n",
        "  final.append(np.array(msg_vector_to_layer(2 ** c_exp_inner, result[i], GF_inner)[1]))\n",
        "\n",
        "for i in range(L):\n",
        "  for j in range(2):\n",
        "    print(np.array(final[i + i + j]).tolist() == message[i][j])\n",
        "    print(len(message[i][j]),np.array(final[i + i +j]).tolist(),message[i][j],sep='\\n')"
      ],
      "execution_count": null,
      "outputs": [
        {
          "output_type": "stream",
          "name": "stdout",
          "text": [
            "[ True  True  True  True  True  True  True  True  True  True  True  True\n",
            "  True  True  True  True  True  True  True  True  True  True  True  True\n",
            "  True  True  True  True  True  True  True  True  True  True  True  True\n",
            "  True  True  True  True  True  True  True  True  True  True  True  True\n",
            "  True  True  True  True  True  True  True  True  True  True  True  True\n",
            "  True  True  True  True  True  True  True  True  True  True  True  True\n",
            "  True  True  True  True  True  True  True  True  True  True  True  True\n",
            "  True  True  True  True  True  True  True  True  True  True  True  True\n",
            "  True  True  True  True  True  True  True  True  True  True  True  True\n",
            "  True  True  True  True  True  True  True  True  True  True  True  True\n",
            "  True  True  True  True  True]\n",
            "125\n",
            "[13, 7, 3, 11, 10, 4, 13, 3, 3, 3, 2, 9, 13, 11, 9, 4, 13, 12, 10, 5, 3, 3, 1, 7, 9, 8, 4, 12, 2, 12, 11, 9, 3, 4, 0, 2, 4, 1, 12, 5, 2, 2, 5, 7, 10, 3, 10, 3, 12, 11, 2, 2, 14, 14, 13, 1, 0, 8, 4, 6, 13, 5, 13, 13, 12, 10, 8, 0, 14, 4, 6, 8, 3, 13, 5, 9, 1, 13, 9, 7, 6, 13, 5, 0, 2, 8, 1, 7, 11, 7, 8, 8, 3, 0, 11, 12, 10, 9, 7, 9, 14, 0, 10, 6, 3, 14, 14, 12, 9, 5, 10, 3, 2, 1, 12, 13, 8, 14, 11, 11, 13, 3, 12, 10, 12]\n",
            "[13  7  3 11 10  4 13  3  3  3  2  9 13 11  9  4 13 12 10  5  3  3  1  7\n",
            "  9  8  4 12  2 12 11  9  3  4  0  2  4  1 12  5  2  2  5  7 10  3 10  3\n",
            " 12 11  2  2 14 14 13  1  0  8  4  6 13  5 13 13 12 10  8  0 14  4  6  8\n",
            "  3 13  5  9  1 13  9  7  6 13  5  0  2  8  1  7 11  7  8  8  3  0 11 12\n",
            " 10  9  7  9 14  0 10  6  3 14 14 12  9  5 10  3  2  1 12 13  8 14 11 11\n",
            " 13  3 12 10 12]\n",
            "[ True  True  True  True  True  True  True  True  True  True  True  True\n",
            "  True  True  True  True  True  True  True  True  True  True  True  True\n",
            "  True  True  True  True  True  True  True  True  True  True  True  True\n",
            "  True  True  True  True  True  True  True  True  True  True  True  True\n",
            "  True  True  True  True  True  True  True  True  True  True  True  True\n",
            "  True  True  True  True  True  True  True  True  True  True  True  True\n",
            "  True  True  True  True  True  True  True  True  True  True  True  True\n",
            "  True  True  True  True  True  True  True  True  True  True  True  True\n",
            "  True  True  True  True  True  True  True  True  True  True  True  True\n",
            "  True  True  True  True  True  True  True  True  True  True  True  True\n",
            "  True  True  True  True  True]\n",
            "125\n",
            "[2, 7, 1, 1, 9, 10, 12, 2, 9, 14, 11, 7, 14, 3, 5, 7, 1, 2, 13, 4, 5, 7, 1, 4, 9, 6, 1, 7, 11, 3, 10, 13, 12, 0, 14, 2, 7, 11, 10, 1, 6, 7, 0, 6, 9, 3, 12, 1, 3, 10, 3, 8, 2, 11, 13, 2, 0, 0, 1, 0, 13, 1, 12, 6, 6, 4, 13, 5, 9, 4, 9, 4, 11, 1, 5, 2, 11, 3, 10, 12, 11, 11, 4, 2, 0, 11, 4, 3, 9, 1, 2, 11, 13, 10, 2, 11, 12, 6, 9, 9, 2, 7, 12, 0, 9, 7, 4, 6, 0, 9, 8, 1, 2, 10, 13, 0, 13, 10, 2, 2, 2, 7, 0, 14, 6]\n",
            "[ 2  7  1  1  9 10 12  2  9 14 11  7 14  3  5  7  1  2 13  4  5  7  1  4\n",
            "  9  6  1  7 11  3 10 13 12  0 14  2  7 11 10  1  6  7  0  6  9  3 12  1\n",
            "  3 10  3  8  2 11 13  2  0  0  1  0 13  1 12  6  6  4 13  5  9  4  9  4\n",
            " 11  1  5  2 11  3 10 12 11 11  4  2  0 11  4  3  9  1  2 11 13 10  2 11\n",
            " 12  6  9  9  2  7 12  0  9  7  4  6  0  9  8  1  2 10 13  0 13 10  2  2\n",
            "  2  7  0 14  6]\n",
            "[ True  True  True  True  True  True  True  True  True  True  True  True\n",
            "  True  True  True  True  True  True  True  True  True  True  True  True\n",
            "  True  True  True  True  True  True  True  True  True  True  True  True\n",
            "  True  True  True  True  True  True  True  True  True  True  True  True\n",
            "  True  True  True  True  True  True  True  True  True  True  True  True\n",
            "  True  True  True  True  True  True  True  True  True  True  True  True\n",
            "  True  True  True  True  True  True  True  True  True  True  True  True\n",
            "  True  True  True  True  True  True  True  True  True  True  True  True\n",
            "  True  True  True  True  True  True  True  True  True  True  True  True\n",
            "  True  True  True  True  True  True  True  True  True  True  True  True\n",
            "  True  True  True  True  True  True  True  True  True  True  True  True\n",
            "  True  True  True  True  True  True  True  True  True  True  True  True\n",
            "  True  True  True  True  True  True  True  True  True  True  True  True\n",
            "  True  True  True  True  True  True  True  True  True  True  True  True\n",
            "  True  True  True  True  True  True  True  True  True  True  True  True\n",
            "  True  True  True  True  True  True  True  True  True  True  True  True\n",
            "  True  True  True  True  True  True  True  True  True  True  True  True\n",
            "  True  True  True  True  True  True  True  True  True  True  True  True\n",
            "  True  True  True  True  True  True  True]\n",
            "223\n",
            "[6, 10, 12, 14, 8, 1, 3, 12, 3, 4, 10, 5, 11, 4, 2, 6, 4, 10, 4, 5, 3, 0, 9, 13, 4, 0, 11, 9, 10, 8, 12, 0, 3, 14, 10, 13, 5, 3, 12, 12, 10, 14, 12, 13, 14, 13, 9, 10, 11, 6, 3, 5, 5, 1, 8, 6, 8, 6, 7, 3, 10, 10, 2, 3, 13, 6, 10, 9, 8, 9, 5, 11, 1, 1, 8, 1, 8, 11, 4, 6, 5, 3, 10, 14, 13, 11, 13, 9, 5, 6, 13, 1, 14, 14, 3, 6, 2, 6, 10, 4, 14, 12, 10, 11, 4, 12, 3, 8, 1, 11, 7, 2, 2, 4, 6, 14, 14, 6, 11, 3, 7, 4, 1, 2, 1, 5, 5, 7, 8, 7, 3, 12, 3, 1, 9, 4, 12, 3, 14, 6, 6, 4, 11, 9, 6, 9, 1, 10, 6, 1, 4, 7, 14, 11, 3, 12, 13, 6, 14, 8, 3, 9, 3, 12, 9, 7, 0, 0, 11, 13, 2, 11, 11, 11, 10, 3, 2, 14, 6, 3, 4, 12, 2, 0, 5, 12, 1, 12, 2, 10, 1, 12, 1, 2, 2, 1, 11, 0, 2, 3, 8, 4, 3, 12, 0, 4, 7, 14, 1, 14, 11, 14, 9, 0, 11, 0, 6, 8, 8, 4, 8, 2, 8]\n",
            "[ 6 10 12 14  8  1  3 12  3  4 10  5 11  4  2  6  4 10  4  5  3  0  9 13\n",
            "  4  0 11  9 10  8 12  0  3 14 10 13  5  3 12 12 10 14 12 13 14 13  9 10\n",
            " 11  6  3  5  5  1  8  6  8  6  7  3 10 10  2  3 13  6 10  9  8  9  5 11\n",
            "  1  1  8  1  8 11  4  6  5  3 10 14 13 11 13  9  5  6 13  1 14 14  3  6\n",
            "  2  6 10  4 14 12 10 11  4 12  3  8  1 11  7  2  2  4  6 14 14  6 11  3\n",
            "  7  4  1  2  1  5  5  7  8  7  3 12  3  1  9  4 12  3 14  6  6  4 11  9\n",
            "  6  9  1 10  6  1  4  7 14 11  3 12 13  6 14  8  3  9  3 12  9  7  0  0\n",
            " 11 13  2 11 11 11 10  3  2 14  6  3  4 12  2  0  5 12  1 12  2 10  1 12\n",
            "  1  2  2  1 11  0  2  3  8  4  3 12  0  4  7 14  1 14 11 14  9  0 11  0\n",
            "  6  8  8  4  8  2  8]\n",
            "[ True  True  True  True  True  True  True  True  True  True  True  True\n",
            "  True  True  True  True  True  True  True  True  True  True  True  True\n",
            "  True  True  True  True  True  True  True  True  True  True  True  True\n",
            "  True  True  True  True  True  True  True  True  True  True  True  True\n",
            "  True  True  True  True  True  True  True  True  True  True  True  True\n",
            "  True  True  True  True  True  True  True  True  True  True  True  True\n",
            "  True  True  True  True  True  True  True  True  True  True  True  True\n",
            "  True  True  True  True  True  True  True  True  True  True  True  True\n",
            "  True  True  True  True  True  True  True  True  True  True  True  True\n",
            "  True  True  True  True  True  True  True  True  True  True  True  True\n",
            "  True  True  True  True  True  True  True  True  True  True  True  True\n",
            "  True  True  True  True  True  True  True  True  True  True  True  True\n",
            "  True  True  True  True  True  True  True  True  True  True  True  True\n",
            "  True  True  True  True  True  True  True  True  True  True  True  True\n",
            "  True  True  True  True  True  True  True  True  True  True  True  True\n",
            "  True  True  True  True  True  True  True  True  True  True  True  True\n",
            "  True  True  True  True  True  True  True  True  True  True  True  True\n",
            "  True  True  True  True  True  True  True  True  True  True  True  True\n",
            "  True  True  True  True  True  True  True]\n",
            "223\n",
            "[14, 9, 10, 9, 10, 14, 4, 14, 4, 9, 4, 7, 0, 0, 11, 11, 8, 14, 11, 6, 4, 7, 2, 2, 0, 9, 4, 1, 14, 10, 12, 11, 12, 10, 1, 6, 8, 0, 10, 5, 8, 11, 5, 10, 11, 11, 1, 6, 10, 5, 14, 10, 14, 1, 14, 1, 2, 8, 12, 0, 4, 4, 12, 7, 2, 14, 9, 7, 4, 9, 0, 14, 8, 9, 6, 13, 9, 9, 13, 6, 1, 10, 3, 0, 12, 6, 13, 3, 11, 6, 13, 0, 4, 8, 14, 11, 7, 0, 7, 8, 7, 0, 10, 7, 2, 4, 9, 11, 5, 5, 6, 12, 9, 7, 13, 2, 13, 4, 0, 13, 13, 2, 5, 8, 12, 9, 1, 8, 6, 12, 12, 13, 12, 10, 2, 0, 12, 11, 2, 14, 10, 9, 1, 13, 1, 8, 6, 7, 6, 4, 8, 0, 7, 12, 1, 2, 2, 5, 0, 7, 1, 8, 4, 1, 12, 8, 7, 12, 12, 1, 9, 11, 2, 6, 10, 12, 7, 3, 1, 7, 9, 5, 9, 0, 11, 11, 11, 0, 0, 0, 8, 14, 2, 9, 10, 6, 10, 4, 4, 4, 14, 9, 2, 10, 14, 11, 3, 11, 3, 6, 10, 10, 10, 8, 9, 10, 9, 11, 0, 3, 14, 4, 7]\n",
            "[14  9 10  9 10 14  4 14  4  9  4  7  0  0 11 11  8 14 11  6  4  7  2  2\n",
            "  0  9  4  1 14 10 12 11 12 10  1  6  8  0 10  5  8 11  5 10 11 11  1  6\n",
            " 10  5 14 10 14  1 14  1  2  8 12  0  4  4 12  7  2 14  9  7  4  9  0 14\n",
            "  8  9  6 13  9  9 13  6  1 10  3  0 12  6 13  3 11  6 13  0  4  8 14 11\n",
            "  7  0  7  8  7  0 10  7  2  4  9 11  5  5  6 12  9  7 13  2 13  4  0 13\n",
            " 13  2  5  8 12  9  1  8  6 12 12 13 12 10  2  0 12 11  2 14 10  9  1 13\n",
            "  1  8  6  7  6  4  8  0  7 12  1  2  2  5  0  7  1  8  4  1 12  8  7 12\n",
            " 12  1  9 11  2  6 10 12  7  3  1  7  9  5  9  0 11 11 11  0  0  0  8 14\n",
            "  2  9 10  6 10  4  4  4 14  9  2 10 14 11  3 11  3  6 10 10 10  8  9 10\n",
            "  9 11  0  3 14  4  7]\n",
            "[ True  True  True  True  True  True  True  True  True  True  True  True\n",
            "  True  True  True  True  True  True  True  True  True  True  True  True\n",
            "  True  True  True  True  True  True  True  True  True  True  True  True\n",
            "  True  True  True  True  True  True  True  True  True  True  True  True\n",
            "  True  True  True  True  True  True  True  True  True  True  True  True\n",
            "  True  True  True  True  True  True  True  True  True  True  True  True\n",
            "  True  True  True  True  True  True  True  True  True  True  True  True\n",
            "  True  True  True  True  True  True  True  True  True  True  True  True\n",
            "  True  True  True  True  True  True  True  True  True  True  True  True\n",
            "  True  True  True  True  True  True  True  True  True  True  True  True\n",
            "  True  True  True  True  True  True  True  True  True  True  True  True\n",
            "  True  True  True  True  True  True  True  True  True  True  True  True\n",
            "  True  True  True  True  True  True  True  True  True  True  True  True\n",
            "  True  True  True  True  True  True  True  True  True  True  True  True\n",
            "  True  True  True  True  True  True  True  True  True  True  True  True\n",
            "  True  True  True  True  True  True  True  True  True  True  True  True\n",
            "  True  True  True  True  True  True  True  True  True  True  True  True\n",
            "  True  True  True  True  True  True  True  True  True  True  True  True\n",
            "  True  True  True  True  True  True  True  True  True  True  True  True\n",
            "  True  True  True  True  True  True  True  True  True  True  True  True\n",
            "  True  True  True]\n",
            "243\n",
            "[12, 4, 7, 12, 0, 2, 3, 7, 3, 3, 8, 11, 3, 7, 8, 4, 14, 2, 6, 2, 12, 6, 10, 9, 4, 8, 3, 0, 1, 14, 8, 2, 7, 6, 9, 1, 8, 3, 11, 5, 4, 11, 7, 12, 14, 0, 8, 13, 8, 1, 4, 11, 7, 1, 8, 0, 8, 3, 2, 5, 13, 10, 1, 9, 10, 1, 6, 10, 1, 12, 5, 1, 6, 6, 2, 13, 7, 14, 14, 10, 8, 12, 1, 10, 13, 8, 6, 9, 10, 4, 9, 4, 9, 6, 4, 9, 2, 10, 13, 8, 0, 6, 10, 2, 4, 6, 7, 7, 5, 11, 6, 5, 8, 9, 14, 10, 14, 0, 11, 2, 10, 4, 9, 8, 0, 3, 1, 0, 13, 4, 1, 2, 8, 13, 1, 4, 7, 2, 14, 9, 8, 2, 7, 2, 0, 10, 1, 5, 8, 9, 12, 2, 6, 1, 11, 8, 14, 8, 14, 4, 8, 3, 0, 9, 10, 7, 10, 13, 7, 3, 14, 7, 11, 8, 14, 1, 5, 1, 2, 8, 7, 12, 1, 8, 10, 0, 1, 3, 6, 5, 8, 4, 10, 9, 8, 4, 1, 6, 10, 13, 9, 12, 2, 1, 6, 6, 0, 0, 7, 1, 11, 1, 3, 8, 10, 0, 4, 8, 9, 4, 8, 1, 2, 8, 11, 12, 5, 4, 5, 11, 2, 10, 10, 11, 7, 7, 2, 1, 6, 13, 3, 5, 3]\n",
            "[12  4  7 12  0  2  3  7  3  3  8 11  3  7  8  4 14  2  6  2 12  6 10  9\n",
            "  4  8  3  0  1 14  8  2  7  6  9  1  8  3 11  5  4 11  7 12 14  0  8 13\n",
            "  8  1  4 11  7  1  8  0  8  3  2  5 13 10  1  9 10  1  6 10  1 12  5  1\n",
            "  6  6  2 13  7 14 14 10  8 12  1 10 13  8  6  9 10  4  9  4  9  6  4  9\n",
            "  2 10 13  8  0  6 10  2  4  6  7  7  5 11  6  5  8  9 14 10 14  0 11  2\n",
            " 10  4  9  8  0  3  1  0 13  4  1  2  8 13  1  4  7  2 14  9  8  2  7  2\n",
            "  0 10  1  5  8  9 12  2  6  1 11  8 14  8 14  4  8  3  0  9 10  7 10 13\n",
            "  7  3 14  7 11  8 14  1  5  1  2  8  7 12  1  8 10  0  1  3  6  5  8  4\n",
            " 10  9  8  4  1  6 10 13  9 12  2  1  6  6  0  0  7  1 11  1  3  8 10  0\n",
            "  4  8  9  4  8  1  2  8 11 12  5  4  5 11  2 10 10 11  7  7  2  1  6 13\n",
            "  3  5  3]\n",
            "[ True  True  True  True  True  True  True  True  True  True  True  True\n",
            "  True  True  True  True  True  True  True  True  True  True  True  True\n",
            "  True  True  True  True  True  True  True  True  True  True  True  True\n",
            "  True  True  True  True  True  True  True  True  True  True  True  True\n",
            "  True  True  True  True  True  True  True  True  True  True  True  True\n",
            "  True  True  True  True  True  True  True  True  True  True  True  True\n",
            "  True  True  True  True  True  True  True  True  True  True  True  True\n",
            "  True  True  True  True  True  True  True  True  True  True  True  True\n",
            "  True  True  True  True  True  True  True  True  True  True  True  True\n",
            "  True  True  True  True  True  True  True  True  True  True  True  True\n",
            "  True  True  True  True  True  True  True  True  True  True  True  True\n",
            "  True  True  True  True  True  True  True  True  True  True  True  True\n",
            "  True  True  True  True  True  True  True  True  True  True  True  True\n",
            "  True  True  True  True  True  True  True  True  True  True  True  True\n",
            "  True  True  True  True  True  True  True  True  True  True  True  True\n",
            "  True  True  True  True  True  True  True  True  True  True  True  True\n",
            "  True  True  True  True  True  True  True  True  True  True  True  True\n",
            "  True  True  True  True  True  True  True  True  True  True  True  True\n",
            "  True  True  True  True  True  True  True  True  True  True  True  True\n",
            "  True  True  True  True  True  True  True  True  True  True  True  True\n",
            "  True  True  True]\n",
            "243\n",
            "[7, 5, 9, 12, 2, 7, 4, 10, 13, 13, 1, 7, 11, 3, 6, 5, 10, 2, 7, 8, 12, 9, 5, 8, 4, 14, 7, 0, 8, 11, 8, 3, 13, 10, 7, 14, 0, 12, 5, 9, 11, 14, 2, 0, 3, 9, 8, 11, 12, 0, 2, 0, 4, 6, 4, 6, 2, 11, 2, 12, 2, 9, 8, 9, 14, 10, 2, 13, 7, 1, 12, 13, 6, 13, 10, 2, 8, 14, 11, 10, 7, 13, 14, 13, 7, 9, 10, 10, 5, 8, 14, 0, 11, 8, 13, 2, 10, 3, 7, 12, 6, 11, 6, 1, 6, 14, 14, 0, 4, 13, 1, 6, 0, 7, 11, 5, 11, 0, 9, 10, 1, 11, 11, 4, 8, 6, 8, 1, 10, 4, 9, 9, 3, 3, 8, 4, 4, 10, 0, 2, 13, 7, 0, 8, 1, 3, 3, 14, 2, 9, 0, 5, 11, 11, 3, 6, 11, 1, 6, 11, 2, 1, 12, 8, 9, 12, 2, 8, 3, 6, 2, 9, 2, 5, 9, 9, 14, 12, 14, 0, 10, 13, 2, 1, 7, 6, 13, 0, 14, 4, 13, 6, 2, 7, 1, 14, 5, 5, 9, 6, 5, 11, 12, 8, 2, 2, 2, 0, 7, 5, 12, 4, 14, 8, 9, 9, 1, 12, 3, 7, 9, 0, 7, 7, 12, 4, 6, 8, 12, 14, 3, 2, 11, 7, 1, 6, 13, 10, 7, 0, 6, 8, 8]\n",
            "[ 7  5  9 12  2  7  4 10 13 13  1  7 11  3  6  5 10  2  7  8 12  9  5  8\n",
            "  4 14  7  0  8 11  8  3 13 10  7 14  0 12  5  9 11 14  2  0  3  9  8 11\n",
            " 12  0  2  0  4  6  4  6  2 11  2 12  2  9  8  9 14 10  2 13  7  1 12 13\n",
            "  6 13 10  2  8 14 11 10  7 13 14 13  7  9 10 10  5  8 14  0 11  8 13  2\n",
            " 10  3  7 12  6 11  6  1  6 14 14  0  4 13  1  6  0  7 11  5 11  0  9 10\n",
            "  1 11 11  4  8  6  8  1 10  4  9  9  3  3  8  4  4 10  0  2 13  7  0  8\n",
            "  1  3  3 14  2  9  0  5 11 11  3  6 11  1  6 11  2  1 12  8  9 12  2  8\n",
            "  3  6  2  9  2  5  9  9 14 12 14  0 10 13  2  1  7  6 13  0 14  4 13  6\n",
            "  2  7  1 14  5  5  9  6  5 11 12  8  2  2  2  0  7  5 12  4 14  8  9  9\n",
            "  1 12  3  7  9  0  7  7 12  4  6  8 12 14  3  2 11  7  1  6 13 10  7  0\n",
            "  6  8  8]\n",
            "[ True  True  True  True  True  True  True  True  True  True  True  True\n",
            "  True  True  True  True  True  True  True  True  True  True  True  True\n",
            "  True  True  True  True  True  True  True  True  True  True  True  True\n",
            "  True  True  True  True  True  True  True  True  True  True  True  True\n",
            "  True  True  True  True  True  True  True  True  True  True  True  True\n",
            "  True  True  True  True  True  True  True  True  True  True  True  True\n",
            "  True  True  True  True  True  True  True  True  True  True  True  True\n",
            "  True  True  True  True  True  True  True  True  True  True  True  True\n",
            "  True  True  True  True  True  True  True  True  True  True  True  True\n",
            "  True  True  True  True  True  True  True  True  True  True  True  True\n",
            "  True  True  True  True  True  True  True  True  True  True  True  True\n",
            "  True  True  True  True  True  True  True  True  True  True  True  True\n",
            "  True  True  True  True  True  True  True  True  True  True  True  True\n",
            "  True  True  True  True  True  True  True  True  True  True  True  True\n",
            "  True  True  True  True  True  True  True  True  True  True  True  True\n",
            "  True  True  True  True  True  True  True  True  True  True  True  True\n",
            "  True  True  True  True  True  True  True  True  True  True  True  True\n",
            "  True  True  True  True  True  True  True  True  True  True  True  True\n",
            "  True  True  True  True  True  True  True  True  True  True  True  True\n",
            "  True  True  True  True  True  True  True  True  True  True  True  True\n",
            "  True  True  True  True  True  True  True]\n",
            "247\n",
            "[0, 3, 3, 5, 14, 3, 6, 0, 11, 7, 14, 5, 14, 7, 9, 6, 5, 11, 4, 3, 13, 14, 1, 9, 3, 3, 14, 10, 2, 9, 6, 13, 11, 3, 11, 5, 10, 0, 6, 11, 12, 9, 2, 0, 6, 13, 5, 3, 1, 13, 2, 14, 8, 0, 1, 0, 11, 7, 12, 3, 7, 4, 4, 4, 13, 9, 10, 1, 5, 1, 5, 14, 12, 2, 8, 3, 11, 3, 4, 9, 2, 3, 5, 3, 3, 14, 10, 10, 7, 7, 8, 11, 11, 7, 6, 14, 11, 14, 2, 13, 4, 1, 3, 0, 7, 5, 9, 9, 1, 6, 14, 1, 1, 13, 1, 7, 7, 11, 14, 8, 7, 5, 6, 7, 3, 8, 12, 12, 8, 11, 12, 2, 13, 7, 5, 11, 1, 10, 3, 9, 10, 3, 6, 14, 10, 2, 6, 11, 8, 11, 4, 4, 0, 14, 12, 4, 8, 11, 0, 14, 14, 14, 11, 9, 2, 0, 14, 6, 12, 6, 8, 8, 11, 4, 10, 7, 12, 5, 5, 9, 2, 4, 5, 5, 3, 5, 14, 11, 6, 11, 2, 13, 0, 6, 7, 10, 8, 1, 11, 7, 3, 3, 7, 5, 5, 5, 10, 9, 1, 7, 10, 5, 14, 3, 3, 11, 8, 1, 8, 3, 6, 9, 6, 6, 1, 0, 10, 4, 11, 5, 8, 2, 8, 14, 14, 0, 10, 5, 5, 12, 10, 10, 2, 5, 2, 0, 8]\n",
            "[ 0  3  3  5 14  3  6  0 11  7 14  5 14  7  9  6  5 11  4  3 13 14  1  9\n",
            "  3  3 14 10  2  9  6 13 11  3 11  5 10  0  6 11 12  9  2  0  6 13  5  3\n",
            "  1 13  2 14  8  0  1  0 11  7 12  3  7  4  4  4 13  9 10  1  5  1  5 14\n",
            " 12  2  8  3 11  3  4  9  2  3  5  3  3 14 10 10  7  7  8 11 11  7  6 14\n",
            " 11 14  2 13  4  1  3  0  7  5  9  9  1  6 14  1  1 13  1  7  7 11 14  8\n",
            "  7  5  6  7  3  8 12 12  8 11 12  2 13  7  5 11  1 10  3  9 10  3  6 14\n",
            " 10  2  6 11  8 11  4  4  0 14 12  4  8 11  0 14 14 14 11  9  2  0 14  6\n",
            " 12  6  8  8 11  4 10  7 12  5  5  9  2  4  5  5  3  5 14 11  6 11  2 13\n",
            "  0  6  7 10  8  1 11  7  3  3  7  5  5  5 10  9  1  7 10  5 14  3  3 11\n",
            "  8  1  8  3  6  9  6  6  1  0 10  4 11  5  8  2  8 14 14  0 10  5  5 12\n",
            " 10 10  2  5  2  0  8]\n",
            "[ True  True  True  True  True  True  True  True  True  True  True  True\n",
            "  True  True  True  True  True  True  True  True  True  True  True  True\n",
            "  True  True  True  True  True  True  True  True  True  True  True  True\n",
            "  True  True  True  True  True  True  True  True  True  True  True  True\n",
            "  True  True  True  True  True  True  True  True  True  True  True  True\n",
            "  True  True  True  True  True  True  True  True  True  True  True  True\n",
            "  True  True  True  True  True  True  True  True  True  True  True  True\n",
            "  True  True  True  True  True  True  True  True  True  True  True  True\n",
            "  True  True  True  True  True  True  True  True  True  True  True  True\n",
            "  True  True  True  True  True  True  True  True  True  True  True  True\n",
            "  True  True  True  True  True  True  True  True  True  True  True  True\n",
            "  True  True  True  True  True  True  True  True  True  True  True  True\n",
            "  True  True  True  True  True  True  True  True  True  True  True  True\n",
            "  True  True  True  True  True  True  True  True  True  True  True  True\n",
            "  True  True  True  True  True  True  True  True  True  True  True  True\n",
            "  True  True  True  True  True  True  True  True  True  True  True  True\n",
            "  True  True  True  True  True  True  True  True  True  True  True  True\n",
            "  True  True  True  True  True  True  True  True  True  True  True  True\n",
            "  True  True  True  True  True  True  True  True  True  True  True  True\n",
            "  True  True  True  True  True  True  True  True  True  True  True  True\n",
            "  True  True  True  True  True  True  True]\n",
            "247\n",
            "[6, 9, 9, 13, 4, 4, 7, 9, 6, 12, 3, 3, 7, 0, 13, 3, 14, 10, 6, 9, 14, 14, 0, 1, 13, 1, 13, 11, 7, 0, 3, 11, 1, 1, 0, 14, 12, 9, 11, 11, 13, 10, 14, 10, 10, 5, 10, 4, 14, 12, 12, 13, 10, 8, 0, 14, 6, 5, 2, 9, 1, 3, 4, 0, 10, 7, 14, 5, 9, 12, 12, 6, 0, 6, 8, 0, 3, 6, 10, 12, 12, 1, 4, 13, 5, 7, 7, 0, 5, 6, 14, 8, 5, 9, 13, 8, 3, 7, 7, 0, 3, 11, 11, 3, 8, 11, 8, 12, 0, 2, 12, 6, 13, 1, 4, 11, 13, 10, 5, 13, 0, 0, 14, 5, 13, 3, 6, 8, 2, 13, 5, 4, 13, 8, 13, 0, 0, 1, 12, 1, 9, 1, 12, 3, 8, 0, 8, 7, 1, 0, 6, 4, 7, 12, 9, 11, 13, 13, 11, 11, 2, 12, 14, 3, 12, 2, 2, 6, 10, 8, 6, 10, 5, 8, 11, 3, 0, 13, 3, 7, 13, 5, 5, 0, 6, 10, 2, 1, 7, 0, 3, 14, 1, 7, 6, 5, 2, 11, 6, 4, 4, 14, 1, 0, 5, 4, 10, 10, 8, 6, 1, 12, 14, 9, 12, 11, 10, 12, 2, 1, 6, 9, 1, 3, 6, 13, 5, 8, 9, 13, 10, 0, 1, 2, 11, 8, 2, 9, 12, 1, 11, 6, 3, 0, 12, 5, 13]\n",
            "[ 6  9  9 13  4  4  7  9  6 12  3  3  7  0 13  3 14 10  6  9 14 14  0  1\n",
            " 13  1 13 11  7  0  3 11  1  1  0 14 12  9 11 11 13 10 14 10 10  5 10  4\n",
            " 14 12 12 13 10  8  0 14  6  5  2  9  1  3  4  0 10  7 14  5  9 12 12  6\n",
            "  0  6  8  0  3  6 10 12 12  1  4 13  5  7  7  0  5  6 14  8  5  9 13  8\n",
            "  3  7  7  0  3 11 11  3  8 11  8 12  0  2 12  6 13  1  4 11 13 10  5 13\n",
            "  0  0 14  5 13  3  6  8  2 13  5  4 13  8 13  0  0  1 12  1  9  1 12  3\n",
            "  8  0  8  7  1  0  6  4  7 12  9 11 13 13 11 11  2 12 14  3 12  2  2  6\n",
            " 10  8  6 10  5  8 11  3  0 13  3  7 13  5  5  0  6 10  2  1  7  0  3 14\n",
            "  1  7  6  5  2 11  6  4  4 14  1  0  5  4 10 10  8  6  1 12 14  9 12 11\n",
            " 10 12  2  1  6  9  1  3  6 13  5  8  9 13 10  0  1  2 11  8  2  9 12  1\n",
            " 11  6  3  0 12  5 13]\n"
          ]
        }
      ]
    },
    {
      "cell_type": "markdown",
      "metadata": {
        "id": "WJcI7y_FM1Z3"
      },
      "source": [
        "#Анализ системы"
      ]
    },
    {
      "cell_type": "markdown",
      "metadata": {
        "id": "iW83OVi8M5HF"
      },
      "source": [
        "Существует т.н аткак по информационным совокупностям, главная ее цель - найти базисные векторы в порождающей матрице кода, которые не содержали бы ошибок. Для данной оперции можно оценить среднее число попыток, в завивисмости от параметров кода и числа ошибок:\\\n",
        "$\\dfrac{C_{n}^{k}}{C_{n-t}^{k}}$, где n - длина сообщения, k - число информационных символов, t - число ошибок. Т.е. оценку можно воспринимать, как оценку числа попыток снизу, а значит мы исходим из ситуации, что атакующему \"везет\".\n",
        "\\\n",
        "\\\n",
        "Попробуем визуализировать число попыток для первого внешнего кода на графике"
      ]
    },
    {
      "cell_type": "code",
      "metadata": {
        "id": "6cAIW5uuzE_Q"
      },
      "source": [
        "# фиксирую случайность для анализа\n",
        "np.random.seed(123)"
      ],
      "execution_count": null,
      "outputs": []
    },
    {
      "cell_type": "code",
      "metadata": {
        "id": "GNWmUFuvkKZf"
      },
      "source": [
        "import matplotlib.pyplot as plt\n",
        "from math import factorial\n",
        "from tqdm import trange\n",
        "\n",
        "n = 255  # длина сообщения\n",
        "p = np.arange(0.01, 0.04, 0.00005)  # вероятности появления ошибок в канале\n",
        "\n",
        "def attempts_count(p):\n",
        "  attempts = [] \n",
        "  for i in trange(len(p)):\n",
        "    p_A, p_B, t_B, r_B = unoptimised_prob(p[i], stats=False)  \n",
        "    # r_B_result = optimised_code_params(prob)[0]\n",
        "    r_B_result = r_B[0]\n",
        "\n",
        "    k = n - r_B_result  # число информационных символов\n",
        "\n",
        "    noise = GF_inner(np.random.choice(2, (n_A,n_B), p=[1 - p[i], p[i]]))  \n",
        "    t_fact = errors_of_H_product(noise, stat=False)  # число ошибок\n",
        "\n",
        "    attempts.append(factorial(n) * factorial(n - t_fact - k) / (factorial(n-k) * factorial(n-t_fact)))\n",
        "  return attempts"
      ],
      "execution_count": null,
      "outputs": []
    },
    {
      "cell_type": "code",
      "metadata": {
        "id": "EZgLHzj39Uab",
        "colab": {
          "base_uri": "https://localhost:8080/"
        },
        "outputId": "30bf9866-eaa5-47f3-a826-4b8b8dc27a41"
      },
      "source": [
        "attempts = attempts_count(p)"
      ],
      "execution_count": null,
      "outputs": [
        {
          "output_type": "stream",
          "name": "stderr",
          "text": [
            "100%|██████████| 600/600 [05:07<00:00,  1.95it/s]\n"
          ]
        }
      ]
    },
    {
      "cell_type": "code",
      "metadata": {
        "colab": {
          "base_uri": "https://localhost:8080/",
          "height": 295
        },
        "id": "HChhl_JdV4A8",
        "outputId": "354b8e4b-8f4b-46bc-d05e-0e917ab31982"
      },
      "source": [
        "plt.plot(p[:len(attempts)],attempts[:])\n",
        "plt.xlabel('Вероятность ошибки')\n",
        "plt.ylabel('Число попыток')\n",
        "plt.title('График числа попыток атакующего')\n",
        "plt.show()"
      ],
      "execution_count": null,
      "outputs": [
        {
          "output_type": "display_data",
          "data": {
            "image/png": "[encoded data removed]",
            "text/plain": [
              "<Figure size 432x288 with 1 Axes>"
            ]
          },
          "metadata": {
            "needs_background": "light"
          }
        }
      ]
    },
    {
      "cell_type": "code",
      "metadata": {
        "colab": {
          "base_uri": "https://localhost:8080/"
        },
        "id": "WwyuTpiEgLtj",
        "outputId": "93feb1c5-6388-4291-d899-7155af79b449"
      },
      "source": [
        "# найдем максимум\n",
        "max_idx = np.argmax(attempts)\n",
        "p_A, p_B, t_B, r_B = unoptimised_prob(p[max_idx])\n",
        "r_B_result = optimised_code_params(p[max_idx])[0] \n",
        "t_fact = errors_of_H_product(noise, stat=False)\n",
        "print(f'Probability of error: {round(p[max_idx], 4)} gives max amount of attempts: {attempts[max_idx] // 1e11 / 10}e12 with k = {n - r_B_result} and t = {t_fact}')"
      ],
      "execution_count": null,
      "outputs": [
        {
          "output_type": "stream",
          "name": "stdout",
          "text": [
            "probability of errors in columns [0.11352559106695473, 0.005894161892403213, 0.00017687390543971208, 3.3325513864068732e-06]\n",
            "external code error probability  [0.9999999999999618, 0.7785278123919612, 0.044104646812993295, 0.0008494410400637194]\n",
            "t_B [67 15  5  3]\n",
            "Probability of error: 0.0149 gives max amount of attempts: 8458.2e12 with k = 121 and t = 30\n"
          ]
        }
      ]
    },
    {
      "cell_type": "code",
      "metadata": {
        "colab": {
          "base_uri": "https://localhost:8080/",
          "height": 312
        },
        "id": "GVVJK9AW4fTw",
        "outputId": "8c6e5e24-c9b0-4002-d96f-19682f62ebe6"
      },
      "source": [
        "# Для системы поболее\n",
        "n_B = 512\n",
        "n = n_B\n",
        "\n",
        "attempts = attempts_count(p)\n",
        "\n",
        "plt.plot(p[:len(attempts)],attempts[:])\n",
        "plt.xlabel('Вероятность ошибки')\n",
        "plt.ylabel('Число попыток')\n",
        "plt.title('График числа попыток атакующего')\n",
        "plt.show()"
      ],
      "execution_count": null,
      "outputs": [
        {
          "output_type": "stream",
          "name": "stderr",
          "text": [
            "100%|██████████| 600/600 [10:37<00:00,  1.06s/it]\n"
          ]
        },
        {
          "output_type": "display_data",
          "data": {
            "image/png": "[encoded data removed]",
            "text/plain": [
              "<Figure size 432x288 with 1 Axes>"
            ]
          },
          "metadata": {
            "needs_background": "light"
          }
        }
      ]
    },
    {
      "cell_type": "code",
      "metadata": {
        "colab": {
          "base_uri": "https://localhost:8080/"
        },
        "id": "9nN_n40s5hZj",
        "outputId": "16a5cb58-9550-4348-c8ee-2f01fe06aaa0"
      },
      "source": [
        "max_idx = np.argmax(attempts)\n",
        "p_A, p_B, t_B, r_B = unoptimised_prob(p[max_idx])\n",
        "r_B_result = optimised_code_params(p[max_idx])[0] \n",
        "t_fact = errors_of_H_product(noise, stat=False)\n",
        "print(f'Probability of error: {round(p[max_idx], 4)} gives max amount of attempts: {attempts[max_idx] // 1e11 / 10}e12 with k = {n - r_B_result} and t = {t_fact}')"
      ],
      "execution_count": null,
      "outputs": [
        {
          "output_type": "stream",
          "name": "stdout",
          "text": [
            "probability of errors in columns [0.08060540748224386, 0.0029323359502501077, 6.144252264900544e-05, 8.072110054674501e-07]\n",
            "external code error probability  [0.9999999999999926, 0.7776631176556587, 0.03096983552127769, 0.0004132068081489614]\n",
            "t_B [87 15  5  2]\n",
            "Probability of error: 0.0104 gives max amount of attempts: 1.5445734726781574e+20e12 with k = 338 and t = 30\n"
          ]
        }
      ]
    },
    {
      "cell_type": "code",
      "metadata": {
        "colab": {
          "base_uri": "https://localhost:8080/",
          "height": 312
        },
        "id": "3WiGQMtYEEVl",
        "outputId": "ef284667-bb93-4317-a3c4-74ab24fd015d"
      },
      "source": [
        "# Для системы еще больше\n",
        "n_B = 1024\n",
        "n = n_B\n",
        "\n",
        "attempts = attempts_count(p)\n",
        "\n",
        "plt.plot(p[:len(attempts)],attempts[:])\n",
        "plt.xlabel('Вероятность ошибки')\n",
        "plt.ylabel('Число попыток')\n",
        "plt.title('График числа попыток атакующего')\n",
        "plt.show()"
      ],
      "execution_count": null,
      "outputs": [
        {
          "output_type": "stream",
          "name": "stderr",
          "text": [
            "100%|██████████| 600/600 [23:29<00:00,  2.35s/it]\n"
          ]
        },
        {
          "output_type": "display_data",
          "data": {
            "image/png": "[encoded data removed]",
            "text/plain": [
              "<Figure size 432x288 with 1 Axes>"
            ]
          },
          "metadata": {
            "needs_background": "light"
          }
        }
      ]
    },
    {
      "cell_type": "code",
      "metadata": {
        "colab": {
          "base_uri": "https://localhost:8080/"
        },
        "id": "qAM1J0JnEKod",
        "outputId": "6b31ddbc-b3d0-461c-d689-6985f1962914"
      },
      "source": [
        "max_idx = np.argmax(attempts)\n",
        "p_A, p_B, t_B, r_B = unoptimised_prob(p[max_idx])\n",
        "r_B_result = optimised_code_params(p[max_idx])[0] \n",
        "t_fact = errors_of_H_product(noise, stat=False)\n",
        "print(f'Probability of error: {round(p[max_idx], 4)} gives max amount of attempts: {attempts[max_idx] // 1e11 / 10}e12 with k = {n - r_B_result} and t = {t_fact}')"
      ],
      "execution_count": null,
      "outputs": [
        {
          "output_type": "stream",
          "name": "stdout",
          "text": [
            "probability of errors in columns [0.157879575855385, 0.01161089426704872, 0.0004959689100806722, 1.3328473124206894e-05]\n",
            "external code error probability  [0.999999999999972, 0.9999935994004725, 0.3983011150857154, 0.013555729674325535]\n",
            "t_B [243  40  10   4]\n",
            "Probability of error: 0.0212 gives max amount of attempts: 6.214853034191263e+57e12 with k = 540 and t = 30\n"
          ]
        }
      ]
    }
  ]
}