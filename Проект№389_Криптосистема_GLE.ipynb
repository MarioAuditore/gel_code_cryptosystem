{
  "nbformat": 4,
  "nbformat_minor": 0,
  "metadata": {
    "colab": {
      "name": "Проект№389 Криптосистема GLE",
      "provenance": [],
      "collapsed_sections": [],
      "include_colab_link": true
    },
    "kernelspec": {
      "name": "python3",
      "display_name": "Python 3"
    }
  },
  "cells": [
    {
      "cell_type": "markdown",
      "metadata": {
        "id": "view-in-github",
        "colab_type": "text"
      },
      "source": [
        "<a href=\"https://colab.research.google.com/github/MarioAuditore/gel_code_cryptosystem/blob/main/%D0%9F%D1%80%D0%BE%D0%B5%D0%BA%D1%82%E2%84%96389_%D0%9A%D1%80%D0%B8%D0%BF%D1%82%D0%BE%D1%81%D0%B8%D1%81%D1%82%D0%B5%D0%BC%D0%B0_GLE.ipynb\" target=\"_parent\"><img src=\"https://colab.research.google.com/assets/colab-badge.svg\" alt=\"Open In Colab\"/></a>"
      ]
    },
    {
      "cell_type": "markdown",
      "metadata": {
        "id": "JDoONfhYZXK5"
      },
      "source": [
        "#Принцип работы\n",
        "https://docs.google.com/document/d/1wZh7OQzCrNuyKjhjgMV4VcaFkr9LenT3ZpGOFUlGOcE/edit?usp=sharing"
      ]
    },
    {
      "cell_type": "code",
      "metadata": {
        "colab": {
          "base_uri": "https://localhost:8080/"
        },
        "id": "BAQXMZ5A-cfG",
        "outputId": "3b1da187-3683-4f6a-8031-38968cff0fe8"
      },
      "source": [
        "pip install --upgrade unireedsolomon"
      ],
      "execution_count": null,
      "outputs": [
        {
          "output_type": "stream",
          "name": "stdout",
          "text": [
            "Collecting unireedsolomon\n",
            "  Downloading unireedsolomon-1.0.5-py3-none-any.whl (60 kB)\n",
            "\u001b[?25l\r\u001b[K     |█████▍                          | 10 kB 22.6 MB/s eta 0:00:01\r\u001b[K     |██████████▉                     | 20 kB 28.7 MB/s eta 0:00:01\r\u001b[K     |████████████████▏               | 30 kB 12.3 MB/s eta 0:00:01\r\u001b[K     |█████████████████████▋          | 40 kB 9.7 MB/s eta 0:00:01\r\u001b[K     |███████████████████████████     | 51 kB 5.1 MB/s eta 0:00:01\r\u001b[K     |████████████████████████████████| 60 kB 3.2 MB/s \n",
            "\u001b[?25hInstalling collected packages: unireedsolomon\n",
            "Successfully installed unireedsolomon-1.0.5\n"
          ]
        }
      ]
    },
    {
      "cell_type": "code",
      "metadata": {
        "colab": {
          "base_uri": "https://localhost:8080/"
        },
        "id": "uMtvWWd9dP1P",
        "outputId": "96125c87-4128-4014-c53a-38d0cba415cf"
      },
      "source": [
        "pip install galois"
      ],
      "execution_count": null,
      "outputs": [
        {
          "output_type": "stream",
          "name": "stdout",
          "text": [
            "Collecting galois\n",
            "  Downloading galois-0.0.21-py3-none-any.whl (783 kB)\n",
            "\u001b[K     |████████████████████████████████| 783 kB 5.4 MB/s \n",
            "\u001b[?25hRequirement already satisfied: numpy<1.21,>=1.17.3 in /usr/local/lib/python3.7/dist-packages (from galois) (1.19.5)\n",
            "Collecting numba<0.54,>=0.53\n",
            "  Downloading numba-0.53.1-cp37-cp37m-manylinux2014_x86_64.whl (3.4 MB)\n",
            "\u001b[K     |████████████████████████████████| 3.4 MB 38.1 MB/s \n",
            "\u001b[?25hCollecting llvmlite<0.37,>=0.36.0rc1\n",
            "  Downloading llvmlite-0.36.0-cp37-cp37m-manylinux2010_x86_64.whl (25.3 MB)\n",
            "\u001b[K     |████████████████████████████████| 25.3 MB 74 kB/s \n",
            "\u001b[?25hRequirement already satisfied: setuptools in /usr/local/lib/python3.7/dist-packages (from numba<0.54,>=0.53->galois) (57.4.0)\n",
            "Installing collected packages: llvmlite, numba, galois\n",
            "  Attempting uninstall: llvmlite\n",
            "    Found existing installation: llvmlite 0.34.0\n",
            "    Uninstalling llvmlite-0.34.0:\n",
            "      Successfully uninstalled llvmlite-0.34.0\n",
            "  Attempting uninstall: numba\n",
            "    Found existing installation: numba 0.51.2\n",
            "    Uninstalling numba-0.51.2:\n",
            "      Successfully uninstalled numba-0.51.2\n",
            "Successfully installed galois-0.0.21 llvmlite-0.36.0 numba-0.53.1\n"
          ]
        }
      ]
    },
    {
      "cell_type": "code",
      "metadata": {
        "id": "8hf74-smxEh3"
      },
      "source": [
        "# проблемы с numba, которая есть в Galois\n",
        "# ей нужна особая версия numpy, а galois устанавливает новейшую по умолчанию"
      ],
      "execution_count": null,
      "outputs": []
    },
    {
      "cell_type": "code",
      "metadata": {
        "colab": {
          "base_uri": "https://localhost:8080/",
          "height": 318
        },
        "id": "hvFltiDFBCEv",
        "outputId": "3d5971eb-21e2-4952-b7a3-c07411483146"
      },
      "source": [
        "pip install --upgrade numpy==1.20"
      ],
      "execution_count": null,
      "outputs": [
        {
          "output_type": "stream",
          "name": "stdout",
          "text": [
            "Collecting numpy==1.20\n",
            "  Downloading numpy-1.20.0-cp37-cp37m-manylinux2010_x86_64.whl (15.3 MB)\n",
            "\u001b[K     |████████████████████████████████| 15.3 MB 17 kB/s \n",
            "\u001b[?25hInstalling collected packages: numpy\n",
            "  Attempting uninstall: numpy\n",
            "    Found existing installation: numpy 1.19.5\n",
            "    Uninstalling numpy-1.19.5:\n",
            "      Successfully uninstalled numpy-1.19.5\n",
            "\u001b[31mERROR: pip's dependency resolver does not currently take into account all the packages that are installed. This behaviour is the source of the following dependency conflicts.\n",
            "tensorflow 2.6.0 requires numpy~=1.19.2, but you have numpy 1.20.0 which is incompatible.\n",
            "datascience 0.10.6 requires folium==0.2.1, but you have folium 0.8.3 which is incompatible.\n",
            "albumentations 0.1.12 requires imgaug<0.2.7,>=0.2.5, but you have imgaug 0.2.9 which is incompatible.\u001b[0m\n",
            "Successfully installed numpy-1.20.0\n"
          ]
        },
        {
          "output_type": "display_data",
          "data": {
            "application/vnd.colab-display-data+json": {
              "pip_warning": {
                "packages": [
                  "numpy"
                ]
              }
            }
          },
          "metadata": {}
        }
      ]
    },
    {
      "cell_type": "markdown",
      "metadata": {
        "id": "a68fvnunoIT4"
      },
      "source": [
        "#Определим избыточность внешних кодов.\n"
      ]
    },
    {
      "cell_type": "code",
      "metadata": {
        "id": "L81oQt3ZLUCf"
      },
      "source": [
        "import galois\n",
        "import numpy as np\n",
        "#---------------------\n",
        "import math\n",
        "from array import array\n",
        "import random\n",
        "#---------------------\n",
        "import unireedsolomon as rs\n",
        "from unireedsolomon import polynomial as pl\n",
        "from unireedsolomon import ff\n",
        "#---------------------"
      ],
      "execution_count": null,
      "outputs": []
    },
    {
      "cell_type": "code",
      "metadata": {
        "id": "qo2H63s3s3AM"
      },
      "source": [
        "def C(n, k): #определим число перестановок\n",
        "    if 0 <= k <= n:\n",
        "        nn = 1\n",
        "        kk = 1\n",
        "        for t in range(1, min(k, n - k) + 1):\n",
        "            nn *= n\n",
        "            kk *= t\n",
        "            n -= 1\n",
        "        return nn // kk\n",
        "    else:\n",
        "        return 0"
      ],
      "execution_count": null,
      "outputs": []
    },
    {
      "cell_type": "code",
      "metadata": {
        "colab": {
          "base_uri": "https://localhost:8080/"
        },
        "id": "nxGcOKqzfz9H",
        "outputId": "1a5d245b-2731-4871-b6fa-9ab7820e0ef5"
      },
      "source": [
        "#обработка вероятностей\n",
        "n_A = 8 #характеристика внутреннего кода (число строк или длина столбца) tA_j=rA_j/2   rA_j--число проверочных символов jго внутр кода\n",
        "L = int(np.ceil(n_A/2)) #Число вложенных, пока задается тут \n",
        "n_B = 255\n",
        "#n_B = 256 #характеристика внешнего кода (число столбцов или длина строки)\n",
        "p = 0.01 #заданная вероятность ошибки в канале\n",
        "p_f = 10**(-10) #заказанная вероятность ошибки для внешнего кода\n",
        "\n",
        "p_A = [0]*L \n",
        "p_B = [0]*L\n",
        "t_B = np.array([0]*L) #число ошибок\n",
        "r_B = np.array([1]*L) #избыточность    изменил на 1, было 0\n",
        "#-------------------------------- вероятность ошибки в столбцах--------------\n",
        "for j in range(len(p_A)):\n",
        "    sum_buffer = 0 #используем для хранения суммы\n",
        "    for i in range ((j+1),n_A+1):\n",
        "      sum_buffer += C(n_A,i)*pow(p,i)*pow((1-p),(n_A-i))\n",
        "    p_A[j] = sum_buffer\n",
        "    \n",
        "print('probability of errors in columns',p_A)\n",
        "#----------------------------- вероятность ошибки внешнего кода-------------\n",
        "for j in range(len(p_A)):#сперва посчитаем все суммы, потом последовательно будем вычитать\n",
        "    sum_buffer = 0 #используем для хранения суммы\n",
        "    for i in range (1,n_B+1):\n",
        "      sum_buffer += C(n_B,i)*pow(p_A[j],i)*pow((1 - p_A[j]),(n_B-i))\n",
        "    p_B[j] = sum_buffer\n",
        "\n",
        "print('external code error probability ',p_B)\n",
        "#------------------------------ поиск tb_j--------------\n",
        "for j in range(len(p_B)): #алгоритм такой: мы знаем итоговую сумму, надо найти наименьшее tb_j, \n",
        "  i = 1                   #значит просто будем вычитать первые элементы суммы\n",
        "  sum_buffer = p_B[j]\n",
        "  while (sum_buffer > (p_f/L)):\n",
        "    sum_buffer = sum_buffer - C(n_B,i)*(p_A[j])**i*(1 - p_A[j])**(n_B-i)\n",
        "    if (sum_buffer <= (p_f/L)):\n",
        "      t_B[j] = i\n",
        "      break\n",
        "    else:\n",
        "      i+=1\n",
        "print('t_B',t_B)\n",
        "#----------------------поиск неоптимизированной избыточности---------------------\n",
        "for j in range(L):\n",
        "  r_B[j] = min(2*t_B[j],n_B)\n",
        "print('r_B',r_B)\n",
        "print('p_A',p_A)"
      ],
      "execution_count": null,
      "outputs": [
        {
          "output_type": "stream",
          "name": "stdout",
          "text": [
            "probability of errors in columns [0.0772553055720799, 0.0026900777395207007, 5.39333211979e-05, 6.778784035e-07]\n",
            "external code error probability  [0.9999999987531891, 0.4968636830156824, 0.013659222328340694, 0.00017284411221618322]\n",
            "t_B [53 11  4  2]\n",
            "r_B [106  22   8   4]\n",
            "p_A [0.0772553055720799, 0.0026900777395207007, 5.39333211979e-05, 6.778784035e-07]\n"
          ]
        }
      ]
    },
    {
      "cell_type": "code",
      "metadata": {
        "id": "9TWscEndf6XK"
      },
      "source": [
        "#------------------- вероятность ошибки по заданной избыточности -----------------\n",
        "def error_probability(r_B,n_A,n_B,p,L):\n",
        "  p_A = [0]*L\n",
        "  p_B = [0]*L\n",
        "  for j in range(len(p_A)):\n",
        "    sum_buffer = 0 #используем для хранения суммы\n",
        "    for i in range ((j+1),n_A+1):\n",
        "      sum_buffer += C(n_A,i)*p**(i)*(1-p)**(n_A-i)\n",
        "    p_A[j] = sum_buffer\n",
        "\n",
        "  for j in range(len(p_A)):#теперь вероятности для p_B\n",
        "    sum_buffer = 0 #используем для хранения суммы\n",
        "    i = math.ceil(r_B[j]/2)\n",
        "    while i <= n_B:\n",
        "      sum_buffer += C(n_B,i)*(p_A[j])**i*(1 - p_A[j])**(n_B-i)\n",
        "      i += 1\n",
        "    p_B[j] = sum_buffer\n",
        "  sum_buffer = 0\n",
        "  for j in range(len(p_B)):\n",
        "    sum_buffer += p_B[j]\n",
        "  return min(sum_buffer,1)"
      ],
      "execution_count": null,
      "outputs": []
    },
    {
      "cell_type": "code",
      "metadata": {
        "id": "YoPMkur_dVDU",
        "colab": {
          "base_uri": "https://localhost:8080/"
        },
        "outputId": "4f9d8d6d-e0f6-4ff2-8716-b366080b64c3"
      },
      "source": [
        "#------------------------------оптимизация----------------------------------\n",
        "r_B_optimised = np.array([[0]*L]*L)\n",
        "r_B_result = r_B\n",
        "stop_flag = 0 #активируется, если набор r_B[j] не изменится после 2-ух итераций\n",
        "r_B_previous = \"\" #если наш алгоритм достигнет наилучшей вероятности, то он просто начнет \"скакать\", т.е. будет поочердно прибавлять и отнимать избыточность\n",
        "p_variations = [0]*L #будем хранить вероятности всех вариаций\n",
        "p_min_index = 0 #индекс элемента с минимальной вероятностью\n",
        "while stop_flag==0:\n",
        "\n",
        "  if error_probability(r_B_result,n_A,n_B,p,L) < p_f: #если после наших махинаций вероятность будет больше, то нужно останавливаться. Заходим в увеличение избыточности и потом выходим\n",
        "    for j, row in enumerate(r_B_optimised):#применил новые форы\n",
        "      for k, item in enumerate(row):\n",
        "        if (j==k):\n",
        "          r_B_optimised[j][k] = (r_B_result[k] - 2)\n",
        "        else:\n",
        "          r_B_optimised[j][k] = r_B_result[k]\n",
        "    for j, item in enumerate(p_variations):\n",
        "      p_variations[j] = error_probability(r_B_optimised[j],n_A,n_B,p,L)\n",
        "    p_min_index = np.argmin(p_variations)\n",
        "    r_B_result = r_B_optimised[p_min_index]\n",
        "    r_B_previous = \"-2\"                               \n",
        "\n",
        "  elif error_probability(r_B_result,n_A,n_B,p,L) > p_f:\n",
        "    for j, row in enumerate(r_B_optimised): #применил новые форы\n",
        "      for k, item in enumerate(row):\n",
        "        if (j == k):\n",
        "          #print('r_B_optimised[j][k] =',r_B_optimised[j][k],'r_B_result[k] + 2 =',r_B_result[k] + 2,'k=',k,'j=',j)\n",
        "          r_B_optimised[j][k] = (r_B_result[k] + 2)\n",
        "          #print('r_B_optimised[j] =',r_B_optimised[j])\n",
        "        else:\n",
        "          r_B_optimised[j][k] = r_B_result[k]\n",
        "    #print(r_B_optimised,r_B_optimised[0][0]) \n",
        "    for j, item in enumerate(p_variations):#и тутс range(L) на это\n",
        "      p_variations[j] = error_probability(r_B_optimised[j],n_A,n_B,p,L)\n",
        "    p_min_index = np.argmin(p_variations)\n",
        "    r_B_result = r_B_optimised[p_min_index]\n",
        "    if r_B_previous == \"-2\":\n",
        "      stop_flag = 1\n",
        "      #break #вообще все должен выполнить break\n",
        "\n",
        "print('p_f =',p_f,', we got p =',error_probability(r_B_result,n_A,n_B,p,L))\n",
        "print(r_B,' - r_B')\n",
        "print(r_B_result,' - r_B_result')\n",
        "k = [n_B - i for i in r_B_result] #запоминаем число информационных симолов, вместе с избыточностями"
      ],
      "execution_count": null,
      "outputs": [
        {
          "output_type": "stream",
          "name": "stdout",
          "text": [
            "p_f = 1e-10 , we got p = 4.1255386728890974e-11\n",
            "[106  22   8   4]  - r_B\n",
            "[106  26  10   6]  - r_B_result\n"
          ]
        }
      ]
    },
    {
      "cell_type": "markdown",
      "metadata": {
        "id": "PADUVNTFsL3E"
      },
      "source": [
        "#Функции для ОЛО-кодов"
      ]
    },
    {
      "cell_type": "code",
      "metadata": {
        "id": "Z0uOZvR5C4az"
      },
      "source": [
        "#-----------генерация матрицы кода Рида-Соломона-------------\n",
        "def Generate_Reed_Solo_generic_matrix (n, k, gen, prime, c_exp):\n",
        "  coder = rs.RSCoder(n=n, k=k, generator=gen, prim=prime, fcr=1, c_exp=c_exp)\n",
        "  generic_poly = [int(i) for i in coder.g[k]]\n",
        "  G = []\n",
        "  print('generic polynomial =',generic_poly)\n",
        "  for i in range(n - len(generic_poly) + 1):\n",
        "    buf = [0] * i + generic_poly\n",
        "    buf = buf + [0] * (n - len(buf))\n",
        "    G.append(buf)\n",
        "  for i in range(1,len(G)):\n",
        "    j = 0\n",
        "    while j < i:\n",
        "      coef = G[j][i]\n",
        "      G[j] = [ff.GF2int(G[j][x]) - ff.GF2int(coef)*ff.GF2int(G[i][x]) for x in range(len(G[0]))]\n",
        "      j+=1\n",
        "  G[len(G) - 1] = [ff.GF2int(G[len(G) - 1][j]) for j in range(len(G[0]))]\n",
        "  return G"
      ],
      "execution_count": null,
      "outputs": []
    },
    {
      "cell_type": "code",
      "metadata": {
        "id": "8yqYH9A6qYsg"
      },
      "source": [
        "from numpy import linalg as LA\n",
        "import secrets #для хорошей случайной генерации \n",
        "import random #случайная генерация\n",
        "\n",
        "np.set_printoptions(suppress=True)\n",
        "\n",
        "#-----------для обработки ошибок list.index()-----------\n",
        "def index_of(val, in_list): \n",
        "    try:\n",
        "        return in_list.index(val)\n",
        "    except ValueError:\n",
        "        return -1 \n",
        "#-------для вставки нулей при обработке многочленов-----\n",
        "def insert_left(lst,n):\n",
        "  return [(0)]*(n - len(lst)) + [i for i in lst]\n",
        "#-----------переводим элементы матрицы в элементы поля---\n",
        "def matrix_to_GF(g): \n",
        "  result = []\n",
        "  for i in range(len(g)):\n",
        "    buf = [ff.GF2int(j) for j in g[i]]\n",
        "    result.append(buf)\n",
        "  \n",
        "  return result\n",
        "\n",
        "\n",
        "#-----------------генератор матриц для системы Мак-Элиса------------\n",
        "def McElise_matrices(g, GF, stats = False,calculate_s=False,calculate_p=False):\n",
        "    a = np.asarray(g).shape[0]      # алгоритм генерации сделан Данилом Кадочниковым СКБ-191\n",
        "    b = np.asarray(g).shape[1]\n",
        "    if stats:\n",
        "      print(\"Матрица G:\\n\", g, \"\\n\")\n",
        "      print(\"na = \", a, \", nb = \", b, \"\\n\", sep = '')\n",
        "    #=======невырожденная матрица===========\n",
        "    if calculate_s: #если надо будет посчитать только невырожденную матрицу\n",
        "      s = GF(np.random.randint(2 **GF.degree, size = (a, a)))\n",
        "      while (LA.det(s) == 0): #нам нужна невырожденная матрица, значит будем искать ее пока определитель не станет отличен от нуля\n",
        "        s = GF(np.random.randint(2, size = (a, a)))\n",
        "\n",
        "      if stats:\n",
        "        print(\"Матрица S:\")\n",
        "        print(s, \"\\n\")\n",
        "      if not calculate_p:\n",
        "        return s\n",
        "    #=======перестановочная матрица========\n",
        "    if calculate_p:\n",
        "      p = np.zeros((b, b), dtype = int)\n",
        "      positions_row = []\n",
        "      positions_column = []\n",
        "      for i in range(b):\n",
        "\n",
        "        #вычисляем ряды\n",
        "        j = secrets.randbelow(b)\n",
        "        while index_of(j,positions_row) != -1:\n",
        "          j = secrets.randbelow(b)\n",
        "        positions_row.append(j)\n",
        "\n",
        "        #вычисляем столбцы\n",
        "        q = secrets.randbelow(b)\n",
        "        while index_of(q,positions_column) != -1:\n",
        "          q = secrets.randbelow(b)\n",
        "        positions_column.append(q)\n",
        "\n",
        "      inverse1 = secrets.randbelow(2)\n",
        "      if inverse1 == 1:\n",
        "        positions_row = positions_row[::-1]\n",
        "      inverse2 = secrets.randbelow(2)\n",
        "      if inverse2 == 1:\n",
        "        positions_column = positions_column[::-1]\n",
        "\n",
        "      for i in range(b):\n",
        "        p[positions_row[i]][positions_column[i]] = 1\n",
        "    \n",
        "      p = GF(np.array(p,dtype=int))\n",
        "      if stats:\n",
        "        print(\"Матрица P:\")\n",
        "        print(p, \"\\n\")\n",
        "      if not calculate_s:\n",
        "        return p\n",
        "    if (calculate_p and calculate_s):\n",
        "      return s, p"
      ],
      "execution_count": null,
      "outputs": []
    },
    {
      "cell_type": "code",
      "metadata": {
        "colab": {
          "base_uri": "https://localhost:8080/"
        },
        "id": "kyE624aVQOoJ",
        "outputId": "1982ea84-b5cd-4d64-ce78-e2090304fc9b"
      },
      "source": [
        "#----------------------пример-----------------------------------  \n",
        "import random  \n",
        "ga = random.randint(10, 20)\n",
        "gb = random.randint(10, 20)\n",
        "s, p = McElise_matrices(np.random.randint(50, size = (ga, gb)), galois.GF(2**4), calculate_p=True, calculate_s=True, stats=True)"
      ],
      "execution_count": null,
      "outputs": [
        {
          "output_type": "stream",
          "name": "stdout",
          "text": [
            "Матрица G:\n",
            " [[25 37 15 12 14 18 14  1 10 17 19  4 39  6  0 32]\n",
            " [45  5 46 47 10 34  9 39  0 47 27  4  9 42 11  7]\n",
            " [47 48 26  0 22  3 10 48 20 18 10  2 48 43  2  5]\n",
            " [44 12 19  3 15 27 49 39  7 34  8 11 24 39 39 27]\n",
            " [36 36 33 29  9 33 41 43 45 11 31 29 33 42 30 45]\n",
            " [ 1 42 11 44  9 40 30 43  4 32 32 20 16 41 26 20]\n",
            " [17 19 16 46  3 14 33 19 48 15 17 20 27 44 11 16]\n",
            " [13  7 10  0 35 33 37 45  5  1 47 45 25 28 37 33]\n",
            " [19  4 42 23 32 44 42 31 14 47 46 43 11 42 18 36]\n",
            " [41 30 25 12 41 36 41 43 40  4  1 43 10 32 20 25]\n",
            " [12 12 32 47 10 45 20  8 29 20 22  9 35 14 48  0]\n",
            " [35  6 47 23  4 30 26 39 49 43 17 35 11 39 34  0]\n",
            " [ 6  5 49  2 46  5 11 32  0 40 44  0 21 42 30 38]] \n",
            "\n",
            "na = 13, nb = 16\n",
            "\n",
            "Матрица S:\n",
            "GF([[0, 1, 0, 0, 1, 0, 1, 0, 0, 0, 0, 1, 0],\n",
            "    [0, 1, 0, 1, 1, 0, 0, 0, 1, 1, 0, 1, 1],\n",
            "    [0, 0, 1, 1, 1, 0, 0, 0, 0, 1, 1, 1, 0],\n",
            "    [1, 0, 1, 1, 0, 0, 0, 0, 0, 1, 1, 1, 0],\n",
            "    [1, 1, 1, 1, 0, 0, 1, 0, 1, 1, 0, 0, 1],\n",
            "    [0, 0, 1, 0, 0, 1, 0, 1, 1, 1, 0, 1, 0],\n",
            "    [0, 0, 0, 1, 0, 0, 1, 0, 0, 1, 0, 1, 0],\n",
            "    [0, 1, 1, 1, 0, 1, 0, 0, 0, 1, 1, 0, 0],\n",
            "    [1, 1, 1, 1, 1, 1, 1, 0, 0, 0, 0, 1, 0],\n",
            "    [1, 0, 0, 0, 1, 1, 0, 0, 1, 0, 0, 0, 1],\n",
            "    [0, 1, 0, 1, 1, 0, 1, 0, 1, 1, 1, 1, 1],\n",
            "    [1, 0, 1, 1, 0, 0, 1, 1, 1, 0, 1, 1, 0],\n",
            "    [1, 0, 0, 1, 1, 0, 0, 1, 1, 1, 0, 0, 1]], order=2^4) \n",
            "\n",
            "Матрица P:\n",
            "GF([[0, 0, 0, 0, 0, 0, 0, 0, 0, 0, 0, 1, 0, 0, 0, 0],\n",
            "    [0, 0, 0, 0, 0, 0, 0, 0, 0, 0, 0, 0, 1, 0, 0, 0],\n",
            "    [0, 0, 0, 0, 0, 0, 0, 0, 0, 0, 0, 0, 0, 1, 0, 0],\n",
            "    [1, 0, 0, 0, 0, 0, 0, 0, 0, 0, 0, 0, 0, 0, 0, 0],\n",
            "    [0, 0, 0, 0, 0, 0, 0, 0, 1, 0, 0, 0, 0, 0, 0, 0],\n",
            "    [0, 0, 0, 0, 0, 0, 0, 0, 0, 0, 1, 0, 0, 0, 0, 0],\n",
            "    [0, 0, 0, 0, 0, 0, 0, 1, 0, 0, 0, 0, 0, 0, 0, 0],\n",
            "    [0, 0, 0, 1, 0, 0, 0, 0, 0, 0, 0, 0, 0, 0, 0, 0],\n",
            "    [0, 0, 0, 0, 1, 0, 0, 0, 0, 0, 0, 0, 0, 0, 0, 0],\n",
            "    [0, 0, 1, 0, 0, 0, 0, 0, 0, 0, 0, 0, 0, 0, 0, 0],\n",
            "    [0, 0, 0, 0, 0, 0, 0, 0, 0, 0, 0, 0, 0, 0, 0, 1],\n",
            "    [0, 0, 0, 0, 0, 0, 1, 0, 0, 0, 0, 0, 0, 0, 0, 0],\n",
            "    [0, 1, 0, 0, 0, 0, 0, 0, 0, 0, 0, 0, 0, 0, 0, 0],\n",
            "    [0, 0, 0, 0, 0, 0, 0, 0, 0, 1, 0, 0, 0, 0, 0, 0],\n",
            "    [0, 0, 0, 0, 0, 1, 0, 0, 0, 0, 0, 0, 0, 0, 0, 0],\n",
            "    [0, 0, 0, 0, 0, 0, 0, 0, 0, 0, 0, 0, 0, 0, 1, 0]], order=2^4) \n",
            "\n"
          ]
        }
      ]
    },
    {
      "cell_type": "markdown",
      "metadata": {
        "id": "XkpOHK7FJxQs"
      },
      "source": [
        "#Кодирование внешними кодами "
      ]
    },
    {
      "cell_type": "code",
      "metadata": {
        "colab": {
          "base_uri": "https://localhost:8080/"
        },
        "id": "jloYSPEcKLA3",
        "outputId": "730e7f81-61be-4158-dd4a-568f11d48f28"
      },
      "source": [
        "#------------------------------------ кодирование внешними кодами ----------------------------------------------\n",
        "#n_A - число строк\n",
        "#n_B - число столбцов\n",
        "c_exp_inner = 4 #поле внутренних кодов\n",
        "c_exp_outer = 2*c_exp_inner #поле внешних кодов -- размер 2^8 = 256 = n_B + 1 \n",
        "\n",
        "# создаем поля\n",
        "GF_inner = galois.GF(2**c_exp_inner)\n",
        "GF_outer = galois.GF(2**c_exp_outer)\n",
        "\n",
        "gen = 2 #задаем порождающий эелемент поля\n",
        "\n",
        "outer_prime = 285\n",
        "\n",
        "ff.init_lut(generator=gen,prim=outer_prime,c_exp=c_exp_outer) #иницализируем собственное поле из библиотеки unireedsolo\n",
        "\n",
        "# матрицы внешнего кода умножаются на слои и существуют над бОльшим полем\n",
        "G = [GF_outer(Generate_Reed_Solo_generic_matrix(n_B, k_var, gen=gen, prime=outer_prime, c_exp=c_exp_outer)) for k_var in k] #создаем попрождающие матрицы кодов"
      ],
      "execution_count": null,
      "outputs": [
        {
          "output_type": "stream",
          "name": "stdout",
          "text": [
            "generic polynomial = [1, 38, 239, 234, 1, 254, 167, 13, 150, 81, 184, 164, 89, 188, 90, 180, 17, 206, 91, 50, 107, 211, 53, 209, 125, 188, 210, 85, 115, 86, 228, 1, 200, 222, 200, 66, 210, 203, 172, 215, 127, 2, 55, 219, 111, 145, 32, 187, 239, 241, 5, 54, 9, 211, 15, 81, 248, 91, 44, 239, 250, 2, 16, 144, 127, 116, 224, 33, 106, 99, 182, 3, 87, 191, 82, 210, 194, 139, 48, 204, 84, 128, 192, 93, 212, 65, 193, 128, 205, 33, 251, 64, 129, 76, 128, 40, 84, 188, 85, 49, 218, 151, 84, 152, 222, 18, 111]\n",
            "generic polynomial = [1, 241, 204, 209, 64, 208, 165, 51, 3, 57, 178, 236, 106, 171, 194, 227, 74, 128, 230, 157, 236, 47, 54, 227, 229, 125, 217]\n",
            "generic polynomial = [1, 173, 47, 140, 190, 197, 30, 188, 68, 212, 160]\n",
            "generic polynomial = [1, 126, 4, 158, 58, 49, 117]\n"
          ]
        }
      ]
    },
    {
      "cell_type": "code",
      "metadata": {
        "colab": {
          "base_uri": "https://localhost:8080/"
        },
        "id": "eXJt0epOPLRi",
        "outputId": "2d608e2c-d98d-4e47-edee-5551d654480c"
      },
      "source": [
        "print(G[0])"
      ],
      "execution_count": null,
      "outputs": [
        {
          "output_type": "stream",
          "name": "stdout",
          "text": [
            "GF([[  1,   0,   0, ..., 178,   2,  99],\n",
            "    [  0,   1,   0, ...,  64, 116, 190],\n",
            "    [  0,   0,   1, ...,  61,  33,  73],\n",
            "    ...,\n",
            "    [  0,   0,   0, ..., 200,   5, 214],\n",
            "    [  0,   0,   0, ...,  46, 121,  30],\n",
            "    [  0,   0,   0, ..., 222,  18, 111]], order=2^8)\n"
          ]
        }
      ]
    },
    {
      "cell_type": "markdown",
      "metadata": {
        "id": "In0lqO9-1AcX"
      },
      "source": [
        "#Создание открытых ключей из порождающих матриц \n",
        "$G_{open}^{i} = S^{i} \\cdot G^{i} \\cdot P$, где $i$ -- индекс\n",
        "\n",
        "\n"
      ]
    },
    {
      "cell_type": "code",
      "metadata": {
        "id": "pLCwoUcN1EnS"
      },
      "source": [
        "P_G_private = GF_outer(McElise_matrices(G[0], GF_outer, calculate_p=True))  # матрица P будет одна на все слои, закрытый ключ\n",
        "\n",
        "\n",
        "S_G_private = []  # это закрытые ключи\n",
        "G_open = []  # это открытые ключи\n",
        "for i in range(len(G)):\n",
        "  S = GF_outer(McElise_matrices(G[i], GF_outer, calculate_s=True))\n",
        "  S_G_private.append(S) #закрытый ключ -- матрица P\n",
        "  G_open.append(S @ G[i] @ P_G_private) # открытый ключ -- произведение матриц\n",
        "\n",
        "# Т.е. из порождающих матриц кода Рида-Соломона мы создаем открытые ключи G_open\n",
        "# из закрытых ключей:: P_G_private, S_G_private, G."
      ],
      "execution_count": null,
      "outputs": []
    },
    {
      "cell_type": "code",
      "metadata": {
        "colab": {
          "base_uri": "https://localhost:8080/"
        },
        "id": "F99e_L7K4UDG",
        "outputId": "30157c3b-a931-4364-e709-850600d9c425"
      },
      "source": [
        "print(G_open[0])"
      ],
      "execution_count": null,
      "outputs": [
        {
          "output_type": "stream",
          "name": "stdout",
          "text": [
            "GF([[206,  59,  25, ...,  81,  51,  74],\n",
            "    [204, 182,  56, ..., 233, 189,  19],\n",
            "    [138,  47, 136, ..., 148, 173, 146],\n",
            "    ...,\n",
            "    [178, 149, 110, ..., 250,  51,  84],\n",
            "    [ 25, 120, 150, ..., 164, 138, 135],\n",
            "    [188,  67,  97, ..., 119, 226, 180]], order=2^8)\n"
          ]
        }
      ]
    },
    {
      "cell_type": "markdown",
      "metadata": {
        "id": "BxyLicuWpzu0"
      },
      "source": [
        "#Создание сообщения"
      ]
    },
    {
      "cell_type": "code",
      "metadata": {
        "id": "YwWjmQMYazqD"
      },
      "source": [
        "message = []\n",
        "# сообщение само по себе существует над мЕньшим полем (внутренним)\n",
        "for j in range(L):#на каждый слой\n",
        "  buf = []\n",
        "  for i in range(2):#по два сообщения\n",
        "    buf.append(np.random.randint(low = 0, high = 2**c_exp_inner - 1, size = k[j]))\n",
        "  message.append(buf)\n",
        "  \n",
        "#длина message равна L, а размер каждого его элемента 2xk"
      ],
      "execution_count": null,
      "outputs": []
    },
    {
      "cell_type": "markdown",
      "metadata": {
        "id": "foAYdlujp2lE"
      },
      "source": [
        "#Функции перевода слоя матрицы (слой это две строки) в вектор, принадлежащий полю внешних кодов."
      ]
    },
    {
      "cell_type": "code",
      "metadata": {
        "id": "VEtt1HOsm2IE"
      },
      "source": [
        "def msg_layer_to_vector (A, layer, GF):\n",
        "  # нужно внешнее поле GF_outer\n",
        "  #слой -- это матрица размера 2 на n_B\n",
        "  #А -- какое поле у внутреннего кода\n",
        "  new_layer = []\n",
        "  for i in range(len(layer[0])):\n",
        "    new_layer.append(int(layer[0][i]) * A + int(layer[1][i]))\n",
        "    #т.е. сообщение для внешнего кода состоит из символов вида x[0][i]*A^(1) + x[1][i]*A^(0)\n",
        "    #самый высокий разряд у верхнего символа, а у нижнего -- наименьший\n",
        "  #все операции происходят вне поля, но так как символы сообщения\n",
        "  #варируются от 0 до А-1 в новое поле мы войдем корректно, ведь B=A^2\n",
        "  return GF(new_layer)\n",
        "\n",
        "def msg_vector_to_layer(A, msg, GF):\n",
        "  # перед применением нужно передать внутреннее поле GF_inner\n",
        "  # сообщение с символами от 0 до A^2\n",
        "  layer = []\n",
        "  layer1 = []\n",
        "  layer2 = []\n",
        "  for i in range(len(msg)):\n",
        "    # перевод обратно в слой должен быть вне поля,\n",
        "    # но сам результат нужно делать элементом поля GF(A)\n",
        "    layer1.append(int(msg[i]) // A)\n",
        "    layer2.append(int(msg[i]) % A)\n",
        "  layer.append(GF(layer1))\n",
        "  layer.append(GF(layer2))\n",
        "  return layer\n",
        "\n",
        "#Таким образом, если в нашу матрицу прибавить ошибку типа |1| то для внешнего кода это будет ошибка 1*A + 0*A = A\n",
        "#                                                         |0|\n",
        "#При декодировании ошибки надо будет переводить в слоистый вид, чтобы понимать как с ними работать при внешних кодах"
      ],
      "execution_count": null,
      "outputs": []
    },
    {
      "cell_type": "markdown",
      "metadata": {
        "id": "EQT4A1V8QXUz"
      },
      "source": [
        "#Кодирование открытыми ключами"
      ]
    },
    {
      "cell_type": "code",
      "metadata": {
        "colab": {
          "base_uri": "https://localhost:8080/"
        },
        "id": "7PidUCmwm24_",
        "outputId": "db29f87b-7b35-4947-c4c8-acb8dfe2db0e"
      },
      "source": [
        "#c_exp_inner - внутренние коды\n",
        "#c_exp_outer - внещние коды\n",
        "outer_code_msg_vector = []\n",
        "\n",
        "for j in range(L):#на каждый слой\n",
        "  outer_code_msg_vector.append(np.array(msg_layer_to_vector(2**c_exp_inner, message[j], GF_outer) @ G_open[j]))\n",
        "# получаем кодовые слова внешнего кода\n",
        "outer_code_msg_vector = GF_outer(np.array(outer_code_msg_vector))\n",
        "print(outer_code_msg_vector.shape)"
      ],
      "execution_count": null,
      "outputs": [
        {
          "output_type": "stream",
          "name": "stdout",
          "text": [
            "(4, 255)\n"
          ]
        }
      ]
    },
    {
      "cell_type": "code",
      "metadata": {
        "id": "QHLGqgT7l8fk",
        "colab": {
          "base_uri": "https://localhost:8080/"
        },
        "outputId": "47cef63a-39e3-424d-f031-9e01795f8a6f"
      },
      "source": [
        "#------------------проверка, что при декодировании получим наше сообщение---------------------------\n",
        "coder = rs.RSCoder(n = n_B, k = k[0], generator=gen, prim = outer_prime, fcr = 1, c_exp = c_exp_outer)\n",
        "\n",
        "decoded,_ = coder.decode(outer_code_msg_vector[0] @ LA.inv(P_G_private), k = k[0], return_string=False)\n",
        "decoded = insert_left(np.array(decoded), k[0])\n",
        "\n",
        "check = msg_layer_to_vector(2**c_exp_inner,message[0], GF_outer)\n",
        "print(GF_outer(np.array(decoded)) @ LA.inv(S_G_private[0]) == check)\n",
        "print(decoded,check, sep = '\\n')"
      ],
      "execution_count": null,
      "outputs": [
        {
          "output_type": "stream",
          "name": "stdout",
          "text": [
            "[ True  True  True  True  True  True  True  True  True  True  True  True\n",
            "  True  True  True  True  True  True  True  True  True  True  True  True\n",
            "  True  True  True  True  True  True  True  True  True  True  True  True\n",
            "  True  True  True  True  True  True  True  True  True  True  True  True\n",
            "  True  True  True  True  True  True  True  True  True  True  True  True\n",
            "  True  True  True  True  True  True  True  True  True  True  True  True\n",
            "  True  True  True  True  True  True  True  True  True  True  True  True\n",
            "  True  True  True  True  True  True  True  True  True  True  True  True\n",
            "  True  True  True  True  True  True  True  True  True  True  True  True\n",
            "  True  True  True  True  True  True  True  True  True  True  True  True\n",
            "  True  True  True  True  True  True  True  True  True  True  True  True\n",
            "  True  True  True  True  True  True  True  True  True  True  True  True\n",
            "  True  True  True  True  True]\n",
            "[185, 201, 33, 54, 38, 177, 3, 149, 232, 193, 85, 195, 169, 17, 120, 195, 21, 58, 138, 44, 136, 44, 15, 237, 115, 86, 171, 239, 15, 8, 22, 47, 18, 98, 71, 128, 246, 181, 155, 157, 24, 234, 188, 236, 18, 12, 20, 174, 93, 10, 166, 10, 127, 99, 83, 126, 55, 26, 94, 255, 100, 201, 239, 206, 253, 36, 169, 122, 44, 245, 204, 176, 35, 205, 10, 116, 221, 106, 246, 190, 49, 183, 11, 15, 161, 9, 73, 210, 190, 17, 243, 236, 252, 108, 60, 104, 203, 14, 92, 236, 63, 255, 9, 158, 94, 229, 208, 123, 161, 67, 182, 101, 62, 93, 211, 244, 18, 77, 101, 123, 213, 215, 54, 193, 68, 252, 215, 83, 13, 110, 195, 157, 55, 200, 138, 131, 60, 84, 208, 139, 106, 181, 130, 253, 177, 240, 202, 186, 19]\n",
            "GF([197, 142, 161,  98, 164, 231, 203, 165, 109, 181,  60, 192, 218, 153,\n",
            "     92,  56, 108,  96, 144, 158,  11,  52, 150, 165,  80, 156,  87,  30,\n",
            "     72,  55, 176, 108,  56,  45, 158, 137, 171,  84, 116, 232, 204, 196,\n",
            "    186, 160, 122, 218, 213, 236, 118, 171, 233, 108,  13, 218,  69, 125,\n",
            "    193,  52, 209,  21, 238,  11, 132, 129,   8,  78, 212,  85, 152, 230,\n",
            "    178, 141, 238,  25, 130, 140,  16,  69,  26, 186, 121, 218, 155,  60,\n",
            "     97, 217, 237, 234, 149, 154,  22, 205, 187,  64, 173, 114, 157,  41,\n",
            "     38, 101,  30,  36, 140, 150, 194, 136, 138, 112, 211,  12, 225,  49,\n",
            "     37,  28,  84, 192, 138,   8,  71, 199,  88, 148,  42, 153,  70,  86,\n",
            "    229, 108, 156,  81, 169, 190, 119, 137,  75,  25, 212, 216,  42, 123,\n",
            "     78, 112, 122, 136, 217, 194,   7,   4,  49], order=2^8)\n"
          ]
        }
      ]
    },
    {
      "cell_type": "code",
      "metadata": {
        "id": "asU3RAsvaXW1",
        "colab": {
          "base_uri": "https://localhost:8080/"
        },
        "outputId": "65987df6-f89e-4bca-939e-123713f62a51"
      },
      "source": [
        "#переводим обратно в слоистую структуру, но уже в виде двумерной матрицы\n",
        "outer_code_msg = []\n",
        "for j in range(L):\n",
        "  buf = msg_vector_to_layer(2**c_exp_inner, outer_code_msg_vector[j], GF_outer)\n",
        "  outer_code_msg.append(np.array(buf[0]))\n",
        "  outer_code_msg.append(np.array(buf[1]))\n",
        "\n",
        "outer_code_msg = GF_inner(np.array(outer_code_msg))\n",
        "print(outer_code_msg)"
      ],
      "execution_count": null,
      "outputs": [
        {
          "output_type": "stream",
          "name": "stdout",
          "text": [
            "GF([[ 3, 14, 13, ...,  7, 15,  6],\n",
            "    [ 6, 15,  2, ...,  7,  6,  8],\n",
            "    [14, 12,  6, ..., 10,  2, 12],\n",
            "    ...,\n",
            "    [ 8, 14,  5, ...,  4,  3,  5],\n",
            "    [12,  7,  9, ...,  7, 15,  1],\n",
            "    [ 8,  2, 13, ..., 11,  7, 11]], order=2^4)\n"
          ]
        }
      ]
    },
    {
      "cell_type": "markdown",
      "metadata": {
        "id": "D60pueW9amw1"
      },
      "source": [
        "#Заготовка синдромов внутренних кодов\n",
        "Этот этап необходим, так как по нему мы определим векторы ошибок, чтобы их вычесть из зашумленной матрицы (нашего сообщения)"
      ]
    },
    {
      "cell_type": "code",
      "metadata": {
        "id": "gY6MF8aYMePE",
        "colab": {
          "base_uri": "https://localhost:8080/"
        },
        "outputId": "92d058b2-0954-4d16-8c65-1d49d50f2d72"
      },
      "source": [
        "#----------------------------внутренние коды------------------------------------\n",
        "gen = 2\n",
        "inner_prime = ff.find_prime_polynomials(generator=gen,c_exp=c_exp_inner,single=True)\n",
        "\n",
        "ff.init_lut(generator=gen,prim=inner_prime,c_exp=c_exp_inner) #инициализируем поле GF(16)\n",
        "\n",
        "H = [] #матрица будет квадратной\n",
        "\n",
        "for i in range(n_A):\n",
        "  H.append([(ff.GF2int(gen)**i)**j for j in range(n_A)])\n",
        "H = GF_inner(np.array(H))\n",
        "print(H)"
      ],
      "execution_count": null,
      "outputs": [
        {
          "output_type": "stream",
          "name": "stdout",
          "text": [
            "GF([[ 1,  1,  1,  1,  1,  1,  1,  1],\n",
            "    [ 1,  2,  4,  8,  3,  6, 12, 11],\n",
            "    [ 1,  4,  3, 12,  5,  7, 15,  9],\n",
            "    [ 1,  8, 12, 10, 15,  1,  8, 12],\n",
            "    [ 1,  3,  5, 15,  2,  6, 10, 13],\n",
            "    [ 1,  6,  7,  1,  6,  7,  1,  6],\n",
            "    [ 1, 12, 15,  8, 10,  1, 12, 15],\n",
            "    [ 1, 11,  9, 12, 13,  6, 15,  3]], order=2^4)\n"
          ]
        }
      ]
    },
    {
      "cell_type": "code",
      "metadata": {
        "id": "SevsfNgAKhVH",
        "colab": {
          "base_uri": "https://localhost:8080/"
        },
        "outputId": "d5fbdb34-1c95-4642-ea2e-55023c2fb83e"
      },
      "source": [
        "#----------- сами синдромы-----------\n",
        "# рассмотрим все возможные ошибки со значениями 0 и 1\n",
        "import itertools #для вариаций векторов ошибок\n",
        "\n",
        "\n",
        "e_var = GF_inner([list(i) for i in itertools.product([0, 1], repeat=n_A)][1:]) #все вариации ошибок\n",
        "\n",
        "print('Error variations',len(e_var))\n",
        "S_iter = []  # все варианты синдромов \n",
        "H_iter = []  # все наборы матриц\n",
        "\n",
        "\n",
        "for i in range(L):\n",
        "  H_matrix = GF_inner(np.array([H[i] for i in range(2*(i + 1))]))\n",
        "  H_iter.append(H_matrix)  \n",
        "  \n",
        "  S_var = [H_iter[i] @ e for e in e_var] #все синдромы ошибок для данной матрицы\n",
        "  S_iter.append(S_var)"
      ],
      "execution_count": null,
      "outputs": [
        {
          "output_type": "stream",
          "name": "stdout",
          "text": [
            "Error variations 255\n"
          ]
        }
      ]
    },
    {
      "cell_type": "code",
      "metadata": {
        "colab": {
          "base_uri": "https://localhost:8080/"
        },
        "id": "x5cKyKgoCIgC",
        "outputId": "7acb13fb-8383-4e32-d4a7-9e1eec6a9883"
      },
      "source": [
        "print(S_iter[0][0])"
      ],
      "execution_count": null,
      "outputs": [
        {
          "output_type": "stream",
          "name": "stdout",
          "text": [
            "GF([ 1, 11], order=2^4)\n"
          ]
        }
      ]
    },
    {
      "cell_type": "code",
      "metadata": {
        "id": "16xX3W24TYor"
      },
      "source": [
        "# из-за трудностей с функциями index() и np.where() будем использовать свою функцию (массивы numpy требуют np.all() или np.any())\n",
        "def get_index_np(arr, subarr):\n",
        "  for i in range(len(arr)):\n",
        "    if (arr[i] == subarr).all():\n",
        "      return i\n",
        "      break\n",
        "  return -1  # если все же не нашелся"
      ],
      "execution_count": null,
      "outputs": []
    },
    {
      "cell_type": "code",
      "metadata": {
        "id": "6wsOt3wZNY0U",
        "colab": {
          "base_uri": "https://localhost:8080/"
        },
        "outputId": "4fef184d-8c44-418b-ca1b-a0fb9a2ed45e"
      },
      "source": [
        "print(np.array(S_iter[0][0]))\n",
        "print(S_iter[0][1])\n",
        "print(S_iter[1][2])\n",
        "print(S_iter[2][3])"
      ],
      "execution_count": null,
      "outputs": [
        {
          "output_type": "stream",
          "name": "stdout",
          "text": [
            "[ 1 11]\n",
            "GF([ 1, 12], order=2^4)\n",
            "GF([0, 7, 6, 4], order=2^4)\n",
            "GF([1, 6, 7, 1, 6, 7], order=2^4)\n"
          ]
        }
      ]
    },
    {
      "cell_type": "markdown",
      "metadata": {
        "id": "x1wzJxR9jmEz"
      },
      "source": [
        "#Обратная матрица над полем \n",
        "Благодаря библиотеке Galois можно быстро посчитать обратную матрицу над нужным полем"
      ]
    },
    {
      "cell_type": "code",
      "metadata": {
        "id": "wHDUfo7Ygqz5",
        "colab": {
          "base_uri": "https://localhost:8080/"
        },
        "outputId": "299acfcb-a913-474a-9b19-164f23e51a8c"
      },
      "source": [
        "H_inv = np.linalg.inv(H)\n",
        "print(H_inv)\n",
        "print(H @ H_inv)"
      ],
      "execution_count": null,
      "outputs": [
        {
          "output_type": "stream",
          "name": "stdout",
          "text": [
            "GF([[ 9, 15, 14,  4, 13,  9, 11,  2],\n",
            "    [15,  6, 14, 12,  9, 12, 15,  1],\n",
            "    [14, 14,  5,  0, 14,  3,  9,  1],\n",
            "    [ 4, 12,  0, 15, 14,  3,  1, 11],\n",
            "    [13,  9, 14, 14,  6,  0,  1,  3],\n",
            "    [ 9, 12,  3,  3,  0,  4, 13, 12],\n",
            "    [11, 15,  9,  1,  1, 13,  1,  1],\n",
            "    [ 2,  1,  1, 11,  3, 12,  1,  7]], order=2^4)\n",
            "GF([[1, 0, 0, 0, 0, 0, 0, 0],\n",
            "    [0, 1, 0, 0, 0, 0, 0, 0],\n",
            "    [0, 0, 1, 0, 0, 0, 0, 0],\n",
            "    [0, 0, 0, 1, 0, 0, 0, 0],\n",
            "    [0, 0, 0, 0, 1, 0, 0, 0],\n",
            "    [0, 0, 0, 0, 0, 1, 0, 0],\n",
            "    [0, 0, 0, 0, 0, 0, 1, 0],\n",
            "    [0, 0, 0, 0, 0, 0, 0, 1]], order=2^4)\n"
          ]
        }
      ]
    },
    {
      "cell_type": "code",
      "metadata": {
        "colab": {
          "base_uri": "https://localhost:8080/"
        },
        "id": "9F_Tp8plX_ry",
        "outputId": "65a2c7ef-d22b-4793-ed5c-fe06d4c044ea"
      },
      "source": [
        "# обратная к P над полем GF16\n",
        "P_G_private_inv = GF_inner(LA.inv(P_G_private))  \n",
        "print(P_G_private_inv)\n",
        "print(GF_outer(P_G_private_inv) @ P_G_private)"
      ],
      "execution_count": null,
      "outputs": [
        {
          "output_type": "stream",
          "name": "stdout",
          "text": [
            "GF([[0, 0, 0, ..., 0, 0, 0],\n",
            "    [0, 0, 0, ..., 0, 0, 0],\n",
            "    [0, 0, 0, ..., 0, 0, 0],\n",
            "    ...,\n",
            "    [0, 0, 0, ..., 0, 0, 0],\n",
            "    [0, 0, 0, ..., 0, 0, 0],\n",
            "    [0, 0, 0, ..., 0, 0, 0]], order=2^4)\n",
            "GF([[1, 0, 0, ..., 0, 0, 0],\n",
            "    [0, 1, 0, ..., 0, 0, 0],\n",
            "    [0, 0, 1, ..., 0, 0, 0],\n",
            "    ...,\n",
            "    [0, 0, 0, ..., 1, 0, 0],\n",
            "    [0, 0, 0, ..., 0, 1, 0],\n",
            "    [0, 0, 0, ..., 0, 0, 1]], order=2^8)\n"
          ]
        }
      ]
    },
    {
      "cell_type": "markdown",
      "metadata": {
        "id": "qjIGUf4fLKjb"
      },
      "source": [
        "#Отправка сообщения \n",
        "\n"
      ]
    },
    {
      "cell_type": "code",
      "metadata": {
        "id": "XidEfzrSmefI",
        "colab": {
          "base_uri": "https://localhost:8080/"
        },
        "outputId": "c9d15e87-21b8-4e82-a563-053dbeb8b06d"
      },
      "source": [
        "print('inner code',outer_code_msg,sep='\\n')\n",
        "inner_code_msg = H_inv @ outer_code_msg  # умножаем на обратную к проверочной матрице внутреннего кода\n",
        "print('Message to send', inner_code_msg,sep='\\n')\n",
        "print('Message shape',inner_code_msg.shape)\n",
        "print('H*H^(-1)*C product',H @ inner_code_msg, sep='\\n')"
      ],
      "execution_count": null,
      "outputs": [
        {
          "output_type": "stream",
          "name": "stdout",
          "text": [
            "inner code\n",
            "GF([[ 3, 14, 13, ...,  7, 15,  6],\n",
            "    [ 6, 15,  2, ...,  7,  6,  8],\n",
            "    [14, 12,  6, ..., 10,  2, 12],\n",
            "    ...,\n",
            "    [ 8, 14,  5, ...,  4,  3,  5],\n",
            "    [12,  7,  9, ...,  7, 15,  1],\n",
            "    [ 8,  2, 13, ..., 11,  7, 11]], order=2^4)\n",
            "Message to send\n",
            "GF([[ 0,  9, 10, ...,  1, 10,  9],\n",
            "    [ 1,  6,  2, ...,  8, 13,  3],\n",
            "    [ 8, 11,  9, ...,  3,  3,  7],\n",
            "    ...,\n",
            "    [13, 11,  7, ...,  4,  7, 12],\n",
            "    [12,  4, 14, ..., 12,  5,  6],\n",
            "    [ 7,  3,  8, ..., 14,  1,  4]], order=2^4)\n",
            "Message shape (8, 255)\n",
            "H*H^(-1)*C product\n",
            "GF([[ 3, 14, 13, ...,  7, 15,  6],\n",
            "    [ 6, 15,  2, ...,  7,  6,  8],\n",
            "    [14, 12,  6, ..., 10,  2, 12],\n",
            "    ...,\n",
            "    [ 8, 14,  5, ...,  4,  3,  5],\n",
            "    [12,  7,  9, ...,  7, 15,  1],\n",
            "    [ 8,  2, 13, ..., 11,  7, 11]], order=2^4)\n"
          ]
        }
      ]
    },
    {
      "cell_type": "markdown",
      "metadata": {
        "id": "Wacq09XprioY"
      },
      "source": [
        "#Передача по каналу\n",
        "При передаче по каналу связи получаем помехи и ошибки в данных."
      ]
    },
    {
      "cell_type": "code",
      "metadata": {
        "id": "ZmH7-95GpMFp",
        "colab": {
          "base_uri": "https://localhost:8080/"
        },
        "outputId": "c170b628-1139-4099-eefa-6ef23133f3b4"
      },
      "source": [
        "noise = GF_inner(np.random.choice(2, (n_A,n_B), p=[0.99, 0.01]))\n",
        "print(noise)"
      ],
      "execution_count": null,
      "outputs": [
        {
          "output_type": "stream",
          "name": "stdout",
          "text": [
            "GF([[0, 0, 0, ..., 0, 0, 0],\n",
            "    [0, 0, 0, ..., 0, 0, 0],\n",
            "    [0, 0, 0, ..., 0, 0, 0],\n",
            "    ...,\n",
            "    [0, 1, 0, ..., 0, 0, 0],\n",
            "    [0, 1, 0, ..., 1, 0, 0],\n",
            "    [0, 1, 0, ..., 0, 0, 0]], order=2^4)\n"
          ]
        }
      ]
    },
    {
      "cell_type": "code",
      "metadata": {
        "id": "na9_RPoCB4je",
        "colab": {
          "base_uri": "https://localhost:8080/"
        },
        "outputId": "23ddd56b-e206-41de-eef7-9ee967a8ccaa"
      },
      "source": [
        "# анализируем число ошибок при умножении матрицы шума на проверочную матрицу внешнего кода\n",
        "for num in range(len(H_iter)):\n",
        "  noise_H = H_iter[num] @ noise @ P_G_private_inv\n",
        "  print(f'location: {np.where(noise_H[0] != 0)}')\n",
        "  for i in noise_H:\n",
        "    count = 0\n",
        "    for j in i:\n",
        "      if j!=0:\n",
        "        count += 1\n",
        "    print(f'{count} errors when H № {num}')"
      ],
      "execution_count": null,
      "outputs": [
        {
          "output_type": "stream",
          "name": "stdout",
          "text": [
            "location: (array([ 29,  40,  42,  62,  70,  73,  93, 112, 133, 157, 171, 190, 226,\n",
            "       237, 239, 251]),)\n",
            "16 errors when H № 0\n",
            "17 errors when H № 0\n",
            "location: (array([ 29,  40,  42,  62,  70,  73,  93, 112, 133, 157, 171, 190, 226,\n",
            "       237, 239, 251]),)\n",
            "16 errors when H № 1\n",
            "17 errors when H № 1\n",
            "17 errors when H № 1\n",
            "17 errors when H № 1\n",
            "location: (array([ 29,  40,  42,  62,  70,  73,  93, 112, 133, 157, 171, 190, 226,\n",
            "       237, 239, 251]),)\n",
            "16 errors when H № 2\n",
            "17 errors when H № 2\n",
            "17 errors when H № 2\n",
            "17 errors when H № 2\n",
            "17 errors when H № 2\n",
            "16 errors when H № 2\n",
            "location: (array([ 29,  40,  42,  62,  70,  73,  93, 112, 133, 157, 171, 190, 226,\n",
            "       237, 239, 251]),)\n",
            "16 errors when H № 3\n",
            "17 errors when H № 3\n",
            "17 errors when H № 3\n",
            "17 errors when H № 3\n",
            "17 errors when H № 3\n",
            "16 errors when H № 3\n",
            "17 errors when H № 3\n",
            "17 errors when H № 3\n"
          ]
        }
      ]
    },
    {
      "cell_type": "markdown",
      "metadata": {
        "id": "ISzYJNaRrotT"
      },
      "source": [
        "#Декодирование ОЛО-кода "
      ]
    },
    {
      "cell_type": "code",
      "metadata": {
        "id": "W3kdhjb2Jbir"
      },
      "source": [
        "corrupted_msg = noise + inner_code_msg"
      ],
      "execution_count": null,
      "outputs": []
    },
    {
      "cell_type": "code",
      "metadata": {
        "id": "i4V81Qkp4dUY",
        "colab": {
          "base_uri": "https://localhost:8080/"
        },
        "outputId": "71b7b290-65d0-482b-ff18-ca3ff01b8d7b"
      },
      "source": [
        "import copy\n",
        "\n",
        "# процесс декодирования итеративный и идет по слоям\n",
        "decoding_msg = corrupted_msg @ P_G_private_inv  # избавляемся от матрицы P\n",
        "count = 0\n",
        "j = 0\n",
        "i = 0\n",
        "# H_iter - содержит проверочные матрицы на каждую итерацию\n",
        "# S_iter - содержит синдромы под каждую проверочную матрицу H_iter[i]\n",
        "# e_var - содержит векторы ошибок, которые соответствуют синдромам\n",
        "# k - содержит число информационных симовлов в каждой паре строк (слое)\n",
        "gen = 2\n",
        "exp = c_exp_outer\n",
        "\n",
        "for j in range(L):\n",
        "  print(f'--- iter no {j} ---')\n",
        "  # все изменения будем фиксировать в исходной переменной - decoding_msg\n",
        "  V = H_iter[j] @ decoding_msg  # даст нам матрицу, соответствующую накопленным слоям \n",
        "\n",
        "\n",
        "  V_check = H_iter[j] @ inner_code_msg  # смотрим сколько ошибок имеется (для наглядности)\n",
        "  for i in V:\n",
        "    print(f'{np.sum(V - V_check)} errors')\n",
        "\n",
        "\n",
        "  prev_iter_matrix = [0]*(2*(j + 1))  # будем запоминать слои до декодирования внешними слоями и после\n",
        "\n",
        "  for i in range(len(V)):\n",
        "    prev_iter_matrix[i] = copy.deepcopy(V[i])  # запомнили именно всю накопленную матрицу\n",
        "  \n",
        "  prev_iter_matrix = GF_inner(np.array(prev_iter_matrix))\n",
        "\n",
        "  outer_msg_to_decode = GF_inner(np.array([V[j + j],V[j + j + 1]]))  # я хочу взять именно нужный, неисправленный слой\n",
        "  \n",
        "  outer_msg_to_decode = msg_layer_to_vector(2**c_exp_inner,outer_msg_to_decode, GF_outer)\n",
        "\n",
        "  coder = rs.RSCoder(n_B, k[j], generator=gen, prim=outer_prime, c_exp=exp)  # инициализируем кодер для декодирования\n",
        "  \n",
        "  buf_corr, buf_ecc = coder.decode(outer_msg_to_decode, return_string=False)  # декодируем внешними кодами, исправляя ошибки, только в нужном нам слое\n",
        "  buf_corr = insert_left([q for q in buf_corr] + [q for q in buf_ecc], n_B)  # храним исправленное сообщение\n",
        "\n",
        "  # из внешнего декодера надо выходить уже в новом поле -- поле внутреннего кода\n",
        "  buf_corr = msg_vector_to_layer(2**c_exp_inner,buf_corr, GF_inner)  # записываем исправленное\n",
        "  V[j + j], V[j + j + 1] = buf_corr[0], buf_corr[1]  # записываем по строкам в слое\n",
        "\n",
        "# вычитание ошибок не на исходном, а на H^(-1), т.е. непоср на decoding_msg\n",
        "\n",
        "# я исправляю ошибки только, чтобы найти синдром для внутреннего кода\n",
        "\n",
        "  Syndromes = []  # Находим синдромы для внутреннего кода, в виде H[i]*e  \n",
        "  Syndromes = prev_iter_matrix - V\n",
        "    \n",
        "    \n",
        "  list_of_error_vectors = []\n",
        "  for i in range(len(Syndromes[0])):  # итерируем по рядам\n",
        "    buf = [Syndromes[j][i] for j in range(len(Syndromes))]\n",
        "\n",
        "    if any(buf):  # если синдром ненулевой, то мы должны его найти, иначе - падение алгоритма\n",
        "      index = get_index_np(S_iter[j], buf)\n",
        "      if index != -1:      \n",
        "        error_vector = e_var[index]\n",
        "        list_of_error_vectors.append(error_vector)\n",
        "      else:\n",
        "        print('not found')\n",
        "        error_vector = GF_inner([0]*n_A)\n",
        "        list_of_error_vectors.append(error_vector)\n",
        "    else:\n",
        "      error_vector = GF_inner([0]*n_A)\n",
        "      list_of_error_vectors.append(error_vector)\n",
        "\n",
        "  list_of_error_vectors = GF_inner(np.array(list_of_error_vectors)).T  # транспонируем\n",
        "  decoding_msg = decoding_msg - list_of_error_vectors"
      ],
      "execution_count": null,
      "outputs": [
        {
          "output_type": "stream",
          "name": "stdout",
          "text": [
            "--- iter no 0 ---\n",
            "11 errors\n",
            "11 errors\n",
            "--- iter no 1 ---\n",
            "4 errors\n",
            "4 errors\n",
            "4 errors\n",
            "4 errors\n",
            "--- iter no 2 ---\n",
            "0 errors\n",
            "0 errors\n",
            "0 errors\n",
            "0 errors\n",
            "0 errors\n",
            "0 errors\n",
            "--- iter no 3 ---\n",
            "0 errors\n",
            "0 errors\n",
            "0 errors\n",
            "0 errors\n",
            "0 errors\n",
            "0 errors\n",
            "0 errors\n",
            "0 errors\n"
          ]
        }
      ]
    },
    {
      "cell_type": "code",
      "metadata": {
        "id": "ZEpPrJ5nISUZ"
      },
      "source": [
        "# причесываем исправленное сообщение умножением на обратные матрицы (закрытые ключи)\n",
        "received_msg = H @ decoding_msg\n",
        "check = []\n",
        "for i in range(L):\n",
        "  for j in range(2):\n",
        "    check.append(received_msg[i + i + j][:k[i]])\n",
        "\n",
        "result = []\n",
        "for j in range(L):\n",
        "  result.append(msg_layer_to_vector(2 ** c_exp_inner, [check[j + j], check[j + j + 1]], GF_outer) @ LA.inv(S_G_private[j]))\n",
        "  \n"
      ],
      "execution_count": null,
      "outputs": []
    },
    {
      "cell_type": "code",
      "metadata": {
        "colab": {
          "base_uri": "https://localhost:8080/"
        },
        "id": "LkZDzYBdgBLx",
        "outputId": "7853e28f-5e98-4439-afc4-3b41c3c12312"
      },
      "source": [
        "# проверяем, что это наше сообщение\n",
        "final = []\n",
        "for i in range(L):\n",
        "  final.append(np.array(msg_vector_to_layer(2 ** c_exp_inner, result[i], GF_inner)[0]))\n",
        "  final.append(np.array(msg_vector_to_layer(2 ** c_exp_inner, result[i], GF_inner)[1]))\n",
        "\n",
        "for i in range(L):\n",
        "  for j in range(2):\n",
        "    print(np.array(final[i + i + j]).tolist() == message[i][j])\n",
        "    print(len(message[i][j]),np.array(final[i + i +j]).tolist(),message[i][j],sep='\\n')"
      ],
      "execution_count": null,
      "outputs": [
        {
          "output_type": "stream",
          "name": "stdout",
          "text": [
            "[ True  True  True  True  True  True  True  True  True  True  True  True\n",
            "  True  True  True  True  True  True  True  True  True  True  True  True\n",
            "  True  True  True  True  True  True  True  True  True  True  True  True\n",
            "  True  True  True  True  True  True  True  True  True  True  True  True\n",
            "  True  True  True  True  True  True  True  True  True  True  True  True\n",
            "  True  True  True  True  True  True  True  True  True  True  True  True\n",
            "  True  True  True  True  True  True  True  True  True  True  True  True\n",
            "  True  True  True  True  True  True  True  True  True  True  True  True\n",
            "  True  True  True  True  True  True  True  True  True  True  True  True\n",
            "  True  True  True  True  True  True  True  True  True  True  True  True\n",
            "  True  True  True  True  True  True  True  True  True  True  True  True\n",
            "  True  True  True  True  True  True  True  True  True  True  True  True\n",
            "  True  True  True  True  True]\n",
            "149\n",
            "[12, 8, 10, 6, 10, 14, 12, 10, 6, 11, 3, 12, 13, 9, 5, 3, 6, 6, 9, 9, 0, 3, 9, 10, 5, 9, 5, 1, 4, 3, 11, 6, 3, 2, 9, 8, 10, 5, 7, 14, 12, 12, 11, 10, 7, 13, 13, 14, 7, 10, 14, 6, 0, 13, 4, 7, 12, 3, 13, 1, 14, 0, 8, 8, 0, 4, 13, 5, 9, 14, 11, 8, 14, 1, 8, 8, 1, 4, 1, 11, 7, 13, 9, 3, 6, 13, 14, 14, 9, 9, 1, 12, 11, 4, 10, 7, 9, 2, 2, 6, 1, 2, 8, 9, 12, 8, 8, 7, 13, 0, 14, 3, 2, 1, 5, 12, 8, 0, 4, 12, 5, 9, 2, 9, 4, 5, 14, 6, 9, 5, 10, 11, 7, 8, 4, 1, 13, 13, 2, 7, 4, 7, 7, 8, 13, 12, 0, 0, 3]\n",
            "[12  8 10  6 10 14 12 10  6 11  3 12 13  9  5  3  6  6  9  9  0  3  9 10\n",
            "  5  9  5  1  4  3 11  6  3  2  9  8 10  5  7 14 12 12 11 10  7 13 13 14\n",
            "  7 10 14  6  0 13  4  7 12  3 13  1 14  0  8  8  0  4 13  5  9 14 11  8\n",
            " 14  1  8  8  1  4  1 11  7 13  9  3  6 13 14 14  9  9  1 12 11  4 10  7\n",
            "  9  2  2  6  1  2  8  9 12  8  8  7 13  0 14  3  2  1  5 12  8  0  4 12\n",
            "  5  9  2  9  4  5 14  6  9  5 10 11  7  8  4  1 13 13  2  7  4  7  7  8\n",
            " 13 12  0  0  3]\n",
            "[ True  True  True  True  True  True  True  True  True  True  True  True\n",
            "  True  True  True  True  True  True  True  True  True  True  True  True\n",
            "  True  True  True  True  True  True  True  True  True  True  True  True\n",
            "  True  True  True  True  True  True  True  True  True  True  True  True\n",
            "  True  True  True  True  True  True  True  True  True  True  True  True\n",
            "  True  True  True  True  True  True  True  True  True  True  True  True\n",
            "  True  True  True  True  True  True  True  True  True  True  True  True\n",
            "  True  True  True  True  True  True  True  True  True  True  True  True\n",
            "  True  True  True  True  True  True  True  True  True  True  True  True\n",
            "  True  True  True  True  True  True  True  True  True  True  True  True\n",
            "  True  True  True  True  True  True  True  True  True  True  True  True\n",
            "  True  True  True  True  True  True  True  True  True  True  True  True\n",
            "  True  True  True  True  True]\n",
            "149\n",
            "[5, 14, 1, 2, 4, 7, 11, 5, 13, 5, 12, 0, 10, 9, 12, 8, 12, 0, 0, 14, 11, 4, 6, 5, 0, 12, 7, 14, 8, 7, 0, 12, 8, 13, 14, 9, 11, 4, 4, 8, 12, 4, 10, 0, 10, 10, 5, 12, 6, 11, 9, 12, 13, 10, 5, 13, 1, 4, 1, 5, 14, 11, 4, 1, 8, 14, 4, 5, 8, 6, 2, 13, 14, 9, 2, 12, 0, 5, 10, 10, 9, 10, 11, 12, 1, 9, 13, 10, 5, 10, 6, 13, 11, 0, 13, 2, 13, 9, 6, 5, 14, 4, 12, 6, 2, 8, 10, 0, 3, 12, 1, 1, 5, 12, 4, 0, 10, 8, 7, 7, 8, 4, 10, 9, 6, 6, 5, 12, 12, 1, 9, 14, 7, 9, 11, 9, 4, 8, 10, 11, 14, 0, 10, 8, 9, 2, 7, 4, 1]\n",
            "[ 5 14  1  2  4  7 11  5 13  5 12  0 10  9 12  8 12  0  0 14 11  4  6  5\n",
            "  0 12  7 14  8  7  0 12  8 13 14  9 11  4  4  8 12  4 10  0 10 10  5 12\n",
            "  6 11  9 12 13 10  5 13  1  4  1  5 14 11  4  1  8 14  4  5  8  6  2 13\n",
            " 14  9  2 12  0  5 10 10  9 10 11 12  1  9 13 10  5 10  6 13 11  0 13  2\n",
            " 13  9  6  5 14  4 12  6  2  8 10  0  3 12  1  1  5 12  4  0 10  8  7  7\n",
            "  8  4 10  9  6  6  5 12 12  1  9 14  7  9 11  9  4  8 10 11 14  0 10  8\n",
            "  9  2  7  4  1]\n",
            "[ True  True  True  True  True  True  True  True  True  True  True  True\n",
            "  True  True  True  True  True  True  True  True  True  True  True  True\n",
            "  True  True  True  True  True  True  True  True  True  True  True  True\n",
            "  True  True  True  True  True  True  True  True  True  True  True  True\n",
            "  True  True  True  True  True  True  True  True  True  True  True  True\n",
            "  True  True  True  True  True  True  True  True  True  True  True  True\n",
            "  True  True  True  True  True  True  True  True  True  True  True  True\n",
            "  True  True  True  True  True  True  True  True  True  True  True  True\n",
            "  True  True  True  True  True  True  True  True  True  True  True  True\n",
            "  True  True  True  True  True  True  True  True  True  True  True  True\n",
            "  True  True  True  True  True  True  True  True  True  True  True  True\n",
            "  True  True  True  True  True  True  True  True  True  True  True  True\n",
            "  True  True  True  True  True  True  True  True  True  True  True  True\n",
            "  True  True  True  True  True  True  True  True  True  True  True  True\n",
            "  True  True  True  True  True  True  True  True  True  True  True  True\n",
            "  True  True  True  True  True  True  True  True  True  True  True  True\n",
            "  True  True  True  True  True  True  True  True  True  True  True  True\n",
            "  True  True  True  True  True  True  True  True  True  True  True  True\n",
            "  True  True  True  True  True  True  True  True  True  True  True  True\n",
            "  True]\n",
            "229\n",
            "[2, 2, 3, 7, 4, 13, 8, 7, 7, 2, 14, 4, 10, 11, 0, 8, 7, 4, 5, 9, 14, 6, 2, 9, 5, 10, 8, 1, 6, 4, 3, 8, 11, 10, 9, 8, 8, 6, 10, 12, 6, 14, 2, 9, 12, 2, 4, 5, 11, 4, 5, 14, 8, 8, 1, 5, 5, 14, 8, 14, 13, 3, 12, 12, 8, 12, 10, 3, 5, 13, 13, 9, 2, 4, 6, 0, 6, 0, 12, 3, 14, 10, 5, 10, 3, 6, 4, 2, 5, 9, 8, 12, 13, 1, 3, 2, 13, 3, 9, 10, 14, 13, 6, 2, 4, 7, 14, 10, 4, 2, 12, 14, 13, 8, 2, 9, 4, 0, 2, 2, 6, 13, 9, 12, 2, 10, 2, 14, 5, 0, 7, 9, 1, 6, 2, 13, 4, 4, 6, 4, 1, 1, 11, 3, 3, 6, 11, 13, 1, 7, 9, 1, 13, 14, 6, 13, 0, 5, 1, 2, 1, 9, 4, 7, 6, 14, 4, 7, 9, 13, 7, 2, 1, 0, 7, 7, 12, 14, 6, 5, 13, 6, 12, 14, 3, 13, 14, 6, 5, 8, 9, 1, 7, 11, 4, 7, 3, 4, 7, 3, 10, 3, 6, 3, 0, 4, 6, 9, 12, 9, 0, 13, 1, 14, 12, 9, 9, 5, 9, 11, 1, 7, 4, 6, 1, 2, 14, 13, 10]\n",
            "[ 2  2  3  7  4 13  8  7  7  2 14  4 10 11  0  8  7  4  5  9 14  6  2  9\n",
            "  5 10  8  1  6  4  3  8 11 10  9  8  8  6 10 12  6 14  2  9 12  2  4  5\n",
            " 11  4  5 14  8  8  1  5  5 14  8 14 13  3 12 12  8 12 10  3  5 13 13  9\n",
            "  2  4  6  0  6  0 12  3 14 10  5 10  3  6  4  2  5  9  8 12 13  1  3  2\n",
            " 13  3  9 10 14 13  6  2  4  7 14 10  4  2 12 14 13  8  2  9  4  0  2  2\n",
            "  6 13  9 12  2 10  2 14  5  0  7  9  1  6  2 13  4  4  6  4  1  1 11  3\n",
            "  3  6 11 13  1  7  9  1 13 14  6 13  0  5  1  2  1  9  4  7  6 14  4  7\n",
            "  9 13  7  2  1  0  7  7 12 14  6  5 13  6 12 14  3 13 14  6  5  8  9  1\n",
            "  7 11  4  7  3  4  7  3 10  3  6  3  0  4  6  9 12  9  0 13  1 14 12  9\n",
            "  9  5  9 11  1  7  4  6  1  2 14 13 10]\n",
            "[ True  True  True  True  True  True  True  True  True  True  True  True\n",
            "  True  True  True  True  True  True  True  True  True  True  True  True\n",
            "  True  True  True  True  True  True  True  True  True  True  True  True\n",
            "  True  True  True  True  True  True  True  True  True  True  True  True\n",
            "  True  True  True  True  True  True  True  True  True  True  True  True\n",
            "  True  True  True  True  True  True  True  True  True  True  True  True\n",
            "  True  True  True  True  True  True  True  True  True  True  True  True\n",
            "  True  True  True  True  True  True  True  True  True  True  True  True\n",
            "  True  True  True  True  True  True  True  True  True  True  True  True\n",
            "  True  True  True  True  True  True  True  True  True  True  True  True\n",
            "  True  True  True  True  True  True  True  True  True  True  True  True\n",
            "  True  True  True  True  True  True  True  True  True  True  True  True\n",
            "  True  True  True  True  True  True  True  True  True  True  True  True\n",
            "  True  True  True  True  True  True  True  True  True  True  True  True\n",
            "  True  True  True  True  True  True  True  True  True  True  True  True\n",
            "  True  True  True  True  True  True  True  True  True  True  True  True\n",
            "  True  True  True  True  True  True  True  True  True  True  True  True\n",
            "  True  True  True  True  True  True  True  True  True  True  True  True\n",
            "  True  True  True  True  True  True  True  True  True  True  True  True\n",
            "  True]\n",
            "229\n",
            "[9, 4, 1, 8, 7, 8, 4, 13, 1, 11, 2, 8, 9, 6, 6, 14, 10, 8, 3, 3, 9, 9, 1, 8, 9, 3, 12, 13, 13, 9, 0, 1, 2, 5, 11, 11, 14, 8, 13, 0, 14, 10, 8, 5, 8, 13, 5, 3, 12, 14, 5, 4, 2, 6, 10, 10, 9, 4, 1, 10, 13, 1, 10, 13, 2, 3, 11, 4, 3, 0, 1, 12, 14, 0, 9, 11, 2, 3, 14, 10, 14, 2, 8, 2, 14, 2, 5, 1, 4, 13, 9, 14, 14, 10, 8, 14, 13, 11, 13, 13, 10, 1, 4, 5, 12, 14, 10, 2, 11, 13, 0, 12, 13, 5, 12, 1, 7, 11, 12, 13, 9, 4, 3, 1, 3, 2, 12, 8, 14, 7, 0, 5, 8, 0, 11, 5, 1, 9, 6, 13, 9, 4, 12, 3, 1, 1, 4, 8, 0, 9, 7, 3, 3, 6, 13, 5, 8, 13, 8, 13, 2, 8, 3, 4, 4, 7, 10, 14, 7, 4, 5, 11, 2, 5, 14, 11, 9, 6, 0, 6, 7, 12, 9, 14, 5, 9, 13, 7, 9, 7, 5, 5, 1, 6, 12, 5, 7, 9, 10, 0, 14, 12, 8, 11, 11, 9, 8, 12, 7, 9, 5, 11, 11, 7, 3, 0, 2, 11, 1, 12, 9, 6, 7, 13, 0, 11, 13, 5, 3]\n",
            "[ 9  4  1  8  7  8  4 13  1 11  2  8  9  6  6 14 10  8  3  3  9  9  1  8\n",
            "  9  3 12 13 13  9  0  1  2  5 11 11 14  8 13  0 14 10  8  5  8 13  5  3\n",
            " 12 14  5  4  2  6 10 10  9  4  1 10 13  1 10 13  2  3 11  4  3  0  1 12\n",
            " 14  0  9 11  2  3 14 10 14  2  8  2 14  2  5  1  4 13  9 14 14 10  8 14\n",
            " 13 11 13 13 10  1  4  5 12 14 10  2 11 13  0 12 13  5 12  1  7 11 12 13\n",
            "  9  4  3  1  3  2 12  8 14  7  0  5  8  0 11  5  1  9  6 13  9  4 12  3\n",
            "  1  1  4  8  0  9  7  3  3  6 13  5  8 13  8 13  2  8  3  4  4  7 10 14\n",
            "  7  4  5 11  2  5 14 11  9  6  0  6  7 12  9 14  5  9 13  7  9  7  5  5\n",
            "  1  6 12  5  7  9 10  0 14 12  8 11 11  9  8 12  7  9  5 11 11  7  3  0\n",
            "  2 11  1 12  9  6  7 13  0 11 13  5  3]\n",
            "[ True  True  True  True  True  True  True  True  True  True  True  True\n",
            "  True  True  True  True  True  True  True  True  True  True  True  True\n",
            "  True  True  True  True  True  True  True  True  True  True  True  True\n",
            "  True  True  True  True  True  True  True  True  True  True  True  True\n",
            "  True  True  True  True  True  True  True  True  True  True  True  True\n",
            "  True  True  True  True  True  True  True  True  True  True  True  True\n",
            "  True  True  True  True  True  True  True  True  True  True  True  True\n",
            "  True  True  True  True  True  True  True  True  True  True  True  True\n",
            "  True  True  True  True  True  True  True  True  True  True  True  True\n",
            "  True  True  True  True  True  True  True  True  True  True  True  True\n",
            "  True  True  True  True  True  True  True  True  True  True  True  True\n",
            "  True  True  True  True  True  True  True  True  True  True  True  True\n",
            "  True  True  True  True  True  True  True  True  True  True  True  True\n",
            "  True  True  True  True  True  True  True  True  True  True  True  True\n",
            "  True  True  True  True  True  True  True  True  True  True  True  True\n",
            "  True  True  True  True  True  True  True  True  True  True  True  True\n",
            "  True  True  True  True  True  True  True  True  True  True  True  True\n",
            "  True  True  True  True  True  True  True  True  True  True  True  True\n",
            "  True  True  True  True  True  True  True  True  True  True  True  True\n",
            "  True  True  True  True  True  True  True  True  True  True  True  True\n",
            "  True  True  True  True  True]\n",
            "245\n",
            "[7, 13, 9, 14, 2, 4, 9, 5, 5, 3, 9, 9, 3, 13, 8, 11, 2, 3, 8, 1, 8, 0, 11, 12, 8, 2, 8, 0, 5, 2, 1, 13, 9, 9, 13, 10, 10, 2, 0, 10, 7, 9, 7, 11, 7, 12, 13, 12, 3, 7, 1, 3, 7, 10, 5, 14, 0, 3, 10, 13, 9, 3, 5, 14, 8, 1, 6, 2, 2, 4, 8, 1, 8, 4, 7, 10, 4, 1, 13, 9, 14, 1, 4, 9, 11, 12, 0, 10, 0, 2, 4, 13, 11, 1, 5, 0, 1, 0, 2, 11, 1, 0, 3, 3, 0, 11, 2, 1, 1, 14, 5, 12, 8, 6, 14, 9, 5, 5, 10, 9, 7, 4, 13, 4, 12, 14, 11, 12, 9, 1, 14, 4, 14, 14, 0, 2, 3, 13, 12, 8, 9, 14, 0, 3, 3, 7, 4, 6, 6, 4, 13, 14, 10, 6, 8, 4, 12, 4, 8, 0, 13, 12, 14, 6, 8, 6, 13, 6, 3, 5, 7, 14, 13, 12, 5, 7, 3, 14, 5, 7, 4, 11, 9, 8, 0, 13, 9, 2, 6, 6, 9, 6, 12, 7, 6, 10, 3, 6, 0, 3, 6, 14, 12, 13, 2, 5, 6, 14, 2, 2, 14, 2, 2, 1, 8, 2, 10, 10, 3, 4, 8, 13, 14, 0, 5, 13, 4, 6, 11, 7, 1, 1, 7, 7, 9, 0, 7, 7, 9, 9, 10, 5, 11, 10, 0]\n",
            "[ 7 13  9 14  2  4  9  5  5  3  9  9  3 13  8 11  2  3  8  1  8  0 11 12\n",
            "  8  2  8  0  5  2  1 13  9  9 13 10 10  2  0 10  7  9  7 11  7 12 13 12\n",
            "  3  7  1  3  7 10  5 14  0  3 10 13  9  3  5 14  8  1  6  2  2  4  8  1\n",
            "  8  4  7 10  4  1 13  9 14  1  4  9 11 12  0 10  0  2  4 13 11  1  5  0\n",
            "  1  0  2 11  1  0  3  3  0 11  2  1  1 14  5 12  8  6 14  9  5  5 10  9\n",
            "  7  4 13  4 12 14 11 12  9  1 14  4 14 14  0  2  3 13 12  8  9 14  0  3\n",
            "  3  7  4  6  6  4 13 14 10  6  8  4 12  4  8  0 13 12 14  6  8  6 13  6\n",
            "  3  5  7 14 13 12  5  7  3 14  5  7  4 11  9  8  0 13  9  2  6  6  9  6\n",
            " 12  7  6 10  3  6  0  3  6 14 12 13  2  5  6 14  2  2 14  2  2  1  8  2\n",
            " 10 10  3  4  8 13 14  0  5 13  4  6 11  7  1  1  7  7  9  0  7  7  9  9\n",
            " 10  5 11 10  0]\n",
            "[ True  True  True  True  True  True  True  True  True  True  True  True\n",
            "  True  True  True  True  True  True  True  True  True  True  True  True\n",
            "  True  True  True  True  True  True  True  True  True  True  True  True\n",
            "  True  True  True  True  True  True  True  True  True  True  True  True\n",
            "  True  True  True  True  True  True  True  True  True  True  True  True\n",
            "  True  True  True  True  True  True  True  True  True  True  True  True\n",
            "  True  True  True  True  True  True  True  True  True  True  True  True\n",
            "  True  True  True  True  True  True  True  True  True  True  True  True\n",
            "  True  True  True  True  True  True  True  True  True  True  True  True\n",
            "  True  True  True  True  True  True  True  True  True  True  True  True\n",
            "  True  True  True  True  True  True  True  True  True  True  True  True\n",
            "  True  True  True  True  True  True  True  True  True  True  True  True\n",
            "  True  True  True  True  True  True  True  True  True  True  True  True\n",
            "  True  True  True  True  True  True  True  True  True  True  True  True\n",
            "  True  True  True  True  True  True  True  True  True  True  True  True\n",
            "  True  True  True  True  True  True  True  True  True  True  True  True\n",
            "  True  True  True  True  True  True  True  True  True  True  True  True\n",
            "  True  True  True  True  True  True  True  True  True  True  True  True\n",
            "  True  True  True  True  True  True  True  True  True  True  True  True\n",
            "  True  True  True  True  True  True  True  True  True  True  True  True\n",
            "  True  True  True  True  True]\n",
            "245\n",
            "[5, 4, 1, 7, 12, 13, 6, 9, 4, 0, 7, 9, 5, 3, 13, 11, 10, 12, 1, 11, 8, 9, 7, 4, 2, 2, 14, 9, 5, 1, 0, 11, 2, 1, 9, 10, 2, 4, 8, 0, 10, 11, 6, 9, 2, 12, 3, 6, 10, 6, 13, 2, 11, 14, 1, 6, 0, 11, 6, 13, 4, 4, 8, 8, 1, 0, 5, 13, 0, 13, 2, 9, 3, 5, 8, 0, 13, 13, 2, 0, 11, 13, 10, 12, 1, 5, 1, 1, 11, 12, 3, 7, 7, 4, 11, 9, 0, 6, 4, 8, 6, 3, 5, 10, 3, 5, 2, 12, 10, 14, 10, 11, 13, 3, 3, 10, 7, 12, 12, 9, 11, 13, 0, 0, 14, 12, 14, 14, 6, 8, 5, 3, 14, 5, 13, 8, 3, 10, 10, 11, 1, 0, 14, 13, 6, 5, 8, 0, 10, 13, 7, 4, 4, 14, 6, 11, 10, 4, 1, 2, 13, 13, 11, 0, 6, 7, 3, 3, 12, 13, 6, 12, 12, 12, 5, 7, 1, 1, 10, 7, 14, 7, 13, 13, 5, 14, 0, 0, 11, 11, 7, 13, 7, 1, 8, 5, 9, 7, 10, 10, 1, 0, 7, 8, 11, 2, 10, 8, 4, 10, 14, 8, 10, 10, 14, 3, 8, 14, 7, 6, 0, 12, 0, 0, 11, 0, 10, 14, 12, 2, 9, 10, 7, 6, 11, 14, 12, 9, 13, 14, 12, 9, 4, 12, 10]\n",
            "[ 5  4  1  7 12 13  6  9  4  0  7  9  5  3 13 11 10 12  1 11  8  9  7  4\n",
            "  2  2 14  9  5  1  0 11  2  1  9 10  2  4  8  0 10 11  6  9  2 12  3  6\n",
            " 10  6 13  2 11 14  1  6  0 11  6 13  4  4  8  8  1  0  5 13  0 13  2  9\n",
            "  3  5  8  0 13 13  2  0 11 13 10 12  1  5  1  1 11 12  3  7  7  4 11  9\n",
            "  0  6  4  8  6  3  5 10  3  5  2 12 10 14 10 11 13  3  3 10  7 12 12  9\n",
            " 11 13  0  0 14 12 14 14  6  8  5  3 14  5 13  8  3 10 10 11  1  0 14 13\n",
            "  6  5  8  0 10 13  7  4  4 14  6 11 10  4  1  2 13 13 11  0  6  7  3  3\n",
            " 12 13  6 12 12 12  5  7  1  1 10  7 14  7 13 13  5 14  0  0 11 11  7 13\n",
            "  7  1  8  5  9  7 10 10  1  0  7  8 11  2 10  8  4 10 14  8 10 10 14  3\n",
            "  8 14  7  6  0 12  0  0 11  0 10 14 12  2  9 10  7  6 11 14 12  9 13 14\n",
            " 12  9  4 12 10]\n",
            "[ True  True  True  True  True  True  True  True  True  True  True  True\n",
            "  True  True  True  True  True  True  True  True  True  True  True  True\n",
            "  True  True  True  True  True  True  True  True  True  True  True  True\n",
            "  True  True  True  True  True  True  True  True  True  True  True  True\n",
            "  True  True  True  True  True  True  True  True  True  True  True  True\n",
            "  True  True  True  True  True  True  True  True  True  True  True  True\n",
            "  True  True  True  True  True  True  True  True  True  True  True  True\n",
            "  True  True  True  True  True  True  True  True  True  True  True  True\n",
            "  True  True  True  True  True  True  True  True  True  True  True  True\n",
            "  True  True  True  True  True  True  True  True  True  True  True  True\n",
            "  True  True  True  True  True  True  True  True  True  True  True  True\n",
            "  True  True  True  True  True  True  True  True  True  True  True  True\n",
            "  True  True  True  True  True  True  True  True  True  True  True  True\n",
            "  True  True  True  True  True  True  True  True  True  True  True  True\n",
            "  True  True  True  True  True  True  True  True  True  True  True  True\n",
            "  True  True  True  True  True  True  True  True  True  True  True  True\n",
            "  True  True  True  True  True  True  True  True  True  True  True  True\n",
            "  True  True  True  True  True  True  True  True  True  True  True  True\n",
            "  True  True  True  True  True  True  True  True  True  True  True  True\n",
            "  True  True  True  True  True  True  True  True  True  True  True  True\n",
            "  True  True  True  True  True  True  True  True  True]\n",
            "249\n",
            "[1, 7, 6, 0, 5, 14, 3, 10, 1, 14, 6, 14, 11, 12, 12, 6, 8, 14, 5, 3, 2, 8, 5, 4, 8, 3, 7, 5, 9, 4, 4, 1, 2, 10, 3, 8, 11, 9, 12, 4, 7, 0, 3, 4, 14, 0, 10, 8, 3, 11, 12, 9, 4, 14, 7, 5, 12, 5, 8, 10, 3, 14, 4, 11, 7, 3, 0, 1, 1, 11, 12, 11, 8, 0, 13, 1, 5, 4, 4, 13, 13, 0, 4, 9, 5, 1, 4, 14, 2, 0, 4, 6, 14, 2, 13, 9, 2, 7, 13, 0, 10, 3, 6, 8, 6, 13, 12, 13, 9, 14, 10, 14, 3, 2, 13, 3, 5, 4, 1, 3, 14, 0, 7, 5, 12, 14, 6, 1, 14, 3, 9, 3, 13, 12, 13, 9, 4, 10, 1, 9, 9, 13, 14, 4, 12, 13, 11, 14, 7, 6, 14, 12, 4, 8, 5, 14, 4, 0, 9, 13, 1, 8, 5, 7, 8, 5, 7, 10, 10, 12, 5, 9, 10, 10, 14, 14, 4, 6, 4, 14, 10, 4, 9, 11, 13, 8, 2, 3, 4, 14, 14, 9, 6, 6, 3, 0, 8, 11, 6, 13, 1, 3, 6, 2, 9, 2, 7, 0, 4, 14, 11, 3, 4, 2, 13, 13, 12, 8, 2, 4, 12, 12, 6, 12, 9, 10, 0, 13, 12, 0, 3, 3, 8, 6, 0, 3, 0, 7, 8, 4, 7, 4, 14, 11, 9, 14, 10, 13, 14]\n",
            "[ 1  7  6  0  5 14  3 10  1 14  6 14 11 12 12  6  8 14  5  3  2  8  5  4\n",
            "  8  3  7  5  9  4  4  1  2 10  3  8 11  9 12  4  7  0  3  4 14  0 10  8\n",
            "  3 11 12  9  4 14  7  5 12  5  8 10  3 14  4 11  7  3  0  1  1 11 12 11\n",
            "  8  0 13  1  5  4  4 13 13  0  4  9  5  1  4 14  2  0  4  6 14  2 13  9\n",
            "  2  7 13  0 10  3  6  8  6 13 12 13  9 14 10 14  3  2 13  3  5  4  1  3\n",
            " 14  0  7  5 12 14  6  1 14  3  9  3 13 12 13  9  4 10  1  9  9 13 14  4\n",
            " 12 13 11 14  7  6 14 12  4  8  5 14  4  0  9 13  1  8  5  7  8  5  7 10\n",
            " 10 12  5  9 10 10 14 14  4  6  4 14 10  4  9 11 13  8  2  3  4 14 14  9\n",
            "  6  6  3  0  8 11  6 13  1  3  6  2  9  2  7  0  4 14 11  3  4  2 13 13\n",
            " 12  8  2  4 12 12  6 12  9 10  0 13 12  0  3  3  8  6  0  3  0  7  8  4\n",
            "  7  4 14 11  9 14 10 13 14]\n",
            "[ True  True  True  True  True  True  True  True  True  True  True  True\n",
            "  True  True  True  True  True  True  True  True  True  True  True  True\n",
            "  True  True  True  True  True  True  True  True  True  True  True  True\n",
            "  True  True  True  True  True  True  True  True  True  True  True  True\n",
            "  True  True  True  True  True  True  True  True  True  True  True  True\n",
            "  True  True  True  True  True  True  True  True  True  True  True  True\n",
            "  True  True  True  True  True  True  True  True  True  True  True  True\n",
            "  True  True  True  True  True  True  True  True  True  True  True  True\n",
            "  True  True  True  True  True  True  True  True  True  True  True  True\n",
            "  True  True  True  True  True  True  True  True  True  True  True  True\n",
            "  True  True  True  True  True  True  True  True  True  True  True  True\n",
            "  True  True  True  True  True  True  True  True  True  True  True  True\n",
            "  True  True  True  True  True  True  True  True  True  True  True  True\n",
            "  True  True  True  True  True  True  True  True  True  True  True  True\n",
            "  True  True  True  True  True  True  True  True  True  True  True  True\n",
            "  True  True  True  True  True  True  True  True  True  True  True  True\n",
            "  True  True  True  True  True  True  True  True  True  True  True  True\n",
            "  True  True  True  True  True  True  True  True  True  True  True  True\n",
            "  True  True  True  True  True  True  True  True  True  True  True  True\n",
            "  True  True  True  True  True  True  True  True  True  True  True  True\n",
            "  True  True  True  True  True  True  True  True  True]\n",
            "249\n",
            "[9, 3, 7, 6, 7, 0, 5, 13, 10, 7, 5, 10, 7, 7, 7, 6, 4, 6, 11, 10, 6, 8, 8, 0, 11, 9, 11, 3, 2, 6, 10, 3, 3, 2, 8, 12, 8, 2, 12, 6, 4, 6, 8, 11, 14, 9, 2, 2, 1, 14, 3, 5, 12, 6, 0, 0, 10, 13, 1, 14, 14, 9, 4, 12, 1, 9, 10, 7, 7, 7, 7, 12, 11, 14, 3, 4, 5, 1, 1, 3, 6, 6, 3, 6, 10, 2, 2, 4, 12, 0, 0, 6, 7, 4, 9, 11, 2, 2, 0, 0, 3, 2, 12, 9, 6, 11, 12, 11, 0, 3, 9, 11, 1, 2, 0, 0, 2, 3, 4, 7, 13, 8, 13, 5, 6, 2, 11, 0, 13, 0, 1, 10, 11, 2, 3, 6, 10, 0, 9, 3, 1, 12, 3, 1, 12, 6, 4, 4, 14, 1, 4, 14, 14, 2, 14, 6, 6, 1, 7, 8, 7, 0, 5, 12, 8, 12, 11, 12, 2, 8, 9, 5, 4, 14, 0, 6, 6, 12, 0, 4, 2, 14, 1, 6, 8, 9, 12, 12, 13, 12, 3, 9, 7, 9, 4, 10, 7, 12, 12, 5, 4, 5, 6, 11, 0, 12, 8, 7, 5, 0, 0, 14, 6, 7, 10, 14, 4, 9, 7, 3, 2, 0, 6, 13, 11, 4, 13, 10, 3, 8, 9, 12, 8, 11, 14, 0, 14, 2, 6, 14, 3, 7, 4, 6, 9, 8, 2, 14, 8]\n",
            "[ 9  3  7  6  7  0  5 13 10  7  5 10  7  7  7  6  4  6 11 10  6  8  8  0\n",
            " 11  9 11  3  2  6 10  3  3  2  8 12  8  2 12  6  4  6  8 11 14  9  2  2\n",
            "  1 14  3  5 12  6  0  0 10 13  1 14 14  9  4 12  1  9 10  7  7  7  7 12\n",
            " 11 14  3  4  5  1  1  3  6  6  3  6 10  2  2  4 12  0  0  6  7  4  9 11\n",
            "  2  2  0  0  3  2 12  9  6 11 12 11  0  3  9 11  1  2  0  0  2  3  4  7\n",
            " 13  8 13  5  6  2 11  0 13  0  1 10 11  2  3  6 10  0  9  3  1 12  3  1\n",
            " 12  6  4  4 14  1  4 14 14  2 14  6  6  1  7  8  7  0  5 12  8 12 11 12\n",
            "  2  8  9  5  4 14  0  6  6 12  0  4  2 14  1  6  8  9 12 12 13 12  3  9\n",
            "  7  9  4 10  7 12 12  5  4  5  6 11  0 12  8  7  5  0  0 14  6  7 10 14\n",
            "  4  9  7  3  2  0  6 13 11  4 13 10  3  8  9 12  8 11 14  0 14  2  6 14\n",
            "  3  7  4  6  9  8  2 14  8]\n"
          ]
        }
      ]
    },
    {
      "cell_type": "code",
      "metadata": {
        "id": "GNWmUFuvkKZf"
      },
      "source": [
        ""
      ],
      "execution_count": null,
      "outputs": []
    }
  ]
}